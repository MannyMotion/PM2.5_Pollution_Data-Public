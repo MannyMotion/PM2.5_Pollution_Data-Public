{
 "cells": [
  {
   "cell_type": "code",
   "execution_count": 1,
   "id": "92d5fbc8-8ce6-46ef-a392-0ca16421a5c5",
   "metadata": {},
   "outputs": [
    {
     "name": "stdout",
     "output_type": "stream",
     "text": [
      "Dataset successfully loaded.\n",
      "Shape of dataset: (443, 39)\n",
      "   numeric_area_code composite_area_code Local Authority  PM2.5 2012 (total)  \\\n",
      "0                1.0           E07000223            Adur             10.6389   \n",
      "1                2.0           E07000026       Allerdale              6.5756   \n",
      "2                4.0           E07000032    Amber Valley             10.4766   \n",
      "3                5.0           E07000224            Arun             10.0845   \n",
      "4                6.0           E07000170        Ashfield             11.1841   \n",
      "\n",
      "   PM2.5 2012 (non-anthropogenic)  PM2.5 2012 (anthropogenic)  \\\n",
      "0                          2.2917                      8.3472   \n",
      "1                          1.9619                      4.6137   \n",
      "2                          2.0689                      8.4077   \n",
      "3                          2.2713                      7.8132   \n",
      "4                          2.0643                      9.1198   \n",
      "\n",
      "   PM2.5 2013 (total)  PM2.5 2013 (non-anthropogenic)  \\\n",
      "0             10.6921                          2.2585   \n",
      "1              7.7929                          2.0712   \n",
      "2             11.4846                          2.1134   \n",
      "3             10.2866                          2.2479   \n",
      "4             12.4289                          2.1252   \n",
      "\n",
      "   PM2.5 2013 (anthropogenic)  PM2.5 2014 (total)  ...  \\\n",
      "0                      8.4336              9.9463  ...   \n",
      "1                      5.7217              7.4504  ...   \n",
      "2                      9.3712             11.0645  ...   \n",
      "3                      8.0387              9.4999  ...   \n",
      "4                     10.3037             11.9074  ...   \n",
      "\n",
      "   PM2.5 2020 (anthropogenic)  PM2.5 2021 (total)  \\\n",
      "0                      7.2997              7.0149   \n",
      "1                      3.4988              4.1881   \n",
      "2                      6.1756              7.3653   \n",
      "3                      6.8259              6.6727   \n",
      "4                      6.3142              7.1594   \n",
      "\n",
      "   PM2.5 2021 (non-anthropogenic)  PM2.5 2021 (anthropogenic)  \\\n",
      "0                          0.4359                      6.5789   \n",
      "1                          0.3771                      3.8111   \n",
      "2                          0.3931                      6.9722   \n",
      "3                          0.4561                      6.2166   \n",
      "4                          0.3942                      6.7652   \n",
      "\n",
      "   PM2.5 2022 (total)  PM2.5 2022 (non-anthropogenic)  \\\n",
      "0              6.1201                          0.4796   \n",
      "1              4.4952                          0.4057   \n",
      "2              8.4402                          0.4471   \n",
      "3              6.1542                          0.5002   \n",
      "4              8.0922                          0.4392   \n",
      "\n",
      "   PM2.5 2022 (anthropogenic)  PM2.5 2023 (total)  \\\n",
      "0                      5.6405              6.5450   \n",
      "1                      4.0895                 NaN   \n",
      "2                      7.9930              7.6181   \n",
      "3                      5.6540              6.0371   \n",
      "4                      7.6530              7.6735   \n",
      "\n",
      "   PM2.5 2023 (non-anthropogenic)  PM2.5 2023 (anthropogenic)  \n",
      "0                          0.6770                      5.8680  \n",
      "1                             NaN                         NaN  \n",
      "2                          0.5581                      7.0601  \n",
      "3                          0.6374                      5.3997  \n",
      "4                          0.5575                      7.1160  \n",
      "\n",
      "[5 rows x 39 columns]\n"
     ]
    }
   ],
   "source": [
    "# scripts/data_cleaning.py\n",
    "import pandas as pd\n",
    "import os\n",
    "\n",
    "# 📌 Define the file path to your raw data\n",
    "Environmental_data = os.path.join(\"C:/Users/emman/Downloads/PM2.5_Pollution_Data-Public/Data/Cleaned_Air_Quality_Data_AT(in).csv\")\n",
    "\n",
    "# 📥 Load the data into a pandas DataFrame\n",
    "df = pd.read_csv(Environmental_data)\n",
    "\n",
    "#Preview the shape and head to confirm it loaded correctly\n",
    "print(\"Dataset successfully loaded.\")\n",
    "print(f\"Shape of dataset: {df.shape}\")  # (rows, columns)\n",
    "print(df.head())  # Display first 5 rows\n"
   ]
  },
  {
   "cell_type": "code",
   "execution_count": null,
   "id": "7ff6c8a4-c924-4c1d-827f-f799385a8189",
   "metadata": {},
   "outputs": [],
   "source": []
  }
 ],
 "metadata": {
  "kernelspec": {
   "display_name": "Python 3 (ipykernel)",
   "language": "python",
   "name": "python3"
  },
  "language_info": {
   "codemirror_mode": {
    "name": "ipython",
    "version": 3
   },
   "file_extension": ".py",
   "mimetype": "text/x-python",
   "name": "python",
   "nbconvert_exporter": "python",
   "pygments_lexer": "ipython3",
   "version": "3.13.2"
  }
 },
 "nbformat": 4,
 "nbformat_minor": 5
}
