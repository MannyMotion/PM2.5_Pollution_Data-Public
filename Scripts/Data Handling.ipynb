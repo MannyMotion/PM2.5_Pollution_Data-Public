{
 "cells": [
  {
   "cell_type": "code",
   "execution_count": null,
   "id": "92d5fbc8-8ce6-46ef-a392-0ca16421a5c5",
   "metadata": {},
   "outputs": [],
   "source": [
    "# scripts/data_cleaning.py\n",
    "\n",
    "import pandas as pd\n",
    "import os\n",
    "\n",
    "# 📌 Define the file path to your raw data\n",
    "data_path = os.path.join(\"..\", \"data\", \"Cleaned_Air_Quality_Data_AT(in).csv\")\n",
    "\n",
    "# 📥 Load the data into a pandas DataFrame\n",
    "df = pd.read_csv(data_path)\n",
    "\n",
    "# 🔍 Preview the shape and head to confirm it loaded correctly\n",
    "print(\"✅ Dataset successfully loaded.\")\n",
    "print(f\"Shape of dataset: {df.shape}\")  # (rows, columns)\n",
    "print(df.head())  # Display first 5 rows\n"
   ]
  }
 ],
 "metadata": {
  "kernelspec": {
   "display_name": "Python 3 (ipykernel)",
   "language": "python",
   "name": "python3"
  },
  "language_info": {
   "codemirror_mode": {
    "name": "ipython",
    "version": 3
   },
   "file_extension": ".py",
   "mimetype": "text/x-python",
   "name": "python",
   "nbconvert_exporter": "python",
   "pygments_lexer": "ipython3",
   "version": "3.13.2"
  }
 },
 "nbformat": 4,
 "nbformat_minor": 5
}
