{
 "cells": [
  {
   "cell_type": "code",
   "execution_count": 10,
   "id": "c2adcb5b-7f75-4926-b0e3-97437e97aee1",
   "metadata": {},
   "outputs": [
    {
     "name": "stdout",
     "output_type": "stream",
     "text": [
      "Dataset successfully loaded.\n",
      "Shape of dataset: (309, 39)\n",
      "   Numeric Area Code  Area Code Local Authority Name  PM2.5 2012 (total)  \\\n",
      "0                1.0  E07000223                 Adur             10.6389   \n",
      "1                2.0  E07000026            Allerdale              6.5756   \n",
      "2                4.0  E07000032         Amber Valley             10.4766   \n",
      "3                5.0  E07000224                 Arun             10.0845   \n",
      "4                6.0  E07000170             Ashfield             11.1841   \n",
      "\n",
      "   PM2.5 2012 (non-anthropogenic)  PM2.5 2012 (anthropogenic)  \\\n",
      "0                          2.2917                      8.3472   \n",
      "1                          1.9619                      4.6137   \n",
      "2                          2.0689                      8.4077   \n",
      "3                          2.2713                      7.8132   \n",
      "4                          2.0643                      9.1198   \n",
      "\n",
      "   PM2.5 2013 (total)  PM2.5 2013 (non-anthropogenic)  \\\n",
      "0             10.6921                          2.2585   \n",
      "1              7.7929                          2.0712   \n",
      "2             11.4846                          2.1134   \n",
      "3             10.2866                          2.2479   \n",
      "4             12.4289                          2.1252   \n",
      "\n",
      "   PM2.5 2013 (anthropogenic)  PM2.5 2014 (total)  ...  \\\n",
      "0                      8.4336              9.9463  ...   \n",
      "1                      5.7217              7.4504  ...   \n",
      "2                      9.3712             11.0645  ...   \n",
      "3                      8.0387              9.4999  ...   \n",
      "4                     10.3037             11.9074  ...   \n",
      "\n",
      "   PM2.5 2020 (anthropogenic)  PM2.5 2021 (total)  \\\n",
      "0                      7.2997              7.0149   \n",
      "1                      3.4988              4.1881   \n",
      "2                      6.1756              7.3653   \n",
      "3                      6.8259              6.6727   \n",
      "4                      6.3142              7.1594   \n",
      "\n",
      "   PM2.5 2021 (non-anthropogenic)  PM2.5 2021 (anthropogenic)  \\\n",
      "0                          0.4359                      6.5789   \n",
      "1                          0.3771                      3.8111   \n",
      "2                          0.3931                      6.9722   \n",
      "3                          0.4561                      6.2166   \n",
      "4                          0.3942                      6.7652   \n",
      "\n",
      "   PM2.5 2022 (total)  PM2.5 2022 (non-anthropogenic)  \\\n",
      "0              6.1201                          0.4796   \n",
      "1              4.4952                          0.4057   \n",
      "2              8.4402                          0.4471   \n",
      "3              6.1542                          0.5002   \n",
      "4              8.0922                          0.4392   \n",
      "\n",
      "   PM2.5 2022 (anthropogenic)  PM2.5 2023 (total)  \\\n",
      "0                      5.6405              6.5450   \n",
      "1                      4.0895                 NaN   \n",
      "2                      7.9930              7.6181   \n",
      "3                      5.6540              6.0371   \n",
      "4                      7.6530              7.6735   \n",
      "\n",
      "   PM2.5 2023 (non-anthropogenic)  PM2.5 2023 (anthropogenic)  \n",
      "0                          0.6770                      5.8680  \n",
      "1                             NaN                         NaN  \n",
      "2                          0.5581                      7.0601  \n",
      "3                          0.6374                      5.3997  \n",
      "4                          0.5575                      7.1160  \n",
      "\n",
      "[5 rows x 39 columns]\n",
      "['Numeric Area Code', 'Area Code', 'Local Authority Name', 'PM2.5 2012 (total)', 'PM2.5 2012 (non-anthropogenic)', 'PM2.5 2012 (anthropogenic)', 'PM2.5 2013 (total)', 'PM2.5 2013 (non-anthropogenic)', 'PM2.5 2013 (anthropogenic)', 'PM2.5 2014 (total)', 'PM2.5 2014 (non-anthropogenic)', 'PM2.5 2014 (anthropogenic)', 'PM2.5 2015 (total)', 'PM2.5 2015 (non-anthropogenic)', 'PM2.5 2015 (anthropogenic)', 'PM2.5 2016 (total)', 'PM2.5 2016 (non-anthropogenic)', 'PM2.5 2016 (anthropogenic)', 'PM2.5 2017 (total)', 'PM2.5 2017 (non-anthropogenic)', 'PM2.5 2017 (anthropogenic)', 'PM2.5 2018 (total)', 'PM2.5 2018 (non-anthropogenic)', 'PM2.5 2018 (anthropogenic)', 'PM2.5 2019 (total)', 'PM2.5 2019 (non-anthropogenic)', 'PM2.5 2019 (anthropogenic)', 'PM2.5 2020 (total)', 'PM2.5 2020 (non-anthropogenic)', 'PM2.5 2020 (anthropogenic)', 'PM2.5 2021 (total)', 'PM2.5 2021 (non-anthropogenic)', 'PM2.5 2021 (anthropogenic)', 'PM2.5 2022 (total)', 'PM2.5 2022 (non-anthropogenic)', 'PM2.5 2022 (anthropogenic)', 'PM2.5 2023 (total)', 'PM2.5 2023 (non-anthropogenic)', 'PM2.5 2023 (anthropogenic)']\n"
     ]
    }
   ],
   "source": [
    "#Import required libraries\n",
    "import pandas as pd#For data handling\n",
    "import os\n",
    "from prophet import Prophet\n",
    "from tqdm import tqdm#For progress bar on group iteration\n",
    "\n",
    "\n",
    "#load the file path to your raw data\n",
    "Environmental_data = os.path.join(\"C:/Users/emman/Downloads/PM2.5_Pollution_Data-Public/Scripts/Cleaned_Environmental_Data_Prophet.csv\")\n",
    "\n",
    "# Load the data into a pandas DataFrame\n",
    "df = pd.read_csv(Environmental_data)\n",
    "\n",
    "#Preview the shape and head to confirm it loaded correctly\n",
    "print(\"Dataset successfully loaded.\")\n",
    "print(f\"Shape of dataset: {df.shape}\")#(rows, columns)\n",
    "print(df.head())#Display first 5 rows\n",
    "print(df.columns.tolist())#Check column names\n",
    "\n"
   ]
  },
  {
   "cell_type": "code",
   "execution_count": 13,
   "id": "e10e6a2a-0e27-43d0-a264-b9b4772644ae",
   "metadata": {},
   "outputs": [
    {
     "name": "stdout",
     "output_type": "stream",
     "text": [
      "Local Authority Name      0\n",
      "Area Code                 0\n",
      "PM2.5                   100\n",
      "year                      0\n",
      "ds                        0\n",
      "dtype: int64\n"
     ]
    }
   ],
   "source": [
    "#STEP 2: RESHAPE FROM WIDE TO LONG FORMAT\n",
    "# Identify PM2.5 total columns (exclude anthropogenic breakdowns)\n",
    "pm_columns = [col for col in df.columns if \"PM2.5\" in col and \"(total)\" in col]\n",
    "\n",
    "# ID columns for location metadata\n",
    "id_columns = ['Local Authority Name', 'Area Code']\n",
    "\n",
    "# Convert from wide to long format\n",
    "df_long_format = df.melt(id_vars=id_columns, value_vars=pm_columns,\n",
    "                  var_name='year_label', value_name='PM2.5')\n",
    "\n",
    "# Extract year number and create date column (Prophet uses datetime)\n",
    "df_long_format['year'] = df_long_format['year_label'].str.extract(r'(\\d{4})').astype(int)\n",
    "df_long_format['ds'] = pd.to_datetime(df_long_format['year'], format='%Y')\n",
    "\n",
    "# Drop original label column (we don’t need it anymore)\n",
    "df_long_format = df_long_format.drop(columns=['year_label'])\n",
    "\n",
    "# OPTIONAL: Check missing data\n",
    "print(df_long_format.isna().sum())"
   ]
  },
  {
   "cell_type": "code",
   "execution_count": null,
   "id": "2db38638-e8a4-4c4e-854b-ad9091418e16",
   "metadata": {},
   "outputs": [],
   "source": [
    "#STEP 3: DEFINE A FUNCTION TO DETECT GAPS\n",
    "# Function to check if there are large year gaps\n",
    "def has_large_year_gaps(group):\n",
    "    years = sorted(group['year'].dropna().unique())\n",
    "    if len(years) < 3:\n",
    "        return True  # Too little data\n",
    "    gaps = [b - a for a, b in zip(years, years[1:])]\n",
    "    return max(gaps) > 5  # More than 5-year gap is too large\n"
   ]
  }
 ],
 "metadata": {
  "kernelspec": {
   "display_name": "Python 3 (ipykernel)",
   "language": "python",
   "name": "python3"
  },
  "language_info": {
   "codemirror_mode": {
    "name": "ipython",
    "version": 3
   },
   "file_extension": ".py",
   "mimetype": "text/x-python",
   "name": "python",
   "nbconvert_exporter": "python",
   "pygments_lexer": "ipython3",
   "version": "3.13.2"
  }
 },
 "nbformat": 4,
 "nbformat_minor": 5
}
