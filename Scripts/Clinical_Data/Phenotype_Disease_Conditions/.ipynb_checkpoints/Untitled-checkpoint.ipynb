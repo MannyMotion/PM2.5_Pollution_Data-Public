{
 "cells": [
  {
   "cell_type": "code",
   "execution_count": 16,
   "id": "375a3d91-a405-4241-b066-9347cab42e9d",
   "metadata": {},
   "outputs": [],
   "source": [
    "#Step 1 : Import libraries and load the data\n",
    "import pandas as pd\n",
    "\n",
    "# Load your clinical datasets\n",
    "ckd = pd.read_csv(\"CKD_QOF_prevalence_indicators-CountiesUAsfromApr2023.data.csv\")\n",
    "t2d = pd.read_csv(\"Estimated_prevalence_type2diabetes_indicators-CountiesUAsfromApr2023.data.csv\")\n",
    "asthma = pd.read_csv(\"RespD_Asthma_QOF_prevalence_indicators-CountiesUAsfromApr2023.data.csv\")\n",
    "cvd = pd.read_csv(\"Admission_alcohol_ralated_CVD_indicators-CountiesUAsfromApr2023.data.csv\")"
   ]
  },
  {
   "cell_type": "code",
   "execution_count": 17,
   "id": "e1d9f1de-121d-4aaa-a5f1-b1dad44e08b9",
   "metadata": {},
   "outputs": [],
   "source": [
    "#Find common columns and prepare for merge\n",
    "# Label each condition\n",
    "ckd[\"Condition\"] = \"CKD\"\n",
    "t2d[\"Condition\"] = \"Type 2 Diabetes\"\n",
    "asthma[\"Condition\"] = \"Asthma\"\n",
    "cvd[\"Condition\"] = \"Alcohol-related CVD\"\n"
   ]
  },
  {
   "cell_type": "code",
   "execution_count": 18,
   "id": "ec1e6aa4-82ac-47b7-9ba6-283cf59645ec",
   "metadata": {},
   "outputs": [],
   "source": [
    "#step 3 : Standardise and strip columns\n",
    "for df in [ckd, t2d, asthma, cvd]:\n",
    "    df.columns = df.columns.str.strip()\n"
   ]
  },
  {
   "cell_type": "code",
   "execution_count": 19,
   "id": "5d5ad415-c893-4014-bc94-933a26fd0483",
   "metadata": {},
   "outputs": [],
   "source": [
    "#Merge into a unified clinical dataset\n",
    "clinical_data = pd.concat([ckd, t2d, asthma, cvd], ignore_index=True)\n"
   ]
  },
  {
   "cell_type": "code",
   "execution_count": 11,
   "id": "0bf08d90-0180-4154-b2b9-d6171f7ca9b8",
   "metadata": {},
   "outputs": [
    {
     "name": "stdout",
     "output_type": "stream",
     "text": [
      "Index(['Parent Code', 'Area Type', 'Indicator Name', 'Area Code',\n",
      "       'Compared to goal', 'Denominator', 'Compared to percentiles', 'Value',\n",
      "       'Compared to England value or percentiles', 'Lower CI 95.0 limit',\n",
      "       'Time period Sortable', 'Category Type', 'New data', 'Time period',\n",
      "       'Upper CI 99.8 limit', 'Parent Name', 'Lower CI 99.8 limit', 'Age',\n",
      "       'Category', 'Time period range', 'Indicator ID', 'Sex', 'Value note',\n",
      "       'Area Name', 'Upper CI 95.0 limit', 'Count', 'Recent Trend',\n",
      "       'Condition'],\n",
      "      dtype='object')\n"
     ]
    }
   ],
   "source": [
    "print(clinical_data.columns)"
   ]
  },
  {
   "cell_type": "code",
   "execution_count": 20,
   "id": "63ab4157-c7f9-4314-81e5-1dd28dabd6be",
   "metadata": {},
   "outputs": [
    {
     "name": "stdout",
     "output_type": "stream",
     "text": [
      "(8562, 28)\n",
      "Condition\n",
      "Alcohol-related CVD    5172\n",
      "CKD                    2371\n",
      "Asthma                  860\n",
      "Type 2 Diabetes         159\n",
      "Name: count, dtype: int64\n",
      "['2012/13' '2013/14' '2014/15' '2015/16' '2016/17' '2017/18' '2018/19'\n",
      " '2019/20' '2020/21' '2021/22' '2022/23' '2023/24' 2021]\n"
     ]
    }
   ],
   "source": [
    "print(clinical_data.shape)\n",
    "print(clinical_data[\"Condition\"].value_counts())\n",
    "print(clinical_data[\"Time period\"].unique())\n"
   ]
  },
  {
   "cell_type": "code",
   "execution_count": 21,
   "id": "59557bf7-7324-4d62-b0a7-7b1d332a4cdc",
   "metadata": {},
   "outputs": [
    {
     "name": "stdout",
     "output_type": "stream",
     "text": [
      "   Indicator ID       Indicator Name Parent Code Parent Name  Area Code  \\\n",
      "0           258  CKD: QOF prevalence         NaN         NaN  E92000001   \n",
      "1           258  CKD: QOF prevalence         NaN         NaN  E92000001   \n",
      "2           258  CKD: QOF prevalence         NaN         NaN  E92000001   \n",
      "3           258  CKD: QOF prevalence         NaN         NaN  E92000001   \n",
      "4           258  CKD: QOF prevalence         NaN         NaN  E92000001   \n",
      "\n",
      "  Area Name Area Type      Sex      Age  \\\n",
      "0   England   England  Persons  18+ yrs   \n",
      "1   England   England  Persons  18+ yrs   \n",
      "2   England   England  Persons  18+ yrs   \n",
      "3   England   England  Persons  18+ yrs   \n",
      "4   England   England  Persons  18+ yrs   \n",
      "\n",
      "                                       Category Type  ...   Denominator  \\\n",
      "0                                                NaN  ...  4.423848e+07   \n",
      "1  County & UA deprivation deciles in England (IM...  ...  4.247083e+06   \n",
      "2  County & UA deprivation deciles in England (IM...  ...  2.775558e+06   \n",
      "3  County & UA deprivation deciles in England (IM...  ...  3.827300e+06   \n",
      "4  County & UA deprivation deciles in England (IM...  ...  3.604677e+06   \n",
      "\n",
      "                                          Value note  Recent Trend  \\\n",
      "0      There is a data quality issue with this value           NaN   \n",
      "1  Should be treated with caution, as it contains...           NaN   \n",
      "2   Aggregated from all known lower geography values           NaN   \n",
      "3   Aggregated from all known lower geography values           NaN   \n",
      "4   Aggregated from all known lower geography values           NaN   \n",
      "\n",
      "   Compared to England value or percentiles  Compared to percentiles  \\\n",
      "0                              Not compared             Not compared   \n",
      "1                              Not compared             Not compared   \n",
      "2                              Not compared             Not compared   \n",
      "3                              Not compared             Not compared   \n",
      "4                              Not compared             Not compared   \n",
      "\n",
      "   Time period Sortable  New data  Compared to goal  Time period range  \\\n",
      "0              20120000       NaN               NaN                 1y   \n",
      "1              20120000       NaN               NaN                 1y   \n",
      "2              20120000       NaN               NaN                 1y   \n",
      "3              20120000       NaN               NaN                 1y   \n",
      "4              20120000       NaN               NaN                 1y   \n",
      "\n",
      "  Condition  \n",
      "0       CKD  \n",
      "1       CKD  \n",
      "2       CKD  \n",
      "3       CKD  \n",
      "4       CKD  \n",
      "\n",
      "[5 rows x 28 columns]\n"
     ]
    }
   ],
   "source": [
    "#Preview the cleaned dataset\n",
    "print(clinical_data.head())\n"
   ]
  },
  {
   "cell_type": "code",
   "execution_count": 23,
   "id": "07244e6d-3e59-47ec-a557-27e073be4a61",
   "metadata": {},
   "outputs": [],
   "source": [
    "clinical_data.to_csv(\"merged_clinical_data_V1.csv\", index=False)\n"
   ]
  },
  {
   "cell_type": "code",
   "execution_count": null,
   "id": "78d31d8b-ac0c-4025-9e6f-ffb899365dc8",
   "metadata": {},
   "outputs": [],
   "source": []
  }
 ],
 "metadata": {
  "kernelspec": {
   "display_name": "Python 3 (ipykernel)",
   "language": "python",
   "name": "python3"
  },
  "language_info": {
   "codemirror_mode": {
    "name": "ipython",
    "version": 3
   },
   "file_extension": ".py",
   "mimetype": "text/x-python",
   "name": "python",
   "nbconvert_exporter": "python",
   "pygments_lexer": "ipython3",
   "version": "3.13.2"
  }
 },
 "nbformat": 4,
 "nbformat_minor": 5
}
