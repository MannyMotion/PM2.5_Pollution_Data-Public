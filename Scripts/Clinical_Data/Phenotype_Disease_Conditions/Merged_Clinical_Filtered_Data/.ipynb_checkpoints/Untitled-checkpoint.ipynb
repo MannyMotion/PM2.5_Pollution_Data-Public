{
 "cells": [
  {
   "cell_type": "code",
   "execution_count": 1,
   "id": "c7299d3c-c70a-4208-a95c-5a74a8c3cfb1",
   "metadata": {},
   "outputs": [],
   "source": [
    "import pandas as pd\n",
    "import numpy as np"
   ]
  },
  {
   "cell_type": "code",
   "execution_count": 3,
   "id": "475f0351-d343-4c08-a4f1-229915d0d744",
   "metadata": {},
   "outputs": [
    {
     "name": "stdout",
     "output_type": "stream",
     "text": [
      "Initial shape: (8562, 28)\n"
     ]
    }
   ],
   "source": [
    "# 1) LOAD DATA\n",
    "merged_c_file_path = \"merged_clinical_data_V1.csv\"  # change if needed\n",
    "df = pd.read_csv(merged_c_file_path)\n",
    "print(f\"Initial shape: {df.shape}\")"
   ]
  },
  {
   "cell_type": "code",
   "execution_count": null,
   "id": "7a61ca88-775e-4e69-a161-8c0bc0f4b056",
   "metadata": {},
   "outputs": [],
   "source": [
    "# CONFIG — ADJUST AS NEEDED\n",
    "MISSING_THRESHOLD = 0.8  # 80%\n",
    "BIOLOGICAL_RANGES = {\n",
    "    'systolic_bp': (40, 300),  # example range\n",
    "    'diastolic_bp': (20, 200),\n",
    "    'heart_rate': (30, 250),\n",
    "    'bmi': (10, 80)\n",
    "}\n",
    "ID_COLUMNS = ['patient_id', 'study_id']  # change to your ID columns\n",
    "CATEGORICAL_STANDARDISATION = {\n",
    "    'sex': {'male': 'M', 'm': 'M', 'female': 'F', 'f': 'F'},\n",
    "    'smoking_status': {'yes': 'Yes', 'y': 'Yes', 'no': 'No', 'n': 'No'}\n",
    "}\n",
    "CATEGORICAL_COLUMNS = ['sex', 'smoking_status']  # columns to standardise\n",
    "NUMERIC_COLUMNS = df.select_dtypes(include=[np.number]).columns.tolist()\n"
   ]
  },
  {
   "cell_type": "code",
   "execution_count": null,
   "id": "30efc9b8-c976-4d58-9e2f-b3cfd56807ab",
   "metadata": {},
   "outputs": [],
   "source": [
    "# 2) DROP COLUMNS THAT ARE COMPLETELY EMPTY\n",
    "df.dropna(axis=1, how='all', inplace=True)"
   ]
  },
  {
   "cell_type": "code",
   "execution_count": null,
   "id": "f27fb565-1fa2-4305-8d6b-ef7ce12f9194",
   "metadata": {},
   "outputs": [],
   "source": [
    "# 3) DROP ROWS WITH >80% MISSING CLINICAL MEASUREMENTS\n",
    "non_id_cols = [col for col in df.columns if col not in ID_COLUMNS]\n",
    "df = df[df[non_id_cols].isnull().mean(axis=1) < MISSING_THRESHOLD]"
   ]
  },
  {
   "cell_type": "code",
   "execution_count": null,
   "id": "1e55704a-2b82-49b8-b67d-7d35ff377f05",
   "metadata": {},
   "outputs": [],
   "source": [
    "# 4) FILL MISSING IDs IF POSSIBLE (here: leave as NaN, but log them)\n",
    "for id_col in ID_COLUMNS:\n",
    "    missing_ids = df[id_col].isnull().sum()\n",
    "    if missing_ids > 0:\n",
    "        print(f\"⚠️ {missing_ids} missing in {id_col}\")"
   ]
  },
  {
   "cell_type": "code",
   "execution_count": null,
   "id": "f1f793c9-9779-4304-8be9-a5ba1baa8088",
   "metadata": {},
   "outputs": [],
   "source": [
    "# 5) REMOVE EXACT DUPLICATES\n",
    "df.drop_duplicates(inplace=True)"
   ]
  },
  {
   "cell_type": "code",
   "execution_count": null,
   "id": "829e7ae7-d70d-4b0d-b275-0e20aee193f9",
   "metadata": {},
   "outputs": [],
   "source": [
    "# 6) VALIDATE BIOLOGICAL RANGES\n",
    "for col, (low, high) in BIOLOGICAL_RANGES.items():\n",
    "    if col in df.columns:\n",
    "        before = df.shape[0]\n",
    "        df = df[(df[col].isnull()) | ((df[col] >= low) & (df[col] <= high))]\n",
    "        after = df.shape[0]\n",
    "        print(f\"{col}: removed {before - after} out-of-range rows\")"
   ]
  },
  {
   "cell_type": "code",
   "execution_count": null,
   "id": "e134259a-efaa-4e29-816c-dff9331d8ba6",
   "metadata": {},
   "outputs": [],
   "source": [
    "# 7) STANDARDISE CATEGORICAL VARIABLES\n",
    "for col, mapping in CATEGORICAL_STANDARDISATION.items():\n",
    "    if col in df.columns:\n",
    "        df[col] = df[col].str.strip().str.lower().map(mapping).fillna(df[col])"
   ]
  },
  {
   "cell_type": "code",
   "execution_count": null,
   "id": "12494cd2-f8bb-4078-9ae7-daa912fe6cce",
   "metadata": {},
   "outputs": [],
   "source": [
    "# 8) IMPUTE MISSING VALUES (TRAINING SET ONLY IN PRACTICE)\n",
    "for col in df.columns:\n",
    "    if df[col].dtype in [np.float64, np.int64]:  # continuous\n",
    "        median_val = df[col].median()\n",
    "        df[col].fillna(median_val, inplace=True)\n",
    "    else:  # categorical\n",
    "        mode_val = df[col].mode()[0]\n",
    "        df[col].fillna(mode_val, inplace=True)"
   ]
  },
  {
   "cell_type": "code",
   "execution_count": null,
   "id": "5f5cb8e4-faf3-40f4-aa95-9fe69b42ef8e",
   "metadata": {},
   "outputs": [],
   "source": [
    "# 9) SCALE CONTINUOUS FEATURES\n",
    "from sklearn.preprocessing import StandardScaler\n",
    "\n",
    "scaler = StandardScaler()\n",
    "df[NUMERIC_COLUMNS] = scaler.fit_transform(df[NUMERIC_COLUMNS])"
   ]
  },
  {
   "cell_type": "code",
   "execution_count": null,
   "id": "88da9e88-af2b-4d9e-ae7e-9573696e8780",
   "metadata": {},
   "outputs": [],
   "source": [
    "# 10) ONE-HOT ENCODE NOMINAL VARIABLES\n",
    "df = pd.get_dummies(df, columns=CATEGORICAL_COLUMNS, drop_first=True)"
   ]
  },
  {
   "cell_type": "code",
   "execution_count": null,
   "id": "3503641d-d276-488a-8175-126446c471cb",
   "metadata": {},
   "outputs": [],
   "source": [
    "# 11) SAVE CLEANED DATA\n",
    "output_file = \"merged_clinical_data_cleaned.csv\"\n",
    "df.to_csv(output_file, index=False)\n",
    "print(f\"✅ Cleaned dataset saved to {output_file}\")\n",
    "print(f\"Final shape: {df.shape}\")"
   ]
  }
 ],
 "metadata": {
  "kernelspec": {
   "display_name": "Python 3 (ipykernel)",
   "language": "python",
   "name": "python3"
  },
  "language_info": {
   "codemirror_mode": {
    "name": "ipython",
    "version": 3
   },
   "file_extension": ".py",
   "mimetype": "text/x-python",
   "name": "python",
   "nbconvert_exporter": "python",
   "pygments_lexer": "ipython3",
   "version": "3.13.2"
  }
 },
 "nbformat": 4,
 "nbformat_minor": 5
}
