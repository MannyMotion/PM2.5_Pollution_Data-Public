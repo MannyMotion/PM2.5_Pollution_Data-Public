{
 "cells": [
  {
   "cell_type": "code",
   "execution_count": 5,
   "id": "250d0c73-4843-46c6-aeb8-7199e5a6513e",
   "metadata": {
    "scrolled": true
   },
   "outputs": [
    {
     "name": "stdout",
     "output_type": "stream",
     "text": [
      "   Numeric Area Code  Area Code Local Authority Name  Year  \\\n",
      "0                1.0  E07000223                 Adur  2012   \n",
      "1                1.0  E07000223                 Adur  2013   \n",
      "2                1.0  E07000223                 Adur  2014   \n",
      "3                1.0  E07000223                 Adur  2015   \n",
      "4                1.0  E07000223                 Adur  2016   \n",
      "\n",
      "   PM2.5_Anthropogenic  PM2.5_Non_Anthropogenic  PM2.5_Total  \\\n",
      "0               8.3472                   2.2917      10.6389   \n",
      "1               8.4336                   2.2585      10.6921   \n",
      "2               7.6801                   2.2662       9.9463   \n",
      "3               8.0684                   1.3994       9.4679   \n",
      "4              10.5668                   0.5557      11.1224   \n",
      "\n",
      "  PM2.5_Anthropogenic_ImputationMethod  \\\n",
      "0                             Original   \n",
      "1                             Original   \n",
      "2                             Original   \n",
      "3                             Original   \n",
      "4                             Original   \n",
      "\n",
      "  PM2.5_Non_Anthropogenic_ImputationMethod PM2.5_Total_ImputationMethod  \\\n",
      "0                                 Original                     Original   \n",
      "1                                 Original                     Original   \n",
      "2                                 Original                     Original   \n",
      "3                                 Original                     Original   \n",
      "4                                 Original                     Original   \n",
      "\n",
      "   Admission episodes for alcohol-related cardiovascular disease (Broad)  \\\n",
      "0                                                NaN                       \n",
      "1                                                NaN                       \n",
      "2                                                NaN                       \n",
      "3                                                NaN                       \n",
      "4                                                NaN                       \n",
      "\n",
      "   Asthma: QOF prevalence  CKD: QOF prevalence  \\\n",
      "0                     NaN                  NaN   \n",
      "1                     NaN                  NaN   \n",
      "2                     NaN                  NaN   \n",
      "3                     NaN                  NaN   \n",
      "4                     NaN                  NaN   \n",
      "\n",
      "   Estimated prevalence of diagnosed and undiagnosed type 2 diabetes  \n",
      "0                                                NaN                  \n",
      "1                                                NaN                  \n",
      "2                                                NaN                  \n",
      "3                                                NaN                  \n",
      "4                                                NaN                  \n"
     ]
    }
   ],
   "source": [
    "import pandas as pd\n",
    "\n",
    "# Load the environmental data\n",
    "env_data = pd.read_csv(\"C:/Users/emman/Downloads/PM2.5_Pollution_Data-Public/Scripts/Environmental_Data/Imputed_Clean_Environmental_Data/Finial_Prophet_Imputed_Cleaned_Environmental_Data.csv\")\n",
    "\n",
    "# Load the clinical data\n",
    "clinical_data = pd.read_csv(\"C:/Users/emman/Downloads/PM2.5_Pollution_Data-Public/Scripts/Clinical_Data/Phenotype_Disease_Conditions/Merged_Clinical_Filtered_Data/merged_clinical_data_V1.csv\")\n",
    "\n",
    "# Convert clinical Time period to numeric Year\n",
    "clinical_data['Year'] = clinical_data['Time period'].str.extract(r'(\\d{4})').astype(int)\n",
    "\n",
    "# Keep only relevant columns: Area Code, Year, Condition, Value\n",
    "clinical_subset = clinical_data[['Area Code', 'Year', 'Indicator Name', 'Value']].copy()\n",
    "\n",
    "# Pivot clinical data so each Condition becomes a column\n",
    "clinical_pivot = clinical_subset.pivot_table(\n",
    "    index=['Area Code', 'Year'], \n",
    "    columns='Indicator Name', \n",
    "    values='Value'\n",
    ").reset_index()\n",
    "\n",
    "# Optional: rename columns if needed (columns will be the condition names automatically)\n",
    "clinical_pivot.columns.name = None  # Remove the pivot_table name\n",
    "\n",
    "# Merge with environmental data\n",
    "merged_data = pd.merge(env_data, clinical_pivot, on=['Area Code', 'Year'], how='left')\n",
    "\n",
    "# Check the merged dataset\n",
    "print(merged_data.head())\n"
   ]
  },
  {
   "cell_type": "code",
   "execution_count": 4,
   "id": "7f58a393-b208-446e-b2db-ab70c397de1f",
   "metadata": {},
   "outputs": [
    {
     "name": "stdout",
     "output_type": "stream",
     "text": [
      "Merged file saved successfully!\n"
     ]
    }
   ],
   "source": [
    "# Save the merged dataset to a CSV\n",
    "merged_data.to_csv(\"merged_environmental_clinical_data.csv\", index=False)\n",
    "\n",
    "print(\"Merged file saved successfully!\")\n"
   ]
  },
  {
   "cell_type": "code",
   "execution_count": 32,
   "id": "1d3c8ea6-ed4c-4e66-bc8b-deb5e51e5951",
   "metadata": {
    "scrolled": true
   },
   "outputs": [
    {
     "name": "stdout",
     "output_type": "stream",
     "text": [
      "['Numeric Area Code', 'Area Code', 'Local Authority Name', 'Year', 'PM2.5_Anthropogenic', 'PM2.5_Non_Anthropogenic', 'PM2.5_Total', 'PM2.5_Anthropogenic_ImputationMethod', 'PM2.5_Non_Anthropogenic_ImputationMethod', 'PM2.5_Total_ImputationMethod']\n",
      "['Indicator ID', 'Indicator Name', 'Parent Code', 'Parent Name', 'Area Code', 'Area Name', 'Area Type', 'Sex', 'Age', 'Category Type', 'Category', 'Time period', 'Value', 'Lower CI 95.0 limit', 'Upper CI 95.0 limit', 'Lower CI 99.8 limit', 'Upper CI 99.8 limit', 'Count', 'Denominator', 'Value note', 'Recent Trend', 'Compared to England value or percentiles', 'Compared to percentiles', 'Time period Sortable', 'New data', 'Compared to goal', 'Time period range', 'Condition', 'Year']\n",
      "   Area Code  Year Env_Local_Authority_Name Clinical_Area_Name      Sex  \\\n",
      "0  E08000016  2012                 Barnsley           Barnsley  Persons   \n",
      "1  E08000016  2014                 Barnsley           Barnsley  Persons   \n",
      "2  E08000016  2015                 Barnsley           Barnsley  Persons   \n",
      "3  E08000016  2016                 Barnsley           Barnsley  Persons   \n",
      "4  E08000016  2016                 Barnsley           Barnsley     Male   \n",
      "\n",
      "        Age  PM2.5_Total  PM2.5_Anthropogenic  PM2.5_Non_Anthropogenic  \\\n",
      "0   18+ yrs      10.7621               8.7266                   2.0355   \n",
      "1   18+ yrs      11.1677               9.1329                   2.0347   \n",
      "2   18+ yrs       8.0383               6.9903                   1.0481   \n",
      "3   18+ yrs       8.2493               7.7761                   0.4732   \n",
      "4  All ages       8.2493               7.7761                   0.4732   \n",
      "\n",
      "             Condition        Value     Count  Denominator  \\\n",
      "0                  CKD     6.013520  11861.00  197238.9000   \n",
      "1                  CKD     5.531452  11049.00  199748.6401   \n",
      "2                  CKD     5.084945  10386.00  204250.0000   \n",
      "3                  CKD     4.804004   9993.00  208014.0000   \n",
      "4  Alcohol-related CVD  1566.455748   1687.67  118443.0000   \n",
      "\n",
      "   Lower CI 95.0 limit  Upper CI 95.0 limit  Lower CI 99.8 limit  \\\n",
      "0             5.909470             6.118856             5.850236   \n",
      "1             5.431973             5.632220             5.375499   \n",
      "2             4.990359             5.180808             4.936856   \n",
      "3             4.712817             4.896455             4.661251   \n",
      "4          1491.256894          1644.412442          1449.158269   \n",
      "\n",
      "   Upper CI 99.8 limit Compared to England value or percentiles Time period  \n",
      "0             6.180784                             Not compared     2012/13  \n",
      "1             5.691381                             Not compared     2014/15  \n",
      "2             5.236964                             Not compared     2015/16  \n",
      "3             4.950641                             Not compared     2016/17  \n",
      "4          1690.120304                                    Worse     2016/17  \n"
     ]
    }
   ],
   "source": [
    "import pandas as pd\n",
    "\n",
    "# Load the environmental data\n",
    "env_data = pd.read_csv(\n",
    "    \"C:/Users/emman/Downloads/PM2.5_Pollution_Data-Public/Scripts/Environmental_Data/Imputed_Clean_Environmental_Data/Finial_Prophet_Imputed_Cleaned_Environmental_Data.csv\"\n",
    ")\n",
    "\n",
    "# Load the clinical data\n",
    "clinical_data = pd.read_csv(\n",
    "    \"C:/Users/emman/Downloads/PM2.5_Pollution_Data-Public/Scripts/Clinical_Data/Phenotype_Disease_Conditions/Merged_Clinical_Filtered_Data/merged_clinical_data_V1.csv\"\n",
    ")\n",
    "\n",
    "# Extract numeric Year from clinical Time period\n",
    "clinical_data['Year'] = clinical_data['Time period'].str.extract(r'(\\d{4})').astype(int)\n",
    "\n",
    "# Optional: rename columns to avoid duplicates\n",
    "# For example, if both datasets have 'Area Name'\n",
    "# env_data.rename(columns={'Local Authority Name': 'Env_Local_Authority_Name'}, inplace=True)\n",
    "# clinical_data.rename(columns={'Area Name': 'Clinical_Area_Name'}, inplace=True)\n",
    "\n",
    "# Check columns first\n",
    "print(env_data.columns.tolist())\n",
    "print(clinical_data.columns.tolist())\n",
    "\n",
    "# Rename to avoid confusion\n",
    "env_data.rename(columns={'Local Authority Name': 'Env_Local_Authority_Name'}, inplace=True)\n",
    "clinical_data.rename(columns={'Area Name': 'Clinical_Area_Name'}, inplace=True)\n",
    "\n",
    "\n",
    "# Merge environmental and clinical data on Area Code and Year\n",
    "merged_data2 = pd.merge(\n",
    "    env_data,\n",
    "    clinical_data,\n",
    "    left_on=['Area Code', 'Year'],\n",
    "    right_on=['Area Code', 'Year'],\n",
    "    how='inner'\n",
    ")\n",
    "\n",
    "# Columns you want to keep\n",
    "columns_of_interest = [\n",
    "    'Area Code', 'Year',\n",
    "    'Env_Local_Authority_Name',        # renamed environmental column\n",
    "    'Clinical_Area_Name',              # renamed clinical column\n",
    "    'Sex', 'Age',\n",
    "    'PM2.5_Total',                     # from environmental data\n",
    "    'PM2.5_Anthropogenic',\n",
    "    'PM2.5_Non_Anthropogenic',\n",
    "    'Condition', 'Value', 'Count', 'Denominator',     # from clinical data\n",
    "    'Lower CI 95.0 limit', 'Upper CI 95.0 limit',\n",
    "    'Lower CI 99.8 limit', 'Upper CI 99.8 limit',\n",
    "    'Compared to England value or percentiles',\n",
    "    'Time period'                      # keep original period if needed\n",
    "]\n",
    "\n",
    "\n",
    "# Select only the columns you want\n",
    "merged_data2 = merged_data2[columns_of_interest]\n",
    "# Display first few rows\n",
    "print(merged_data2.head())\n"
   ]
  },
  {
   "cell_type": "code",
   "execution_count": 36,
   "id": "e7e7ff35-95ff-4e8b-8331-993c920bb4f8",
   "metadata": {},
   "outputs": [
    {
     "name": "stdout",
     "output_type": "stream",
     "text": [
      "['Area Code', 'Year', 'Env_Local_Authority_Name', 'Clinical_Area_Name', 'Sex', 'Age', 'PM2.5_Total', 'PM2.5_Anthropogenic', 'PM2.5_Non_Anthropogenic', 'Condition', 'Value', 'Count', 'Denominator', 'Lower CI 95.0 limit', 'Upper CI 95.0 limit', 'Lower CI 99.8 limit', 'Upper CI 99.8 limit', 'Compared to England value or percentiles', 'Time period']\n"
     ]
    }
   ],
   "source": [
    "print(merged_data2.columns.tolist())\n"
   ]
  },
  {
   "cell_type": "code",
   "execution_count": 37,
   "id": "2f5b7ca2-839b-4f96-895c-92114390a706",
   "metadata": {},
   "outputs": [
    {
     "name": "stdout",
     "output_type": "stream",
     "text": [
      "Merged file saved successfully!\n"
     ]
    }
   ],
   "source": [
    "# Save the merged dataset to a CSV\n",
    "merged_data2.to_csv(\"merged_environmental_clinical_data-v2.csv\", index=False)\n",
    "\n",
    "print(\"Merged file saved successfully!\")\n"
   ]
  },
  {
   "cell_type": "code",
   "execution_count": null,
   "id": "8759e835-a056-4b19-9cf6-9af5fb61abf4",
   "metadata": {},
   "outputs": [],
   "source": []
  },
  {
   "cell_type": "code",
   "execution_count": null,
   "id": "0d9a423d-633a-4ead-baa3-44314ff87e0d",
   "metadata": {},
   "outputs": [],
   "source": []
  },
  {
   "cell_type": "code",
   "execution_count": null,
   "id": "321850cc-a3a1-4797-a963-30d261701651",
   "metadata": {},
   "outputs": [],
   "source": []
  }
 ],
 "metadata": {
  "kernelspec": {
   "display_name": "Python 3 (ipykernel)",
   "language": "python",
   "name": "python3"
  },
  "language_info": {
   "codemirror_mode": {
    "name": "ipython",
    "version": 3
   },
   "file_extension": ".py",
   "mimetype": "text/x-python",
   "name": "python",
   "nbconvert_exporter": "python",
   "pygments_lexer": "ipython3",
   "version": "3.13.2"
  }
 },
 "nbformat": 4,
 "nbformat_minor": 5
}
