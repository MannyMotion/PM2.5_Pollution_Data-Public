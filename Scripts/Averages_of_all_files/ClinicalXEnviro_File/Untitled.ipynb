{
 "cells": [
  {
   "cell_type": "markdown",
   "id": "33abc768-634b-410b-9517-6d44e135c321",
   "metadata": {},
   "source": [
    "Summary:\n",
    "\n",
    "Load the environmental data and clinical data\n",
    "\n",
    "Merge the ExC data \n",
    "\n",
    "Save ExC files \n",
    "\n",
    "Clean and preprocess the data (check for missing values, data types, encode categories).\n",
    "\n",
    "Define features (X) and target (y).\n",
    "\n",
    "Split into train and test sets.\n",
    "\n",
    "Train MultiOutputRegressor with Random Forest model.\n",
    "\n",
    "Predict on test set\n",
    "\n",
    "Evaluate performance (R², RMSE)\n",
    "\n",
    "Inspect feature importance."
   ]
  },
  {
   "cell_type": "code",
   "execution_count": 1,
   "id": "1d3c8ea6-ed4c-4e66-bc8b-deb5e51e5951",
   "metadata": {
    "scrolled": true
   },
   "outputs": [
    {
     "name": "stdout",
     "output_type": "stream",
     "text": [
      "['Numeric Area Code', 'Area Code', 'Local Authority Name', 'Year', 'PM2.5_Anthropogenic', 'PM2.5_Non_Anthropogenic', 'PM2.5_Total', 'PM2.5_Anthropogenic_ImputationMethod', 'PM2.5_Non_Anthropogenic_ImputationMethod', 'PM2.5_Total_ImputationMethod']\n",
      "['Indicator ID', 'Indicator Name', 'Parent Code', 'Parent Name', 'Area Code', 'Area Name', 'Area Type', 'Sex', 'Age', 'Category Type', 'Category', 'Time period', 'Value', 'Lower CI 95.0 limit', 'Upper CI 95.0 limit', 'Lower CI 99.8 limit', 'Upper CI 99.8 limit', 'Count', 'Denominator', 'Value note', 'Recent Trend', 'Compared to England value or percentiles', 'Compared to percentiles', 'Time period Sortable', 'New data', 'Compared to goal', 'Time period range', 'Condition', 'Year']\n",
      "  Env_Local_Authority_Name Clinical_Area_Name  Year      Sex       Age  \\\n",
      "0                 Barnsley           Barnsley  2012  Persons   18+ yrs   \n",
      "1                 Barnsley           Barnsley  2014  Persons   18+ yrs   \n",
      "2                 Barnsley           Barnsley  2015  Persons   18+ yrs   \n",
      "3                 Barnsley           Barnsley  2016  Persons   18+ yrs   \n",
      "4                 Barnsley           Barnsley  2016     Male  All ages   \n",
      "\n",
      "   PM2.5_Total  PM2.5_Anthropogenic  PM2.5_Non_Anthropogenic  \\\n",
      "0      10.7621               8.7266                   2.0355   \n",
      "1      11.1677               9.1329                   2.0347   \n",
      "2       8.0383               6.9903                   1.0481   \n",
      "3       8.2493               7.7761                   0.4732   \n",
      "4       8.2493               7.7761                   0.4732   \n",
      "\n",
      "             Condition        Value     Count  Denominator  \\\n",
      "0                  CKD     6.013520  11861.00  197238.9000   \n",
      "1                  CKD     5.531452  11049.00  199748.6401   \n",
      "2                  CKD     5.084945  10386.00  204250.0000   \n",
      "3                  CKD     4.804004   9993.00  208014.0000   \n",
      "4  Alcohol-related CVD  1566.455748   1687.67  118443.0000   \n",
      "\n",
      "   Lower CI 95.0 limit  Upper CI 95.0 limit  Lower CI 99.8 limit  \\\n",
      "0             5.909470             6.118856             5.850236   \n",
      "1             5.431973             5.632220             5.375499   \n",
      "2             4.990359             5.180808             4.936856   \n",
      "3             4.712817             4.896455             4.661251   \n",
      "4          1491.256894          1644.412442          1449.158269   \n",
      "\n",
      "   Upper CI 99.8 limit Compared to England value or percentiles Time period  \n",
      "0             6.180784                             Not compared     2012/13  \n",
      "1             5.691381                             Not compared     2014/15  \n",
      "2             5.236964                             Not compared     2015/16  \n",
      "3             4.950641                             Not compared     2016/17  \n",
      "4          1690.120304                                    Worse     2016/17  \n"
     ]
    }
   ],
   "source": [
    "import pandas as pd\n",
    "\n",
    "# Load the environmental data\n",
    "env_data = pd.read_csv(\n",
    "    \"C:/Users/emman/Downloads/PM2.5_Pollution_Data-Public/Scripts/Environmental_Data/Imputed_Clean_Environmental_Data/Finial_Prophet_Imputed_Cleaned_Environmental_Data.csv\"\n",
    ")\n",
    "\n",
    "# Load the clinical data\n",
    "clinical_data = pd.read_csv(\n",
    "    \"C:/Users/emman/Downloads/PM2.5_Pollution_Data-Public/Scripts/Clinical_Data/Phenotype_Disease_Conditions/Merged_Clinical_Filtered_Data/merged_clinical_data_V1.csv\"\n",
    ")\n",
    "\n",
    "# Extract numeric Year from clinical Time period\n",
    "clinical_data['Year'] = clinical_data['Time period'].str.extract(r'(\\d{4})').astype(int)\n",
    "\n",
    "# Optional: rename columns to avoid duplicates\n",
    "# For example, if both datasets have 'Area Name'\n",
    "# env_data.rename(columns={'Local Authority Name': 'Env_Local_Authority_Name'}, inplace=True)\n",
    "# clinical_data.rename(columns={'Area Name': 'Clinical_Area_Name'}, inplace=True)\n",
    "\n",
    "# Check columns first\n",
    "print(env_data.columns.tolist())\n",
    "print(clinical_data.columns.tolist())\n",
    "\n",
    "# Rename to avoid confusion\n",
    "env_data.rename(columns={'Local Authority Name': 'Env_Local_Authority_Name'}, inplace=True)\n",
    "clinical_data.rename(columns={'Area Name': 'Clinical_Area_Name'}, inplace=True)\n",
    "\n",
    "\n",
    "# Merge environmental and clinical data on Area Code and Year\n",
    "merged_data2 = pd.merge(\n",
    "    env_data,\n",
    "    clinical_data,\n",
    "    left_on=['Area Code', 'Year'],\n",
    "    right_on=['Area Code', 'Year'],\n",
    "    how='inner'\n",
    ")\n",
    "\n",
    "# Columns you want to keep\n",
    "columns_of_interest = [\n",
    "    'Env_Local_Authority_Name',        # renamed environmental column\n",
    "    'Clinical_Area_Name',              # renamed clinical column\n",
    "    'Year',\n",
    "    'Sex', 'Age',\n",
    "    'PM2.5_Total',                     # from environmental data\n",
    "    'PM2.5_Anthropogenic',\n",
    "    'PM2.5_Non_Anthropogenic',\n",
    "    'Condition', 'Value', 'Count', 'Denominator',     # from clinical data\n",
    "    'Lower CI 95.0 limit', 'Upper CI 95.0 limit',\n",
    "    'Lower CI 99.8 limit', 'Upper CI 99.8 limit',\n",
    "    'Compared to England value or percentiles',\n",
    "    'Time period'                      \n",
    "]\n",
    "\n",
    "\n",
    "# Select only the columns you want\n",
    "merged_data2 = merged_data2[columns_of_interest]\n",
    "# Display first few rows\n",
    "print(merged_data2.head())\n"
   ]
  },
  {
   "cell_type": "code",
   "execution_count": 2,
   "id": "e7e7ff35-95ff-4e8b-8331-993c920bb4f8",
   "metadata": {},
   "outputs": [
    {
     "name": "stdout",
     "output_type": "stream",
     "text": [
      "['Env_Local_Authority_Name', 'Clinical_Area_Name', 'Year', 'Sex', 'Age', 'PM2.5_Total', 'PM2.5_Anthropogenic', 'PM2.5_Non_Anthropogenic', 'Condition', 'Value', 'Count', 'Denominator', 'Lower CI 95.0 limit', 'Upper CI 95.0 limit', 'Lower CI 99.8 limit', 'Upper CI 99.8 limit', 'Compared to England value or percentiles', 'Time period']\n"
     ]
    }
   ],
   "source": [
    "print(merged_data2.columns.tolist())\n"
   ]
  },
  {
   "cell_type": "code",
   "execution_count": 5,
   "id": "2f5b7ca2-839b-4f96-895c-92114390a706",
   "metadata": {},
   "outputs": [
    {
     "name": "stdout",
     "output_type": "stream",
     "text": [
      "Merged file saved successfully!\n"
     ]
    }
   ],
   "source": [
    "# Save the merged dataset to a CSV\n",
    "merged_data2.to_csv(\"merged_environmental_clinical_data-v2.csv\", index=False)\n",
    "\n",
    "print(\"Merged file saved successfully!\")\n"
   ]
  },
  {
   "cell_type": "code",
   "execution_count": 6,
   "id": "f3328631-2078-4493-b89d-d20534a5a937",
   "metadata": {},
   "outputs": [],
   "source": [
    "import pandas as pd\n",
    "#Define the path to the merged CSV file\n",
    "merge_file_path = \"merged_environmental_clinical_data-v2.csv\" #call the merge file\n",
    "\n",
    "#Load the CSV file into a DataFrame using pd.read_csv\n",
    "merged_data2 = pd.read_csv(merge_file_path)\n"
   ]
  },
  {
   "cell_type": "code",
   "execution_count": 3,
   "id": "8759e835-a056-4b19-9cf6-9af5fb61abf4",
   "metadata": {},
   "outputs": [
    {
     "name": "stdout",
     "output_type": "stream",
     "text": [
      "Env_Local_Authority_Name                      0\n",
      "Clinical_Area_Name                            0\n",
      "Year                                          0\n",
      "Sex                                           0\n",
      "Age                                           0\n",
      "PM2.5_Total                                   0\n",
      "PM2.5_Anthropogenic                           0\n",
      "PM2.5_Non_Anthropogenic                       0\n",
      "Condition                                     0\n",
      "Value                                        62\n",
      "Count                                        62\n",
      "Denominator                                  62\n",
      "Lower CI 95.0 limit                          50\n",
      "Upper CI 95.0 limit                          50\n",
      "Lower CI 99.8 limit                         173\n",
      "Upper CI 99.8 limit                         173\n",
      "Compared to England value or percentiles      0\n",
      "Time period                                   0\n",
      "dtype: int64\n"
     ]
    }
   ],
   "source": [
    "#Check for missing values and gaps in each column of the data\n",
    "print(merged_data2.isnull().sum())\n"
   ]
  },
  {
   "cell_type": "code",
   "execution_count": 4,
   "id": "0d9a423d-633a-4ead-baa3-44314ff87e0d",
   "metadata": {},
   "outputs": [
    {
     "name": "stdout",
     "output_type": "stream",
     "text": [
      "Env_Local_Authority_Name                     object\n",
      "Clinical_Area_Name                           object\n",
      "Year                                          int64\n",
      "Sex                                          object\n",
      "Age                                          object\n",
      "PM2.5_Total                                 float64\n",
      "PM2.5_Anthropogenic                         float64\n",
      "PM2.5_Non_Anthropogenic                     float64\n",
      "Condition                                    object\n",
      "Value                                       float64\n",
      "Count                                       float64\n",
      "Denominator                                 float64\n",
      "Lower CI 95.0 limit                         float64\n",
      "Upper CI 95.0 limit                         float64\n",
      "Lower CI 99.8 limit                         float64\n",
      "Upper CI 99.8 limit                         float64\n",
      "Compared to England value or percentiles     object\n",
      "Time period                                  object\n",
      "dtype: object\n"
     ]
    }
   ],
   "source": [
    "#Ensure data types are correct\n",
    "print(merged_data2.dtypes)"
   ]
  },
  {
   "cell_type": "code",
   "execution_count": 5,
   "id": "e8ed5827-440c-416a-8cb2-8cc4d62239c6",
   "metadata": {},
   "outputs": [
    {
     "name": "stdout",
     "output_type": "stream",
     "text": [
      "1.7.1\n"
     ]
    }
   ],
   "source": [
    "#Import libraries\n",
    "import pandas as pd\n",
    "from sklearn.model_selection import train_test_split\n",
    "from sklearn.ensemble import RandomForestRegressor\n",
    "from sklearn.multioutput import MultiOutputRegressor\n",
    "from sklearn.preprocessing import StandardScaler, OneHotEncoder\n",
    "from sklearn.metrics import mean_squared_error, r2_score\n",
    "from sklearn.impute import SimpleImputer\n",
    "from sklearn.compose import ColumnTransformer\n",
    "from sklearn.pipeline import Pipeline\n",
    "import matplotlib.pyplot as plt\n",
    "import seaborn as sns\n",
    "import numpy as np\n",
    "import sklearn"
   ]
  },
  {
   "cell_type": "code",
   "execution_count": 6,
   "id": "c2961418-fe6d-48cb-a0b5-4185230ed2e5",
   "metadata": {},
   "outputs": [],
   "source": [
    "#Define features and target\n",
    "\n",
    "#Features: All columns except health outcomes, metadata, or irrelevant identifiers\n",
    "feature = merged_data2.drop(columns=[\n",
    "    'Value', 'Count', 'Denominator', \n",
    "    'Lower CI 95.0 limit', 'Upper CI 95.0 limit', \n",
    "    'Lower CI 99.8 limit', 'Upper CI 99.8 limit',\n",
    "    'Compared to England value or percentiles', 'Env_Local_Authority_Name',\n",
    "    'Clinical_Area_Name', 'Time period'\n",
    "])\n",
    "\n",
    "#Target: Health outcome measures we want to predict\n",
    "target = merged_data2[[\n",
    "    'Value', 'Count', 'Denominator', \n",
    "    'Lower CI 95.0 limit', 'Upper CI 95.0 limit', \n",
    "    'Lower CI 99.8 limit', 'Upper CI 99.8 limit'\n",
    "]]# These reflect health outcomes or statistical meassure that i can model to prdict\n",
    "#What factors influence PM2.5 levels and related health measures?” or predicting PM2.5/health outcomes from other variables. \n",
    "#PM2.5 and demographics are biologically meaningful predictors.\n",
    "#Health outcomes are what we aim to model or predict."
   ]
  },
  {
   "cell_type": "code",
   "execution_count": 7,
   "id": "029f5a03-f4d0-4d88-9d53-6f804de51e6c",
   "metadata": {},
   "outputs": [],
   "source": [
    "#Split data into training and testing sets\n",
    "# 80% for training, 20% for testing\n",
    "feature_train, feature_test, target_train, target_test = train_test_split(\n",
    "    feature, target, test_size=0.2, random_state=42\n",
    ")"
   ]
  },
  {
   "cell_type": "code",
   "execution_count": 8,
   "id": "7e795755-d116-4967-8e63-ddb5005dc975",
   "metadata": {},
   "outputs": [
    {
     "name": "stdout",
     "output_type": "stream",
     "text": [
      "Index(['Year', 'Sex', 'Age', 'PM2.5_Total', 'PM2.5_Anthropogenic',\n",
      "       'PM2.5_Non_Anthropogenic', 'Condition'],\n",
      "      dtype='object')\n"
     ]
    }
   ],
   "source": [
    "print(feature_train.columns)\n"
   ]
  },
  {
   "cell_type": "code",
   "execution_count": 9,
   "id": "d4811fd8-ce0c-4a66-8885-b9574a87530b",
   "metadata": {},
   "outputs": [
    {
     "name": "stdout",
     "output_type": "stream",
     "text": [
      "Index(['Year', 'Sex', 'Age', 'PM2.5_Total', 'PM2.5_Anthropogenic',\n",
      "       'PM2.5_Non_Anthropogenic', 'Condition'],\n",
      "      dtype='object')\n"
     ]
    }
   ],
   "source": [
    "print(feature_test.columns)\n"
   ]
  },
  {
   "cell_type": "code",
   "execution_count": 10,
   "id": "cb3854f7-14e9-435f-8f8c-d9dc1a061320",
   "metadata": {},
   "outputs": [
    {
     "name": "stdout",
     "output_type": "stream",
     "text": [
      "Index(['Value', 'Count', 'Denominator', 'Lower CI 95.0 limit',\n",
      "       'Upper CI 95.0 limit', 'Lower CI 99.8 limit', 'Upper CI 99.8 limit'],\n",
      "      dtype='object')\n"
     ]
    }
   ],
   "source": [
    "print(target_train.columns)\n"
   ]
  },
  {
   "cell_type": "code",
   "execution_count": 11,
   "id": "c0973672-11aa-4a2f-bb80-885af20d91d2",
   "metadata": {},
   "outputs": [
    {
     "name": "stdout",
     "output_type": "stream",
     "text": [
      "Index(['Value', 'Count', 'Denominator', 'Lower CI 95.0 limit',\n",
      "       'Upper CI 95.0 limit', 'Lower CI 99.8 limit', 'Upper CI 99.8 limit'],\n",
      "      dtype='object')\n"
     ]
    }
   ],
   "source": [
    "print(target_test.columns)\n"
   ]
  },
  {
   "cell_type": "markdown",
   "id": "7e9fae16-0afa-494b-8e8d-acfa3343080b",
   "metadata": {},
   "source": [
    "**Handle categorical encoding and missing values**"
   ]
  },
  {
   "cell_type": "code",
   "execution_count": 12,
   "id": "5cef1669-cfd3-4f9d-b616-b83b5e6c1fca",
   "metadata": {},
   "outputs": [
    {
     "name": "stdout",
     "output_type": "stream",
     "text": [
      "Index(['Sex', 'Age', 'Condition'], dtype='object')\n",
      "Index(['Year', 'PM2.5_Total', 'PM2.5_Anthropogenic',\n",
      "       'PM2.5_Non_Anthropogenic'],\n",
      "      dtype='object')\n"
     ]
    }
   ],
   "source": [
    "#Handle categorical encoding and missing values\n",
    "\n",
    "#locate numeric and categorical columns like object or strings\n",
    "categorical_cols = feature_train.select_dtypes(include='object').columns\n",
    "#Identify numeric columns (everything else)\n",
    "numeric_cols = feature_train.select_dtypes(exclude='object').columns\n",
    "#Print categorical columns to inspect them\n",
    "print(categorical_cols)\n",
    "print(numeric_cols)"
   ]
  },
  {
   "cell_type": "code",
   "execution_count": 13,
   "id": "a095ca97-f241-411c-b2df-9797392b6ad0",
   "metadata": {},
   "outputs": [],
   "source": [
    "#One-hot encode categorical features for example Condition column\n",
    "#OneHotEncoder is from sklearn.preprocessing\n",
    "encoder = OneHotEncoder(\n",
    "    handle_unknown='ignore', #handles errors if test data has unseen categories during training.\n",
    "    sparse_output=False)#make sure output is in regular array, which is easier to inspect and concatenate.\n",
    "\n",
    "#Fit the encoder by reading the training categorical columns and transform each categorical column into multiple binary columns 0 or 1 \n",
    "feature_train_encoded = encoder.fit_transform(feature_train[categorical_cols])\n",
    "\n",
    "#Applies the same transformation to the test set.\n",
    "feature_test_encoded = encoder.transform(feature_test[categorical_cols])\n",
    "#Ensures consistency between training and testing features.\n"
   ]
  },
  {
   "cell_type": "code",
   "execution_count": 14,
   "id": "fef7c81d-8ca4-48ff-8ee1-751051e2ad30",
   "metadata": {},
   "outputs": [
    {
     "name": "stdout",
     "output_type": "stream",
     "text": [
      "[[0. 0. 1. ... 0. 0. 0.]\n",
      " [0. 0. 1. ... 0. 1. 0.]\n",
      " [0. 0. 1. ... 1. 0. 0.]\n",
      " ...\n",
      " [0. 1. 0. ... 0. 0. 0.]\n",
      " [0. 1. 0. ... 0. 0. 0.]\n",
      " [0. 0. 1. ... 1. 0. 0.]]\n"
     ]
    }
   ],
   "source": [
    "print (feature_train_encoded)"
   ]
  },
  {
   "cell_type": "code",
   "execution_count": 15,
   "id": "b360f4dd-981e-45b7-8659-fa695a66932a",
   "metadata": {},
   "outputs": [
    {
     "name": "stdout",
     "output_type": "stream",
     "text": [
      "[[0. 1. 0. ... 0. 0. 0.]\n",
      " [0. 0. 1. ... 0. 1. 0.]\n",
      " [0. 1. 0. ... 0. 0. 0.]\n",
      " ...\n",
      " [1. 0. 0. ... 0. 0. 0.]\n",
      " [0. 0. 1. ... 0. 1. 0.]\n",
      " [0. 0. 1. ... 0. 0. 0.]]\n"
     ]
    }
   ],
   "source": [
    "print (feature_test_encoded)"
   ]
  },
  {
   "cell_type": "code",
   "execution_count": 16,
   "id": "e6ad4913-6089-4c6c-b6bb-f8cd68298717",
   "metadata": {},
   "outputs": [],
   "source": [
    "#Combine numeric columns with encoded categorical columns\n",
    "#Extract raw numeric values from the training set\n",
    "feature_train_final = np.hstack([feature_train[numeric_cols].values, feature_train_encoded])#np.hstack() stacks arrays columns side-by-side and using the numpy model [.values] ensures columns in array format and pulls out the numeric columns like PM2.5 levels, Year, Sex, Age ready to create a full feature matrix for training, combining both types of data for concatenation \n",
    "feature_test_final = np.hstack([feature_test[numeric_cols].values, feature_test_encoded])#Repeat for the test set"
   ]
  },
  {
   "cell_type": "code",
   "execution_count": 17,
   "id": "d153df44-4b95-4164-ba90-544eec1cfc4e",
   "metadata": {},
   "outputs": [
    {
     "name": "stdout",
     "output_type": "stream",
     "text": [
      "[[2.01900e+03 9.29900e+00 8.84970e+00 ... 0.00000e+00 0.00000e+00\n",
      "  0.00000e+00]\n",
      " [2.02100e+03 7.22700e+00 6.72320e+00 ... 0.00000e+00 1.00000e+00\n",
      "  0.00000e+00]\n",
      " [2.02300e+03 6.90020e+00 6.34220e+00 ... 1.00000e+00 0.00000e+00\n",
      "  0.00000e+00]\n",
      " ...\n",
      " [2.01800e+03 7.96100e+00 7.63520e+00 ... 0.00000e+00 0.00000e+00\n",
      "  0.00000e+00]\n",
      " [2.01800e+03 1.25419e+01 1.20586e+01 ... 0.00000e+00 0.00000e+00\n",
      "  0.00000e+00]\n",
      " [2.02000e+03 5.46090e+00 4.99330e+00 ... 1.00000e+00 0.00000e+00\n",
      "  0.00000e+00]]\n"
     ]
    }
   ],
   "source": [
    "print (feature_train_final)"
   ]
  },
  {
   "cell_type": "code",
   "execution_count": 18,
   "id": "f5fb5514-e71a-4f4a-b327-495639f9765f",
   "metadata": {},
   "outputs": [
    {
     "name": "stdout",
     "output_type": "stream",
     "text": [
      "[[2.01600e+03 9.72900e+00 9.14200e+00 ... 0.00000e+00 0.00000e+00\n",
      "  0.00000e+00]\n",
      " [2.02200e+03 8.92950e+00 8.39730e+00 ... 0.00000e+00 1.00000e+00\n",
      "  0.00000e+00]\n",
      " [2.01600e+03 1.17021e+01 1.11361e+01 ... 0.00000e+00 0.00000e+00\n",
      "  0.00000e+00]\n",
      " ...\n",
      " [2.01900e+03 7.82290e+00 7.25890e+00 ... 0.00000e+00 0.00000e+00\n",
      "  0.00000e+00]\n",
      " [2.01200e+03 1.44593e+01 1.22853e+01 ... 0.00000e+00 1.00000e+00\n",
      "  0.00000e+00]\n",
      " [2.01600e+03 1.11604e+01 1.06099e+01 ... 0.00000e+00 0.00000e+00\n",
      "  0.00000e+00]]\n"
     ]
    }
   ],
   "source": [
    "print (feature_test_final)"
   ]
  },
  {
   "cell_type": "code",
   "execution_count": 19,
   "id": "f8da52af-52d2-4ce9-801f-e3dc6a8bccf6",
   "metadata": {},
   "outputs": [],
   "source": [
    "# Impute missing values in targets using mean strategy\n",
    "\n",
    "imputer = SimpleImputer(strategy='mean')#using SimpleImputer from sklearn.impute replaces missing values with NaNs with the mean of each column.\n",
    "target_train_imputed = imputer.fit_transform(target_train)#Fit the imputer on the training target and transform it\n",
    "target_test_imputed = imputer.transform(target_test)#Apply the same transformation to the test target using same mean learned from training data\n",
    "#Ensures consistency between training and testing sets to avoids data leakage from the test set."
   ]
  },
  {
   "cell_type": "code",
   "execution_count": 20,
   "id": "0bcd024c-ae32-4fc5-9b7f-cf4b548768fb",
   "metadata": {},
   "outputs": [
    {
     "name": "stdout",
     "output_type": "stream",
     "text": [
      "[[9.54608520e+02 1.94686000e+03 2.42077000e+05 ... 9.98136996e+02\n",
      "  8.88901411e+02 1.02362995e+03]\n",
      " [5.94770342e+00 2.24640000e+04 3.77692000e+05 ... 6.02336523e+00\n",
      "  5.82986753e+00 6.06762139e+00]\n",
      " [7.45538592e+00 1.74670000e+04 2.34287000e+05 ... 7.56218207e+00\n",
      "  7.28947995e+00 7.62452543e+00]\n",
      " ...\n",
      " [1.63815692e+03 2.43141000e+03 1.60955000e+05 ... 1.70649448e+03\n",
      "  1.53452557e+03 1.74645282e+03]\n",
      " [1.69671074e+03 1.19308000e+03 1.33315000e+05 ... 1.80151683e+03\n",
      "  1.54040890e+03 1.86315754e+03]\n",
      " [7.46120782e+00 1.46850000e+04 1.96818000e+05 ... 7.57766511e+00\n",
      "  7.28023086e+00 7.64603331e+00]]\n"
     ]
    }
   ],
   "source": [
    "print (target_train_imputed)"
   ]
  },
  {
   "cell_type": "code",
   "execution_count": 21,
   "id": "3a645b8e-b323-4bb1-9bbf-b3ebe97ff50d",
   "metadata": {},
   "outputs": [
    {
     "name": "stdout",
     "output_type": "stream",
     "text": [
      "[[1.06995619e+03 8.68460000e+02 9.05660000e+04 ... 1.14395736e+03\n",
      "  9.60650704e+02 1.18762551e+03]\n",
      " [3.62423700e+00 5.51000000e+03 1.52032000e+05 ... 3.71885994e+00\n",
      "  3.47898322e+00 3.77495495e+00]\n",
      " [1.32364979e+03 7.65990000e+02 8.32360000e+04 ... 1.42404656e+03\n",
      "  1.17598410e+03 1.48337748e+03]\n",
      " ...\n",
      " [2.18765852e+02 4.47790000e+02 1.61798000e+05 ... 2.40286425e+02\n",
      "  1.87786522e+02 2.53098114e+02]\n",
      " [2.28258287e+00 6.62000000e+03 2.90022329e+05 ... 2.33737528e+00\n",
      "  2.19837903e+00 2.36973951e+00]\n",
      " [8.89434833e+02 1.91892000e+03 2.97451000e+05 ... 9.30653732e+02\n",
      "  8.27233771e+02 9.54796727e+02]]\n"
     ]
    }
   ],
   "source": [
    "print (target_test_imputed)"
   ]
  },
  {
   "cell_type": "markdown",
   "id": "34bf22f4-87a2-45ac-b8fe-4a7d4920e165",
   "metadata": {},
   "source": [
    "**Fit a MultiOutput Random Forest**"
   ]
  },
  {
   "cell_type": "code",
   "execution_count": 22,
   "id": "751bde67-c7d3-4e52-938b-7351e69b510a",
   "metadata": {},
   "outputs": [
    {
     "data": {
      "text/html": [
       "<style>#sk-container-id-1 {\n",
       "  /* Definition of color scheme common for light and dark mode */\n",
       "  --sklearn-color-text: #000;\n",
       "  --sklearn-color-text-muted: #666;\n",
       "  --sklearn-color-line: gray;\n",
       "  /* Definition of color scheme for unfitted estimators */\n",
       "  --sklearn-color-unfitted-level-0: #fff5e6;\n",
       "  --sklearn-color-unfitted-level-1: #f6e4d2;\n",
       "  --sklearn-color-unfitted-level-2: #ffe0b3;\n",
       "  --sklearn-color-unfitted-level-3: chocolate;\n",
       "  /* Definition of color scheme for fitted estimators */\n",
       "  --sklearn-color-fitted-level-0: #f0f8ff;\n",
       "  --sklearn-color-fitted-level-1: #d4ebff;\n",
       "  --sklearn-color-fitted-level-2: #b3dbfd;\n",
       "  --sklearn-color-fitted-level-3: cornflowerblue;\n",
       "\n",
       "  /* Specific color for light theme */\n",
       "  --sklearn-color-text-on-default-background: var(--sg-text-color, var(--theme-code-foreground, var(--jp-content-font-color1, black)));\n",
       "  --sklearn-color-background: var(--sg-background-color, var(--theme-background, var(--jp-layout-color0, white)));\n",
       "  --sklearn-color-border-box: var(--sg-text-color, var(--theme-code-foreground, var(--jp-content-font-color1, black)));\n",
       "  --sklearn-color-icon: #696969;\n",
       "\n",
       "  @media (prefers-color-scheme: dark) {\n",
       "    /* Redefinition of color scheme for dark theme */\n",
       "    --sklearn-color-text-on-default-background: var(--sg-text-color, var(--theme-code-foreground, var(--jp-content-font-color1, white)));\n",
       "    --sklearn-color-background: var(--sg-background-color, var(--theme-background, var(--jp-layout-color0, #111)));\n",
       "    --sklearn-color-border-box: var(--sg-text-color, var(--theme-code-foreground, var(--jp-content-font-color1, white)));\n",
       "    --sklearn-color-icon: #878787;\n",
       "  }\n",
       "}\n",
       "\n",
       "#sk-container-id-1 {\n",
       "  color: var(--sklearn-color-text);\n",
       "}\n",
       "\n",
       "#sk-container-id-1 pre {\n",
       "  padding: 0;\n",
       "}\n",
       "\n",
       "#sk-container-id-1 input.sk-hidden--visually {\n",
       "  border: 0;\n",
       "  clip: rect(1px 1px 1px 1px);\n",
       "  clip: rect(1px, 1px, 1px, 1px);\n",
       "  height: 1px;\n",
       "  margin: -1px;\n",
       "  overflow: hidden;\n",
       "  padding: 0;\n",
       "  position: absolute;\n",
       "  width: 1px;\n",
       "}\n",
       "\n",
       "#sk-container-id-1 div.sk-dashed-wrapped {\n",
       "  border: 1px dashed var(--sklearn-color-line);\n",
       "  margin: 0 0.4em 0.5em 0.4em;\n",
       "  box-sizing: border-box;\n",
       "  padding-bottom: 0.4em;\n",
       "  background-color: var(--sklearn-color-background);\n",
       "}\n",
       "\n",
       "#sk-container-id-1 div.sk-container {\n",
       "  /* jupyter's `normalize.less` sets `[hidden] { display: none; }`\n",
       "     but bootstrap.min.css set `[hidden] { display: none !important; }`\n",
       "     so we also need the `!important` here to be able to override the\n",
       "     default hidden behavior on the sphinx rendered scikit-learn.org.\n",
       "     See: https://github.com/scikit-learn/scikit-learn/issues/21755 */\n",
       "  display: inline-block !important;\n",
       "  position: relative;\n",
       "}\n",
       "\n",
       "#sk-container-id-1 div.sk-text-repr-fallback {\n",
       "  display: none;\n",
       "}\n",
       "\n",
       "div.sk-parallel-item,\n",
       "div.sk-serial,\n",
       "div.sk-item {\n",
       "  /* draw centered vertical line to link estimators */\n",
       "  background-image: linear-gradient(var(--sklearn-color-text-on-default-background), var(--sklearn-color-text-on-default-background));\n",
       "  background-size: 2px 100%;\n",
       "  background-repeat: no-repeat;\n",
       "  background-position: center center;\n",
       "}\n",
       "\n",
       "/* Parallel-specific style estimator block */\n",
       "\n",
       "#sk-container-id-1 div.sk-parallel-item::after {\n",
       "  content: \"\";\n",
       "  width: 100%;\n",
       "  border-bottom: 2px solid var(--sklearn-color-text-on-default-background);\n",
       "  flex-grow: 1;\n",
       "}\n",
       "\n",
       "#sk-container-id-1 div.sk-parallel {\n",
       "  display: flex;\n",
       "  align-items: stretch;\n",
       "  justify-content: center;\n",
       "  background-color: var(--sklearn-color-background);\n",
       "  position: relative;\n",
       "}\n",
       "\n",
       "#sk-container-id-1 div.sk-parallel-item {\n",
       "  display: flex;\n",
       "  flex-direction: column;\n",
       "}\n",
       "\n",
       "#sk-container-id-1 div.sk-parallel-item:first-child::after {\n",
       "  align-self: flex-end;\n",
       "  width: 50%;\n",
       "}\n",
       "\n",
       "#sk-container-id-1 div.sk-parallel-item:last-child::after {\n",
       "  align-self: flex-start;\n",
       "  width: 50%;\n",
       "}\n",
       "\n",
       "#sk-container-id-1 div.sk-parallel-item:only-child::after {\n",
       "  width: 0;\n",
       "}\n",
       "\n",
       "/* Serial-specific style estimator block */\n",
       "\n",
       "#sk-container-id-1 div.sk-serial {\n",
       "  display: flex;\n",
       "  flex-direction: column;\n",
       "  align-items: center;\n",
       "  background-color: var(--sklearn-color-background);\n",
       "  padding-right: 1em;\n",
       "  padding-left: 1em;\n",
       "}\n",
       "\n",
       "\n",
       "/* Toggleable style: style used for estimator/Pipeline/ColumnTransformer box that is\n",
       "clickable and can be expanded/collapsed.\n",
       "- Pipeline and ColumnTransformer use this feature and define the default style\n",
       "- Estimators will overwrite some part of the style using the `sk-estimator` class\n",
       "*/\n",
       "\n",
       "/* Pipeline and ColumnTransformer style (default) */\n",
       "\n",
       "#sk-container-id-1 div.sk-toggleable {\n",
       "  /* Default theme specific background. It is overwritten whether we have a\n",
       "  specific estimator or a Pipeline/ColumnTransformer */\n",
       "  background-color: var(--sklearn-color-background);\n",
       "}\n",
       "\n",
       "/* Toggleable label */\n",
       "#sk-container-id-1 label.sk-toggleable__label {\n",
       "  cursor: pointer;\n",
       "  display: flex;\n",
       "  width: 100%;\n",
       "  margin-bottom: 0;\n",
       "  padding: 0.5em;\n",
       "  box-sizing: border-box;\n",
       "  text-align: center;\n",
       "  align-items: start;\n",
       "  justify-content: space-between;\n",
       "  gap: 0.5em;\n",
       "}\n",
       "\n",
       "#sk-container-id-1 label.sk-toggleable__label .caption {\n",
       "  font-size: 0.6rem;\n",
       "  font-weight: lighter;\n",
       "  color: var(--sklearn-color-text-muted);\n",
       "}\n",
       "\n",
       "#sk-container-id-1 label.sk-toggleable__label-arrow:before {\n",
       "  /* Arrow on the left of the label */\n",
       "  content: \"▸\";\n",
       "  float: left;\n",
       "  margin-right: 0.25em;\n",
       "  color: var(--sklearn-color-icon);\n",
       "}\n",
       "\n",
       "#sk-container-id-1 label.sk-toggleable__label-arrow:hover:before {\n",
       "  color: var(--sklearn-color-text);\n",
       "}\n",
       "\n",
       "/* Toggleable content - dropdown */\n",
       "\n",
       "#sk-container-id-1 div.sk-toggleable__content {\n",
       "  display: none;\n",
       "  text-align: left;\n",
       "  /* unfitted */\n",
       "  background-color: var(--sklearn-color-unfitted-level-0);\n",
       "}\n",
       "\n",
       "#sk-container-id-1 div.sk-toggleable__content.fitted {\n",
       "  /* fitted */\n",
       "  background-color: var(--sklearn-color-fitted-level-0);\n",
       "}\n",
       "\n",
       "#sk-container-id-1 div.sk-toggleable__content pre {\n",
       "  margin: 0.2em;\n",
       "  border-radius: 0.25em;\n",
       "  color: var(--sklearn-color-text);\n",
       "  /* unfitted */\n",
       "  background-color: var(--sklearn-color-unfitted-level-0);\n",
       "}\n",
       "\n",
       "#sk-container-id-1 div.sk-toggleable__content.fitted pre {\n",
       "  /* unfitted */\n",
       "  background-color: var(--sklearn-color-fitted-level-0);\n",
       "}\n",
       "\n",
       "#sk-container-id-1 input.sk-toggleable__control:checked~div.sk-toggleable__content {\n",
       "  /* Expand drop-down */\n",
       "  display: block;\n",
       "  width: 100%;\n",
       "  overflow: visible;\n",
       "}\n",
       "\n",
       "#sk-container-id-1 input.sk-toggleable__control:checked~label.sk-toggleable__label-arrow:before {\n",
       "  content: \"▾\";\n",
       "}\n",
       "\n",
       "/* Pipeline/ColumnTransformer-specific style */\n",
       "\n",
       "#sk-container-id-1 div.sk-label input.sk-toggleable__control:checked~label.sk-toggleable__label {\n",
       "  color: var(--sklearn-color-text);\n",
       "  background-color: var(--sklearn-color-unfitted-level-2);\n",
       "}\n",
       "\n",
       "#sk-container-id-1 div.sk-label.fitted input.sk-toggleable__control:checked~label.sk-toggleable__label {\n",
       "  background-color: var(--sklearn-color-fitted-level-2);\n",
       "}\n",
       "\n",
       "/* Estimator-specific style */\n",
       "\n",
       "/* Colorize estimator box */\n",
       "#sk-container-id-1 div.sk-estimator input.sk-toggleable__control:checked~label.sk-toggleable__label {\n",
       "  /* unfitted */\n",
       "  background-color: var(--sklearn-color-unfitted-level-2);\n",
       "}\n",
       "\n",
       "#sk-container-id-1 div.sk-estimator.fitted input.sk-toggleable__control:checked~label.sk-toggleable__label {\n",
       "  /* fitted */\n",
       "  background-color: var(--sklearn-color-fitted-level-2);\n",
       "}\n",
       "\n",
       "#sk-container-id-1 div.sk-label label.sk-toggleable__label,\n",
       "#sk-container-id-1 div.sk-label label {\n",
       "  /* The background is the default theme color */\n",
       "  color: var(--sklearn-color-text-on-default-background);\n",
       "}\n",
       "\n",
       "/* On hover, darken the color of the background */\n",
       "#sk-container-id-1 div.sk-label:hover label.sk-toggleable__label {\n",
       "  color: var(--sklearn-color-text);\n",
       "  background-color: var(--sklearn-color-unfitted-level-2);\n",
       "}\n",
       "\n",
       "/* Label box, darken color on hover, fitted */\n",
       "#sk-container-id-1 div.sk-label.fitted:hover label.sk-toggleable__label.fitted {\n",
       "  color: var(--sklearn-color-text);\n",
       "  background-color: var(--sklearn-color-fitted-level-2);\n",
       "}\n",
       "\n",
       "/* Estimator label */\n",
       "\n",
       "#sk-container-id-1 div.sk-label label {\n",
       "  font-family: monospace;\n",
       "  font-weight: bold;\n",
       "  display: inline-block;\n",
       "  line-height: 1.2em;\n",
       "}\n",
       "\n",
       "#sk-container-id-1 div.sk-label-container {\n",
       "  text-align: center;\n",
       "}\n",
       "\n",
       "/* Estimator-specific */\n",
       "#sk-container-id-1 div.sk-estimator {\n",
       "  font-family: monospace;\n",
       "  border: 1px dotted var(--sklearn-color-border-box);\n",
       "  border-radius: 0.25em;\n",
       "  box-sizing: border-box;\n",
       "  margin-bottom: 0.5em;\n",
       "  /* unfitted */\n",
       "  background-color: var(--sklearn-color-unfitted-level-0);\n",
       "}\n",
       "\n",
       "#sk-container-id-1 div.sk-estimator.fitted {\n",
       "  /* fitted */\n",
       "  background-color: var(--sklearn-color-fitted-level-0);\n",
       "}\n",
       "\n",
       "/* on hover */\n",
       "#sk-container-id-1 div.sk-estimator:hover {\n",
       "  /* unfitted */\n",
       "  background-color: var(--sklearn-color-unfitted-level-2);\n",
       "}\n",
       "\n",
       "#sk-container-id-1 div.sk-estimator.fitted:hover {\n",
       "  /* fitted */\n",
       "  background-color: var(--sklearn-color-fitted-level-2);\n",
       "}\n",
       "\n",
       "/* Specification for estimator info (e.g. \"i\" and \"?\") */\n",
       "\n",
       "/* Common style for \"i\" and \"?\" */\n",
       "\n",
       ".sk-estimator-doc-link,\n",
       "a:link.sk-estimator-doc-link,\n",
       "a:visited.sk-estimator-doc-link {\n",
       "  float: right;\n",
       "  font-size: smaller;\n",
       "  line-height: 1em;\n",
       "  font-family: monospace;\n",
       "  background-color: var(--sklearn-color-background);\n",
       "  border-radius: 1em;\n",
       "  height: 1em;\n",
       "  width: 1em;\n",
       "  text-decoration: none !important;\n",
       "  margin-left: 0.5em;\n",
       "  text-align: center;\n",
       "  /* unfitted */\n",
       "  border: var(--sklearn-color-unfitted-level-1) 1pt solid;\n",
       "  color: var(--sklearn-color-unfitted-level-1);\n",
       "}\n",
       "\n",
       ".sk-estimator-doc-link.fitted,\n",
       "a:link.sk-estimator-doc-link.fitted,\n",
       "a:visited.sk-estimator-doc-link.fitted {\n",
       "  /* fitted */\n",
       "  border: var(--sklearn-color-fitted-level-1) 1pt solid;\n",
       "  color: var(--sklearn-color-fitted-level-1);\n",
       "}\n",
       "\n",
       "/* On hover */\n",
       "div.sk-estimator:hover .sk-estimator-doc-link:hover,\n",
       ".sk-estimator-doc-link:hover,\n",
       "div.sk-label-container:hover .sk-estimator-doc-link:hover,\n",
       ".sk-estimator-doc-link:hover {\n",
       "  /* unfitted */\n",
       "  background-color: var(--sklearn-color-unfitted-level-3);\n",
       "  color: var(--sklearn-color-background);\n",
       "  text-decoration: none;\n",
       "}\n",
       "\n",
       "div.sk-estimator.fitted:hover .sk-estimator-doc-link.fitted:hover,\n",
       ".sk-estimator-doc-link.fitted:hover,\n",
       "div.sk-label-container:hover .sk-estimator-doc-link.fitted:hover,\n",
       ".sk-estimator-doc-link.fitted:hover {\n",
       "  /* fitted */\n",
       "  background-color: var(--sklearn-color-fitted-level-3);\n",
       "  color: var(--sklearn-color-background);\n",
       "  text-decoration: none;\n",
       "}\n",
       "\n",
       "/* Span, style for the box shown on hovering the info icon */\n",
       ".sk-estimator-doc-link span {\n",
       "  display: none;\n",
       "  z-index: 9999;\n",
       "  position: relative;\n",
       "  font-weight: normal;\n",
       "  right: .2ex;\n",
       "  padding: .5ex;\n",
       "  margin: .5ex;\n",
       "  width: min-content;\n",
       "  min-width: 20ex;\n",
       "  max-width: 50ex;\n",
       "  color: var(--sklearn-color-text);\n",
       "  box-shadow: 2pt 2pt 4pt #999;\n",
       "  /* unfitted */\n",
       "  background: var(--sklearn-color-unfitted-level-0);\n",
       "  border: .5pt solid var(--sklearn-color-unfitted-level-3);\n",
       "}\n",
       "\n",
       ".sk-estimator-doc-link.fitted span {\n",
       "  /* fitted */\n",
       "  background: var(--sklearn-color-fitted-level-0);\n",
       "  border: var(--sklearn-color-fitted-level-3);\n",
       "}\n",
       "\n",
       ".sk-estimator-doc-link:hover span {\n",
       "  display: block;\n",
       "}\n",
       "\n",
       "/* \"?\"-specific style due to the `<a>` HTML tag */\n",
       "\n",
       "#sk-container-id-1 a.estimator_doc_link {\n",
       "  float: right;\n",
       "  font-size: 1rem;\n",
       "  line-height: 1em;\n",
       "  font-family: monospace;\n",
       "  background-color: var(--sklearn-color-background);\n",
       "  border-radius: 1rem;\n",
       "  height: 1rem;\n",
       "  width: 1rem;\n",
       "  text-decoration: none;\n",
       "  /* unfitted */\n",
       "  color: var(--sklearn-color-unfitted-level-1);\n",
       "  border: var(--sklearn-color-unfitted-level-1) 1pt solid;\n",
       "}\n",
       "\n",
       "#sk-container-id-1 a.estimator_doc_link.fitted {\n",
       "  /* fitted */\n",
       "  border: var(--sklearn-color-fitted-level-1) 1pt solid;\n",
       "  color: var(--sklearn-color-fitted-level-1);\n",
       "}\n",
       "\n",
       "/* On hover */\n",
       "#sk-container-id-1 a.estimator_doc_link:hover {\n",
       "  /* unfitted */\n",
       "  background-color: var(--sklearn-color-unfitted-level-3);\n",
       "  color: var(--sklearn-color-background);\n",
       "  text-decoration: none;\n",
       "}\n",
       "\n",
       "#sk-container-id-1 a.estimator_doc_link.fitted:hover {\n",
       "  /* fitted */\n",
       "  background-color: var(--sklearn-color-fitted-level-3);\n",
       "}\n",
       "\n",
       ".estimator-table summary {\n",
       "    padding: .5rem;\n",
       "    font-family: monospace;\n",
       "    cursor: pointer;\n",
       "}\n",
       "\n",
       ".estimator-table details[open] {\n",
       "    padding-left: 0.1rem;\n",
       "    padding-right: 0.1rem;\n",
       "    padding-bottom: 0.3rem;\n",
       "}\n",
       "\n",
       ".estimator-table .parameters-table {\n",
       "    margin-left: auto !important;\n",
       "    margin-right: auto !important;\n",
       "}\n",
       "\n",
       ".estimator-table .parameters-table tr:nth-child(odd) {\n",
       "    background-color: #fff;\n",
       "}\n",
       "\n",
       ".estimator-table .parameters-table tr:nth-child(even) {\n",
       "    background-color: #f6f6f6;\n",
       "}\n",
       "\n",
       ".estimator-table .parameters-table tr:hover {\n",
       "    background-color: #e0e0e0;\n",
       "}\n",
       "\n",
       ".estimator-table table td {\n",
       "    border: 1px solid rgba(106, 105, 104, 0.232);\n",
       "}\n",
       "\n",
       ".user-set td {\n",
       "    color:rgb(255, 94, 0);\n",
       "    text-align: left;\n",
       "}\n",
       "\n",
       ".user-set td.value pre {\n",
       "    color:rgb(255, 94, 0) !important;\n",
       "    background-color: transparent !important;\n",
       "}\n",
       "\n",
       ".default td {\n",
       "    color: black;\n",
       "    text-align: left;\n",
       "}\n",
       "\n",
       ".user-set td i,\n",
       ".default td i {\n",
       "    color: black;\n",
       "}\n",
       "\n",
       ".copy-paste-icon {\n",
       "    background-image: url(data:image/svg+xml;base64,PHN2ZyB4bWxucz0iaHR0cDovL3d3dy53My5vcmcvMjAwMC9zdmciIHZpZXdCb3g9IjAgMCA0NDggNTEyIj48IS0tIUZvbnQgQXdlc29tZSBGcmVlIDYuNy4yIGJ5IEBmb250YXdlc29tZSAtIGh0dHBzOi8vZm9udGF3ZXNvbWUuY29tIExpY2Vuc2UgLSBodHRwczovL2ZvbnRhd2Vzb21lLmNvbS9saWNlbnNlL2ZyZWUgQ29weXJpZ2h0IDIwMjUgRm9udGljb25zLCBJbmMuLS0+PHBhdGggZD0iTTIwOCAwTDMzMi4xIDBjMTIuNyAwIDI0LjkgNS4xIDMzLjkgMTQuMWw2Ny45IDY3LjljOSA5IDE0LjEgMjEuMiAxNC4xIDMzLjlMNDQ4IDMzNmMwIDI2LjUtMjEuNSA0OC00OCA0OGwtMTkyIDBjLTI2LjUgMC00OC0yMS41LTQ4LTQ4bDAtMjg4YzAtMjYuNSAyMS41LTQ4IDQ4LTQ4ek00OCAxMjhsODAgMCAwIDY0LTY0IDAgMCAyNTYgMTkyIDAgMC0zMiA2NCAwIDAgNDhjMCAyNi41LTIxLjUgNDgtNDggNDhMNDggNTEyYy0yNi41IDAtNDgtMjEuNS00OC00OEwwIDE3NmMwLTI2LjUgMjEuNS00OCA0OC00OHoiLz48L3N2Zz4=);\n",
       "    background-repeat: no-repeat;\n",
       "    background-size: 14px 14px;\n",
       "    background-position: 0;\n",
       "    display: inline-block;\n",
       "    width: 14px;\n",
       "    height: 14px;\n",
       "    cursor: pointer;\n",
       "}\n",
       "</style><body><div id=\"sk-container-id-1\" class=\"sk-top-container\"><div class=\"sk-text-repr-fallback\"><pre>MultiOutputRegressor(estimator=RandomForestRegressor(random_state=42))</pre><b>In a Jupyter environment, please rerun this cell to show the HTML representation or trust the notebook. <br />On GitHub, the HTML representation is unable to render, please try loading this page with nbviewer.org.</b></div><div class=\"sk-container\" hidden><div class=\"sk-item sk-dashed-wrapped\"><div class=\"sk-label-container\"><div class=\"sk-label fitted sk-toggleable\"><input class=\"sk-toggleable__control sk-hidden--visually\" id=\"sk-estimator-id-1\" type=\"checkbox\" ><label for=\"sk-estimator-id-1\" class=\"sk-toggleable__label fitted sk-toggleable__label-arrow\"><div><div>MultiOutputRegressor</div></div><div><a class=\"sk-estimator-doc-link fitted\" rel=\"noreferrer\" target=\"_blank\" href=\"https://scikit-learn.org/1.7/modules/generated/sklearn.multioutput.MultiOutputRegressor.html\">?<span>Documentation for MultiOutputRegressor</span></a><span class=\"sk-estimator-doc-link fitted\">i<span>Fitted</span></span></div></label><div class=\"sk-toggleable__content fitted\" data-param-prefix=\"\">\n",
       "        <div class=\"estimator-table\">\n",
       "            <details>\n",
       "                <summary>Parameters</summary>\n",
       "                <table class=\"parameters-table\">\n",
       "                  <tbody>\n",
       "                    \n",
       "        <tr class=\"user-set\">\n",
       "            <td><i class=\"copy-paste-icon\"\n",
       "                 onclick=\"copyToClipboard('estimator',\n",
       "                          this.parentElement.nextElementSibling)\"\n",
       "            ></i></td>\n",
       "            <td class=\"param\">estimator&nbsp;</td>\n",
       "            <td class=\"value\">RandomForestR...ndom_state=42)</td>\n",
       "        </tr>\n",
       "    \n",
       "\n",
       "        <tr class=\"default\">\n",
       "            <td><i class=\"copy-paste-icon\"\n",
       "                 onclick=\"copyToClipboard('n_jobs',\n",
       "                          this.parentElement.nextElementSibling)\"\n",
       "            ></i></td>\n",
       "            <td class=\"param\">n_jobs&nbsp;</td>\n",
       "            <td class=\"value\">None</td>\n",
       "        </tr>\n",
       "    \n",
       "                  </tbody>\n",
       "                </table>\n",
       "            </details>\n",
       "        </div>\n",
       "    </div></div></div><div class=\"sk-parallel\"><div class=\"sk-parallel-item\"><div class=\"sk-item\"><div class=\"sk-label-container\"><div class=\"sk-label fitted sk-toggleable\"><input class=\"sk-toggleable__control sk-hidden--visually\" id=\"sk-estimator-id-2\" type=\"checkbox\" ><label for=\"sk-estimator-id-2\" class=\"sk-toggleable__label fitted sk-toggleable__label-arrow\"><div><div>estimator: RandomForestRegressor</div></div></label><div class=\"sk-toggleable__content fitted\" data-param-prefix=\"estimator__\"><pre>RandomForestRegressor(random_state=42)</pre></div></div></div><div class=\"sk-serial\"><div class=\"sk-item\"><div class=\"sk-estimator fitted sk-toggleable\"><input class=\"sk-toggleable__control sk-hidden--visually\" id=\"sk-estimator-id-3\" type=\"checkbox\" ><label for=\"sk-estimator-id-3\" class=\"sk-toggleable__label fitted sk-toggleable__label-arrow\"><div><div>RandomForestRegressor</div></div><div><a class=\"sk-estimator-doc-link fitted\" rel=\"noreferrer\" target=\"_blank\" href=\"https://scikit-learn.org/1.7/modules/generated/sklearn.ensemble.RandomForestRegressor.html\">?<span>Documentation for RandomForestRegressor</span></a></div></label><div class=\"sk-toggleable__content fitted\" data-param-prefix=\"estimator__\">\n",
       "        <div class=\"estimator-table\">\n",
       "            <details>\n",
       "                <summary>Parameters</summary>\n",
       "                <table class=\"parameters-table\">\n",
       "                  <tbody>\n",
       "                    \n",
       "        <tr class=\"default\">\n",
       "            <td><i class=\"copy-paste-icon\"\n",
       "                 onclick=\"copyToClipboard('n_estimators',\n",
       "                          this.parentElement.nextElementSibling)\"\n",
       "            ></i></td>\n",
       "            <td class=\"param\">n_estimators&nbsp;</td>\n",
       "            <td class=\"value\">100</td>\n",
       "        </tr>\n",
       "    \n",
       "\n",
       "        <tr class=\"default\">\n",
       "            <td><i class=\"copy-paste-icon\"\n",
       "                 onclick=\"copyToClipboard('criterion',\n",
       "                          this.parentElement.nextElementSibling)\"\n",
       "            ></i></td>\n",
       "            <td class=\"param\">criterion&nbsp;</td>\n",
       "            <td class=\"value\">&#x27;squared_error&#x27;</td>\n",
       "        </tr>\n",
       "    \n",
       "\n",
       "        <tr class=\"default\">\n",
       "            <td><i class=\"copy-paste-icon\"\n",
       "                 onclick=\"copyToClipboard('max_depth',\n",
       "                          this.parentElement.nextElementSibling)\"\n",
       "            ></i></td>\n",
       "            <td class=\"param\">max_depth&nbsp;</td>\n",
       "            <td class=\"value\">None</td>\n",
       "        </tr>\n",
       "    \n",
       "\n",
       "        <tr class=\"default\">\n",
       "            <td><i class=\"copy-paste-icon\"\n",
       "                 onclick=\"copyToClipboard('min_samples_split',\n",
       "                          this.parentElement.nextElementSibling)\"\n",
       "            ></i></td>\n",
       "            <td class=\"param\">min_samples_split&nbsp;</td>\n",
       "            <td class=\"value\">2</td>\n",
       "        </tr>\n",
       "    \n",
       "\n",
       "        <tr class=\"default\">\n",
       "            <td><i class=\"copy-paste-icon\"\n",
       "                 onclick=\"copyToClipboard('min_samples_leaf',\n",
       "                          this.parentElement.nextElementSibling)\"\n",
       "            ></i></td>\n",
       "            <td class=\"param\">min_samples_leaf&nbsp;</td>\n",
       "            <td class=\"value\">1</td>\n",
       "        </tr>\n",
       "    \n",
       "\n",
       "        <tr class=\"default\">\n",
       "            <td><i class=\"copy-paste-icon\"\n",
       "                 onclick=\"copyToClipboard('min_weight_fraction_leaf',\n",
       "                          this.parentElement.nextElementSibling)\"\n",
       "            ></i></td>\n",
       "            <td class=\"param\">min_weight_fraction_leaf&nbsp;</td>\n",
       "            <td class=\"value\">0.0</td>\n",
       "        </tr>\n",
       "    \n",
       "\n",
       "        <tr class=\"default\">\n",
       "            <td><i class=\"copy-paste-icon\"\n",
       "                 onclick=\"copyToClipboard('max_features',\n",
       "                          this.parentElement.nextElementSibling)\"\n",
       "            ></i></td>\n",
       "            <td class=\"param\">max_features&nbsp;</td>\n",
       "            <td class=\"value\">1.0</td>\n",
       "        </tr>\n",
       "    \n",
       "\n",
       "        <tr class=\"default\">\n",
       "            <td><i class=\"copy-paste-icon\"\n",
       "                 onclick=\"copyToClipboard('max_leaf_nodes',\n",
       "                          this.parentElement.nextElementSibling)\"\n",
       "            ></i></td>\n",
       "            <td class=\"param\">max_leaf_nodes&nbsp;</td>\n",
       "            <td class=\"value\">None</td>\n",
       "        </tr>\n",
       "    \n",
       "\n",
       "        <tr class=\"default\">\n",
       "            <td><i class=\"copy-paste-icon\"\n",
       "                 onclick=\"copyToClipboard('min_impurity_decrease',\n",
       "                          this.parentElement.nextElementSibling)\"\n",
       "            ></i></td>\n",
       "            <td class=\"param\">min_impurity_decrease&nbsp;</td>\n",
       "            <td class=\"value\">0.0</td>\n",
       "        </tr>\n",
       "    \n",
       "\n",
       "        <tr class=\"default\">\n",
       "            <td><i class=\"copy-paste-icon\"\n",
       "                 onclick=\"copyToClipboard('bootstrap',\n",
       "                          this.parentElement.nextElementSibling)\"\n",
       "            ></i></td>\n",
       "            <td class=\"param\">bootstrap&nbsp;</td>\n",
       "            <td class=\"value\">True</td>\n",
       "        </tr>\n",
       "    \n",
       "\n",
       "        <tr class=\"default\">\n",
       "            <td><i class=\"copy-paste-icon\"\n",
       "                 onclick=\"copyToClipboard('oob_score',\n",
       "                          this.parentElement.nextElementSibling)\"\n",
       "            ></i></td>\n",
       "            <td class=\"param\">oob_score&nbsp;</td>\n",
       "            <td class=\"value\">False</td>\n",
       "        </tr>\n",
       "    \n",
       "\n",
       "        <tr class=\"default\">\n",
       "            <td><i class=\"copy-paste-icon\"\n",
       "                 onclick=\"copyToClipboard('n_jobs',\n",
       "                          this.parentElement.nextElementSibling)\"\n",
       "            ></i></td>\n",
       "            <td class=\"param\">n_jobs&nbsp;</td>\n",
       "            <td class=\"value\">None</td>\n",
       "        </tr>\n",
       "    \n",
       "\n",
       "        <tr class=\"user-set\">\n",
       "            <td><i class=\"copy-paste-icon\"\n",
       "                 onclick=\"copyToClipboard('random_state',\n",
       "                          this.parentElement.nextElementSibling)\"\n",
       "            ></i></td>\n",
       "            <td class=\"param\">random_state&nbsp;</td>\n",
       "            <td class=\"value\">42</td>\n",
       "        </tr>\n",
       "    \n",
       "\n",
       "        <tr class=\"default\">\n",
       "            <td><i class=\"copy-paste-icon\"\n",
       "                 onclick=\"copyToClipboard('verbose',\n",
       "                          this.parentElement.nextElementSibling)\"\n",
       "            ></i></td>\n",
       "            <td class=\"param\">verbose&nbsp;</td>\n",
       "            <td class=\"value\">0</td>\n",
       "        </tr>\n",
       "    \n",
       "\n",
       "        <tr class=\"default\">\n",
       "            <td><i class=\"copy-paste-icon\"\n",
       "                 onclick=\"copyToClipboard('warm_start',\n",
       "                          this.parentElement.nextElementSibling)\"\n",
       "            ></i></td>\n",
       "            <td class=\"param\">warm_start&nbsp;</td>\n",
       "            <td class=\"value\">False</td>\n",
       "        </tr>\n",
       "    \n",
       "\n",
       "        <tr class=\"default\">\n",
       "            <td><i class=\"copy-paste-icon\"\n",
       "                 onclick=\"copyToClipboard('ccp_alpha',\n",
       "                          this.parentElement.nextElementSibling)\"\n",
       "            ></i></td>\n",
       "            <td class=\"param\">ccp_alpha&nbsp;</td>\n",
       "            <td class=\"value\">0.0</td>\n",
       "        </tr>\n",
       "    \n",
       "\n",
       "        <tr class=\"default\">\n",
       "            <td><i class=\"copy-paste-icon\"\n",
       "                 onclick=\"copyToClipboard('max_samples',\n",
       "                          this.parentElement.nextElementSibling)\"\n",
       "            ></i></td>\n",
       "            <td class=\"param\">max_samples&nbsp;</td>\n",
       "            <td class=\"value\">None</td>\n",
       "        </tr>\n",
       "    \n",
       "\n",
       "        <tr class=\"default\">\n",
       "            <td><i class=\"copy-paste-icon\"\n",
       "                 onclick=\"copyToClipboard('monotonic_cst',\n",
       "                          this.parentElement.nextElementSibling)\"\n",
       "            ></i></td>\n",
       "            <td class=\"param\">monotonic_cst&nbsp;</td>\n",
       "            <td class=\"value\">None</td>\n",
       "        </tr>\n",
       "    \n",
       "                  </tbody>\n",
       "                </table>\n",
       "            </details>\n",
       "        </div>\n",
       "    </div></div></div></div></div></div></div></div></div></div><script>function copyToClipboard(text, element) {\n",
       "    // Get the parameter prefix from the closest toggleable content\n",
       "    const toggleableContent = element.closest('.sk-toggleable__content');\n",
       "    const paramPrefix = toggleableContent ? toggleableContent.dataset.paramPrefix : '';\n",
       "    const fullParamName = paramPrefix ? `${paramPrefix}${text}` : text;\n",
       "\n",
       "    const originalStyle = element.style;\n",
       "    const computedStyle = window.getComputedStyle(element);\n",
       "    const originalWidth = computedStyle.width;\n",
       "    const originalHTML = element.innerHTML.replace('Copied!', '');\n",
       "\n",
       "    navigator.clipboard.writeText(fullParamName)\n",
       "        .then(() => {\n",
       "            element.style.width = originalWidth;\n",
       "            element.style.color = 'green';\n",
       "            element.innerHTML = \"Copied!\";\n",
       "\n",
       "            setTimeout(() => {\n",
       "                element.innerHTML = originalHTML;\n",
       "                element.style = originalStyle;\n",
       "            }, 2000);\n",
       "        })\n",
       "        .catch(err => {\n",
       "            console.error('Failed to copy:', err);\n",
       "            element.style.color = 'red';\n",
       "            element.innerHTML = \"Failed!\";\n",
       "            setTimeout(() => {\n",
       "                element.innerHTML = originalHTML;\n",
       "                element.style = originalStyle;\n",
       "            }, 2000);\n",
       "        });\n",
       "    return false;\n",
       "}\n",
       "\n",
       "document.querySelectorAll('.fa-regular.fa-copy').forEach(function(element) {\n",
       "    const toggleableContent = element.closest('.sk-toggleable__content');\n",
       "    const paramPrefix = toggleableContent ? toggleableContent.dataset.paramPrefix : '';\n",
       "    const paramName = element.parentElement.nextElementSibling.textContent.trim();\n",
       "    const fullParamName = paramPrefix ? `${paramPrefix}${paramName}` : paramName;\n",
       "\n",
       "    element.setAttribute('title', fullParamName);\n",
       "});\n",
       "</script></body>"
      ],
      "text/plain": [
       "MultiOutputRegressor(estimator=RandomForestRegressor(random_state=42))"
      ]
     },
     "execution_count": 22,
     "metadata": {},
     "output_type": "execute_result"
    }
   ],
   "source": [
    "#create a Random Forest regressor\n",
    "rf = RandomForestRegressor(n_estimators=100, random_state=42)#RF is a ML model that builds multiple decision trees and averages their predictions but building 100 tress for robustness and Ensures reproducibility.  \n",
    "\n",
    "#wrap the RF ML to handle multiple target regression outputs by internally training one regressor per target column.\n",
    "multi_rf = MultiOutputRegressor(rf)\n",
    "multi_rf.fit(feature_train_final, target_train_imputed)#this trains the multiple target regression model using the final feature matrix and imputed targets allowing each target column gets its own RF model."
   ]
  },
  {
   "cell_type": "markdown",
   "id": "3a13ff8d-ea07-4a8b-9e5c-2ac3358bed75",
   "metadata": {},
   "source": [
    "**Predict on test set**"
   ]
  },
  {
   "cell_type": "code",
   "execution_count": 23,
   "id": "dfb45ea3-a9a0-44cd-83fb-051b13d9252c",
   "metadata": {},
   "outputs": [
    {
     "name": "stdout",
     "output_type": "stream",
     "text": [
      "Target: Value | R2: 0.955 | RMSE: 122.436\n",
      "Target: Count | R2: 0.634 | RMSE: 4516.931\n",
      "Target: Denominator | R2: 0.300 | RMSE: 106082.450\n",
      "Target: Lower CI 95.0 limit | R2: 0.951 | RMSE: 121.526\n",
      "Target: Upper CI 95.0 limit | R2: 0.952 | RMSE: 132.932\n",
      "Target: Lower CI 99.8 limit | R2: 0.949 | RMSE: 119.248\n",
      "Target: Upper CI 99.8 limit | R2: 0.951 | RMSE: 135.660\n"
     ]
    }
   ],
   "source": [
    "predictions = multi_rf.predict(feature_test_final)#Generates predictions for each target column.\n",
    "\n",
    "#Evaluate the model using R2 and RMSE for each target\n",
    "for i, col in enumerate(target.columns):#Loops through each target column name\n",
    "    r2 = r2_score(target_test_imputed[:, i], predictions[:, i])#using scikit-learn model measures how well predictions match actual values. 1 = Perfect prediction, 0.0 = model model predicts the mean and Negative = worse than predicting the mean \n",
    "    mse = mean_squared_error(target_test_imputed[:, i], predictions[:, i])#using the scikit-learn model to calculate mean sequared error (RMSE) for lower RMSE = better fit then return RMSE\n",
    "    rmse = np.sqrt(mse)#using the Numpy model to manually calculate the square root to get RMSE root mean sequared error                       \n",
    "    print(f\"Target: {col} | R2: {r2:.3f} | RMSE: {rmse:.3f}\")#show the target column r2 score and RMSE\n"
   ]
  },
  {
   "cell_type": "markdown",
   "id": "2c1d5973-3e30-474a-9467-b7ed634a9440",
   "metadata": {},
   "source": [
    "**Inspect feature importance**"
   ]
  },
  {
   "cell_type": "markdown",
   "id": "4e1b1a9e-1dc7-4f9e-9f34-a517e7f27737",
   "metadata": {},
   "source": [
    "From the Predict on test set data, we can see that there is data leakage issues likes Lower CI 95%, Upper CI 95%, Count, and Denominator as targets.\n",
    "\n",
    "The problem is these are mathematically derived from Value, so predicting them is basically not good for the model. it inflates R2 values and gives misleading feature importance. \n",
    "\n",
    "we can see from the R2 interpretation values, that the R2 value for Value column  is 0.955 which is good for the ML model because of its real patterns. \n",
    "whereas, the other columns were moderate okay, or weak and not meaningful like Denominator  and count. ALso the CLs were 0.95 which were high and redundant.                                                                               "
   ]
  },
  {
   "cell_type": "code",
   "execution_count": 24,
   "id": "569bd3cb-9175-4ae9-8d05-ec49ed5ad454",
   "metadata": {},
   "outputs": [
    {
     "data": {
      "image/png": "[encoded data removed]",
      "text/plain": [
       "<Figure size 1200x800 with 1 Axes>"
      ]
     },
     "metadata": {},
     "output_type": "display_data"
    }
   ],
   "source": [
    "#Get feature importance from each individual estimator one per target column\n",
    "importances = np.array([est.feature_importances_ for est in multi_rf.estimators_])#using the numpy array shape, each model target column has its own feature importance, so for each feature importance column in the multi_rf target regression outputs is a list of individual Random Forest Regressor models — one for each target. \n",
    "\n",
    "#Averages the feature importance across all target models showing the mean importance of each feature \n",
    "mean_importances = importances.mean(axis=0)\n",
    "\n",
    "#Build a DataFrame to visualize the data\n",
    "feature_names_final = list(numeric_cols) + list(encoder.get_feature_names_out(categorical_cols))#this combines numeric and encoded categorical feature names.\n",
    "feature_importance_df = pd.DataFrame({\n",
    "    'Feature': feature_names_final,\n",
    "    'Importance': mean_importances\n",
    "}).sort_values(by='Importance', ascending=False)#create a df with feature names and their average importance sorted from ascending to decending.\n",
    "\n",
    "#Plot horizontal bar chart with feature importance using seaborn \n",
    "plt.figure(figsize=(12, 8))\n",
    "sns.barplot(x='Importance', y='Feature', data=feature_importance_df)#plot barplot with features on the y-axis, importance on the x-axis.\n",
    "plt.title(\"Feature Importance Across All Health Outcomes\")#plot horizontal title \n",
    "plt.tight_layout()#make sure labels dont get cut off.\n",
    "plt.show()#show the bar chat."
   ]
  },
  {
   "cell_type": "markdown",
   "id": "20e3f787-2ad1-480b-9d76-2aeaf68e03b8",
   "metadata": {},
   "source": [
    "From this feature importance section, the male sex dominates due to sex difference driving raw rates or denominator very by sex \n",
    "\n",
    "From the result of the feature importance, it shows how much each input variable contributes to predicting the target health outcomes like value and counts and denominator. \n",
    "We can see features with high importance that strongly influence predictions and features with low importance that have little effect or may be noisy. \n",
    "\n",
    "From the data, we can see that the Sex_male and age_all ages are ranked high, meaning the sex and age are strong predictors of health outcomes rates.\n",
    "from this same data, all PM2.5 metrics had noticeable importance aligning with the research question goal of how does air pollution exposure levels interaction, contribute to predicting health outcome risk using ML model random forest. \n",
    "Then we can also see that alcohol related CVD condition is also a very noticeable importance feature that contribute the the link of air pollution and health risk outcome.\n",
    "\n",
    "From this results, we can see that the model is understanding that the importance features are demographics and PM2.5 levels. "
   ]
  },
  {
   "cell_type": "markdown",
   "id": "4058829f-0a24-4814-8055-51653f5ed548",
   "metadata": {},
   "source": [
    "from this same results we understand that demographics and PM2.5 levels show significant importance therefore to understand how PM2.5 contribute to health outcome,\n",
    "we will only compare the PM2.5 to the value only. \n",
    "\n",
    "Seeing as the CLs columns and others like Count, and Denominator should not be used as target or feature as they introduce leakages, redundancy and inflate R2 atificially "
   ]
  },
  {
   "cell_type": "code",
   "execution_count": 27,
   "id": "e5dfdd50-03f6-499b-8209-22a0ea5312ef",
   "metadata": {},
   "outputs": [
    {
     "name": "stdout",
     "output_type": "stream",
     "text": [
      "                                      Value     Count  Denominator  \\\n",
      "Year                           7.796290e-03  0.020205     0.051600   \n",
      "PM2.5_Total                    1.523460e-02  0.086455     0.184640   \n",
      "PM2.5_Anthropogenic            1.537652e-02  0.127123     0.206941   \n",
      "PM2.5_Non_Anthropogenic        2.956967e-02  0.153797     0.317861   \n",
      "Sex_Female                     5.204828e-02  0.005040     0.000694   \n",
      "Sex_Male                       6.837748e-01  0.000127     0.000740   \n",
      "Sex_Persons                    3.762873e-02  0.000134     0.206037   \n",
      "Age_16+ yrs                    6.812742e-05  0.001192     0.002604   \n",
      "Age_18+ yrs                    7.649200e-07  0.063073     0.008476   \n",
      "Age_6+ yrs                     7.431196e-08  0.001029     0.002748   \n",
      "Age_All ages                   5.889877e-02  0.265479     0.002203   \n",
      "Condition_Alcohol-related CVD  9.951099e-02  0.209211     0.002063   \n",
      "Condition_Asthma               6.438387e-08  0.001034     0.002242   \n",
      "\n",
      "                               Lower CI 95.0 limit  Upper CI 95.0 limit  \\\n",
      "Year                                  8.528829e-03         8.065888e-03   \n",
      "PM2.5_Total                           1.666368e-02         1.722212e-02   \n",
      "PM2.5_Anthropogenic                   1.692585e-02         1.608163e-02   \n",
      "PM2.5_Non_Anthropogenic               3.216595e-02         2.989177e-02   \n",
      "Sex_Female                            6.049910e-02         3.885333e-02   \n",
      "Sex_Male                              6.780513e-01         6.829556e-01   \n",
      "Sex_Persons                           3.494777e-02         4.510078e-02   \n",
      "Age_16+ yrs                           6.491881e-05         6.817734e-05   \n",
      "Age_18+ yrs                           7.236307e-07         6.857296e-07   \n",
      "Age_6+ yrs                            1.444196e-07         1.493957e-07   \n",
      "Age_All ages                          8.208406e-02         7.035665e-02   \n",
      "Condition_Alcohol-related CVD         6.998037e-02         9.131285e-02   \n",
      "Condition_Asthma                      1.661380e-07         1.074276e-07   \n",
      "\n",
      "                               Lower CI 99.8 limit  Upper CI 99.8 limit  \n",
      "Year                                  9.012821e-03         8.013030e-03  \n",
      "PM2.5_Total                           1.674374e-02         1.730982e-02  \n",
      "PM2.5_Anthropogenic                   1.715158e-02         1.635337e-02  \n",
      "PM2.5_Non_Anthropogenic               3.346300e-02         2.990319e-02  \n",
      "Sex_Female                            6.631792e-02         3.873763e-02  \n",
      "Sex_Male                              6.708499e-01         6.787953e-01  \n",
      "Sex_Persons                           3.417060e-02         4.355165e-02  \n",
      "Age_16+ yrs                           8.681068e-03         1.008718e-02  \n",
      "Age_18+ yrs                           2.137945e-07         1.762245e-07  \n",
      "Age_6+ yrs                            4.462234e-07         3.314209e-07  \n",
      "Age_All ages                          5.865470e-02         8.576912e-02  \n",
      "Condition_Alcohol-related CVD         7.597347e-02         6.288688e-02  \n",
      "Condition_Asthma                      6.568796e-07         4.505996e-07  \n"
     ]
    }
   ],
   "source": [
    "# Create a DataFrame for each target's feature importance\n",
    "target_names = target.columns.tolist()\n",
    "feature_names_final = list(numeric_cols) + list(encoder.get_feature_names_out(categorical_cols))\n",
    "\n",
    "individual_importance_df = pd.DataFrame(importances.T, index=feature_names_final, columns=target_names)\n",
    "\n",
    "# Display top features per target\n",
    "print(individual_importance_df.head(13))\n"
   ]
  },
  {
   "cell_type": "markdown",
   "id": "3a7ed537-368b-4dba-933f-c27a44bb7fd5",
   "metadata": {},
   "source": [
    "from this results, the value column shows feature importance for predicting value. \n",
    "This is where sex_female with a value of 0.052, shows that the target value feature has a relative importance of 5.2% which contributes to predicting the Value.\n",
    "Where as the count and denominator columns show high importances for PM2.5 target features for example 0.317 for PM2.5 non anthropogenic. this shows the model relies heavily on pollution to predict the outcomes. \n",
    "The CLs columns also show target feature importance which are similar to value, count and denominator. However, they are derived metrics from count, denominator and values. Therfore we will remove this target feature columns as they will introduce leakage and only use the value coolumns.\n",
    "Seeing as all count and denominator are mathematically linked to value which will introduce leakage and allow use to answer the main question. "
   ]
  },
  {
   "cell_type": "markdown",
   "id": "54ee6d59-9c22-45b0-b5b9-eb2172d31ed3",
   "metadata": {},
   "source": [
    "From this data, we observe some patterns which are the demographics dominate value for female sex and male sex are strongest predictors for the actual health rates.\n",
    "\n",
    "The pollution materics matters but less than demographics for values of PM2.5 target feature have moderate importance \n",
    "\n",
    "Then the target leakage in CL and count and denominator, show importance jumps because those target values are obtained from the Value column and therefore, increasing the scores artifically.                                                                                                                                                                                     "
   ]
  },
  {
   "cell_type": "markdown",
   "id": "42e55d28-c048-46da-b6e1-803d478422e5",
   "metadata": {},
   "source": [
    "Key takes and why this matter for futher analysis \n",
    "\n",
    "Keep Value as the main target \n",
    "Drop counts denominators and CL columns from both features and targets.\n",
    "Use PM2.5 metrics + Demographics + condition as features.\n",
    "\n",
    "This will produce cleaner, scientifically meaningful feature importance and not just inflated by target leakage."
   ]
  },
  {
   "cell_type": "code",
   "execution_count": 22,
   "id": "6ee02c89-cb56-48e4-b2d7-2452141673fb",
   "metadata": {},
   "outputs": [],
   "source": [
    "#save the averaged importance\n",
    "feature_importance_df.to_csv(\"mean_feature_importance.csv\", index=False)"
   ]
  },
  {
   "cell_type": "code",
   "execution_count": null,
   "id": "20aeec3c-eb6d-40bd-9d0c-0e4ca0eafc96",
   "metadata": {},
   "outputs": [],
   "source": [
    "#save the individual importance per target\n",
    "individual_importance_df.to_csv(\"individual_feature_importance.csv\")"
   ]
  },
  {
   "cell_type": "code",
   "execution_count": 28,
   "id": "9e4001b0-fa7a-45cd-a38b-df31f377f6a3",
   "metadata": {},
   "outputs": [
    {
     "name": "stdout",
     "output_type": "stream",
     "text": [
      "                          Feature  Importance\n",
      "5                        Sex_Male    0.485042\n",
      "3         PM2.5_Non_Anthropogenic    0.089522\n",
      "10                   Age_All ages    0.089064\n",
      "11  Condition_Alcohol-related CVD    0.087277\n",
      "2             PM2.5_Anthropogenic    0.059422\n"
     ]
    }
   ],
   "source": [
    "# Sort by importance first\n",
    "sorted_df = feature_importance_df.sort_values(by='Importance', ascending=False)\n",
    "\n",
    "# Show top 5 most important features\n",
    "top_features = sorted_df.head(5)\n",
    "print(top_features)\n"
   ]
  },
  {
   "cell_type": "code",
   "execution_count": 42,
   "id": "8f863729-25c9-444f-add1-f4aa097cbf23",
   "metadata": {},
   "outputs": [
    {
     "name": "stdout",
     "output_type": "stream",
     "text": [
      "                          Feature  Importance\n",
      "5                        Sex_Male    0.485042\n",
      "3         PM2.5_Non_Anthropogenic    0.089522\n",
      "10                   Age_All ages    0.089064\n",
      "11  Condition_Alcohol-related CVD    0.087277\n",
      "2             PM2.5_Anthropogenic    0.059422\n",
      "6                     Sex_Persons    0.057367\n",
      "1                     PM2.5_Total    0.050610\n",
      "4                      Sex_Female    0.037456\n",
      "0                            Year    0.016175\n",
      "13                  Condition_CKD    0.010496\n",
      "8                     Age_18+ yrs    0.010222\n",
      "7                     Age_16+ yrs    0.003252\n",
      "14      Condition_Type 2 Diabetes    0.003088\n"
     ]
    }
   ],
   "source": [
    "#filter the averaged importance\n",
    "filtered_feature_importance_df = feature_importance_df[feature_importance_df['Importance'] > 0.001]\n",
    "# Sort the filtered results by importance (descending)\n",
    "filtered_feature_importance_df = filtered_df.sort_values(by='Importance', ascending=False)\n",
    "print(filtered_feature_importance_df)\n"
   ]
  },
  {
   "cell_type": "code",
   "execution_count": null,
   "id": "9ea4d22e-b7b7-4826-b5e9-ec835cf70d2c",
   "metadata": {},
   "outputs": [],
   "source": []
  },
  {
   "cell_type": "markdown",
   "id": "c3f6b823-d7c5-460a-af20-0e359314f882",
   "metadata": {},
   "source": [
    "**From here on out we will be filtering this data more to only use Value as the main target so we can see how Air pollution contribute to health outcomes.**\n",
    "\n",
    "We will have no leakages from count, Denominator or CLs columns \n",
    "\n",
    "We will also see whcih PM2.5 metrics and demographics most influence the target which is the Value."
   ]
  },
  {
   "cell_type": "markdown",
   "id": "0bbc9570-aea0-4b65-b6fe-2e43cb0e637b",
   "metadata": {},
   "source": [
    "Plans:\n",
    "Drop unnecessary columns like Count, Denominator and CIs.\n",
    "\n",
    "Define features and target.\n",
    "\n",
    "Encode categorical variables.\n",
    "\n",
    "Train a Random Forest to predict Value.\n",
    "\n",
    "Show feature importance."
   ]
  },
  {
   "cell_type": "markdown",
   "id": "6722755d-1404-4bed-9b7e-eb17a2db2e6f",
   "metadata": {},
   "source": [
    "**Drop unnecessary columns**"
   ]
  },
  {
   "cell_type": "code",
   "execution_count": 31,
   "id": "fdc39784-ada6-4807-8d5d-ef79f68973ec",
   "metadata": {},
   "outputs": [],
   "source": [
    "#Drop all columns related to Count, Denominator, and CI\n",
    "cols_to_drop = [col for col in target.columns if 'Count' in col or 'Denominator' in col or 'Lower CI 95.0 limit'  in col or 'Upper CI 95.0 limit' in col or 'Lower CI 99.8 limit' in col or 'Upper CI 99.8 limit' in col]    \n",
    "target_clean = target.drop(columns=cols_to_drop)#the target should only be Value\n",
    "\n",
    "#Also drop these columns from features if present and ensure we dont get any errors if a column isn't in features.\n",
    "features_clean = feature.drop(columns=cols_to_drop, errors='ignore')\n"
   ]
  },
  {
   "cell_type": "markdown",
   "id": "b3412b27-55f0-435a-8436-13716895dba7",
   "metadata": {},
   "source": [
    "This code is dropping the nunecessary columns so in target_clean we only have the Value columns which is clinical outcome rate per condition.\n",
    "\n",
    "In the features_clean variable, we are removing any columns that could leak informations like the target veriables Count, Denominator and CIs.\n"
   ]
  },
  {
   "cell_type": "markdown",
   "id": "c377580c-e7ef-4c50-98e5-da458c7a4215",
   "metadata": {},
   "source": [
    "**Select feature**"
   ]
  },
  {
   "cell_type": "code",
   "execution_count": 32,
   "id": "31c54411-8386-40a3-b6f4-54838585ee16",
   "metadata": {},
   "outputs": [],
   "source": [
    "# Include PM2.5 metrics and demographics as features\n",
    "pm_cols = [col for col in features_clean.columns if 'PM2.5_Total' in col or 'PM2.5_Non_Anthropogenic' in col or 'PM2.5_Anthropogenic' in col]\n",
    "demographic_cols = ['Sex', 'Age']  #actual demographic columns in the dataset\n",
    "\n",
    "selected_features = features_clean[pm_cols + demographic_cols]#combined pm_cols and demographic cols now contain only relevant predictors\n"
   ]
  },
  {
   "cell_type": "markdown",
   "id": "fa6749ec-b1cb-4e69-8dd3-fb23e084e383",
   "metadata": {},
   "source": [
    "The pm-cols will find all columns related to PM2.5.\n",
    "Then the demographic_cols should be manually adjusted to match my dataset.\n",
    "Then the selected_feature with the combined pm_cols and demographic cols now contain only relevant predictors "
   ]
  },
  {
   "cell_type": "code",
   "execution_count": 33,
   "id": "dec87bdd-c5f4-4bec-81e2-218bd5feb672",
   "metadata": {},
   "outputs": [],
   "source": [
    "from sklearn.preprocessing import OneHotEncoder\n",
    "#identify columns with object datatype \n",
    "categorical_cols = [col for col in selected_features.columns if selected_features[col].dtype == 'object']\n",
    "encoder = OneHotEncoder(sparse_output=False, drop='first')#drop='first' avoids dummy variable trap\n",
    "\n",
    "encoded_cat = pd.DataFrame(\n",
    "    encoder.fit_transform(selected_features[categorical_cols]),\n",
    "    columns=encoder.get_feature_names_out(categorical_cols),\n",
    "    index=selected_features.index\n",
    ")\n",
    "\n",
    "# Combine numerical and encoded categorical features\n",
    "numeric_cols = selected_features.select_dtypes(include='number')\n",
    "X = pd.concat([numeric_cols, encoded_cat], axis=1)\n",
    "y = target_clean['Value']\n"
   ]
  },
  {
   "cell_type": "markdown",
   "id": "bbf46f55-d802-4fb4-a511-18ce7b9de06e",
   "metadata": {},
   "source": [
    "This code identifies non-numeric columns in the categorical_cols.\n",
    "\n",
    "converts the columns into numeric scaled 0-1 columns.\n",
    "\n",
    "so X which is feature now has all numerical predictors.\n",
    "\n",
    "then the y which is target, contains only Value columns. "
   ]
  },
  {
   "cell_type": "markdown",
   "id": "ad8ae3c2-b46d-4717-add2-5dea599b7361",
   "metadata": {},
   "source": [
    "**Train a Random Forest**"
   ]
  },
  {
   "cell_type": "code",
   "execution_count": 34,
   "id": "866dde07-84be-422a-81dc-6653a8bfbfc2",
   "metadata": {},
   "outputs": [
    {
     "data": {
      "text/plain": [
       "np.int64(62)"
      ]
     },
     "execution_count": 34,
     "metadata": {},
     "output_type": "execute_result"
    }
   ],
   "source": [
    "#Check for missing values in y values\n",
    "y.isna().sum()\n"
   ]
  },
  {
   "cell_type": "markdown",
   "id": "6c0541ed-10d8-4a8f-863b-988c60592364",
   "metadata": {},
   "source": [
    "We have 62 missing values in the target feature. Random forest can not work with data with missing value rows.\n",
    "\n",
    "So to handle this we can drop rows with missing targets values. \n",
    "\n",
    "This is better and safer because if we fill in thoes rows, it can make the data model bias.\n",
    "\n",
    "the only cons to this is we lose 62 rows from the dataset."
   ]
  },
  {
   "cell_type": "code",
   "execution_count": 35,
   "id": "9ea0b3f9-4b6f-4230-91b7-5833b5878e71",
   "metadata": {},
   "outputs": [],
   "source": [
    "# Keep only rows where target is not NaN\n",
    "rows_not_missing_NaN_idx = y.notna()#returns a Boolean Series indicating which rows in y are not missing (NaN).\n",
    "\n",
    "X_clean = X.loc[rows_not_missing_NaN_idx]#keeping only the rows where the target is present.\n",
    "y_clean = y.loc[rows_not_missing_NaN_idx]#keeping only the rows where the target is present.\n"
   ]
  },
  {
   "cell_type": "markdown",
   "id": "d5c137d1-1eb4-478c-b17c-d7ce1d2f3f62",
   "metadata": {},
   "source": [
    "This ensures that your model won't be trained on rows with missing target values, which would otherwise cause errors or unreliable predictions."
   ]
  },
  {
   "cell_type": "code",
   "execution_count": 36,
   "id": "1aca4035-1198-4a9a-94fa-cecc5cf6cc79",
   "metadata": {},
   "outputs": [],
   "source": [
    "from sklearn.ensemble import RandomForestRegressor\n",
    "from sklearn.model_selection import train_test_split\n",
    "\n",
    "# Split data into training and testing\n",
    "X_train, X_test, y_train, y_test = train_test_split(X_clean, y_clean, test_size=0.2, random_state=42)\n",
    "\n",
    "# Train the model\n",
    "rf = RandomForestRegressor(n_estimators=500, random_state=42)\n",
    "rf.fit(X_train, y_train)\n",
    "\n",
    "# Predict on test set\n",
    "y_pred = rf.predict(X_test)\n"
   ]
  },
  {
   "cell_type": "markdown",
   "id": "4dad9761-fb3f-402e-9344-32608ce9216e",
   "metadata": {},
   "source": [
    "train_test_split keeps 80% for training, 20% for testing.\n",
    "\n",
    "the n_estimators=500 means that 500 decision tree in the random forest will be made for stability.\n",
    "\n",
    "Then random forest (rf) will generate a prediction based on the Value column values."
   ]
  },
  {
   "cell_type": "markdown",
   "id": "af663e3f-3de1-47f4-bef6-6ee68633cafa",
   "metadata": {},
   "source": [
    "**Feature Importance**"
   ]
  },
  {
   "cell_type": "code",
   "execution_count": 45,
   "id": "fad45cc7-b77d-43b1-bcff-69b22f936920",
   "metadata": {},
   "outputs": [
    {
     "name": "stdout",
     "output_type": "stream",
     "text": [
      "                   Feature    Importance\n",
      "3                 Sex_Male  6.944859e-01\n",
      "7             Age_All ages  1.581822e-01\n",
      "4              Sex_Persons  9.409288e-02\n",
      "2  PM2.5_Non_Anthropogenic  2.758233e-02\n",
      "0              PM2.5_Total  1.351866e-02\n",
      "1      PM2.5_Anthropogenic  1.213591e-02\n",
      "5              Age_18+ yrs  2.000649e-06\n",
      "6               Age_6+ yrs  1.623634e-07\n"
     ]
    }
   ],
   "source": [
    "# Get feature importances\n",
    "importances = rf.feature_importances_\n",
    "\n",
    "# Create DataFrame for easier viewing\n",
    "filtered_feature_importance_df = pd.DataFrame({\n",
    "    'Feature': X.columns,\n",
    "    'Importance': importances\n",
    "}).sort_values(by='Importance', ascending=False)\n",
    "\n",
    "# Display top features\n",
    "print(filtered_feature_importance_df.head(10))\n"
   ]
  },
  {
   "cell_type": "markdown",
   "id": "513c4792-6fab-46b3-9c05-4f4651cb441c",
   "metadata": {},
   "source": [
    "rf.feature_importances_ this gives a score for each feature and this is where higher = more influence.\n",
    "\n",
    "Feature_importance_df sorts feature by importance \n",
    "\n",
    "head(10) this shows the top 10 most important predictors for Valuue"
   ]
  },
  {
   "cell_type": "markdown",
   "id": "39b1a3b1-d530-4e36-a2b5-9d7eb6f6cee8",
   "metadata": {},
   "source": [
    "**from this result, it shows that**"
   ]
  },
  {
   "cell_type": "markdown",
   "id": "9bcbef3f-5144-4cb6-af29-f391355fad85",
   "metadata": {},
   "source": [
    "Male with importance value of 0.694 shows to be most influential feature in the model and looks like the model relies heavily on this for prediction.\n",
    "                                                                                                                                     All ages with importance value of 0.158 shows the be second mostly influential feature which is age across all groups contributes moderately to the model prediction.\n",
    "All persons with 0.094 also somewhat relevant \n",
    "\n",
    "PM2.5 Non_Anthropogenic with value of 0.028 from non human sources have minor influence \n",
    "\n",
    "PM2.5 total with value of 0.013 which is the overall PM2.5 of Non_Anthropogenic and Anthropogenic show to have very little contribution\n",
    "\n",
    "PM2.5 Anthropogenic with value of 0.012 show very very low levels of contribution \n",
    "\n",
    "Then both age 18+ and 6+ with calues of 0.000002 and 0.000000 show to have zero to no influence at all. "
   ]
  },
  {
   "cell_type": "markdown",
   "id": "212ad093-65ed-4dec-b500-63d60221832d",
   "metadata": {},
   "source": [
    "**Key observation from the results**"
   ]
  },
  {
   "cell_type": "markdown",
   "id": "f5288f45-d13a-47da-87de-9676d2e0f2e0",
   "metadata": {},
   "source": [
    "Sex features from the model shows that gender is the most strongest predictor of health issues and depending on the persons gender could influence stronger disease outcomes when exposed to PM2.5.\n",
    "\n",
    "The age features, the only age groups that matter with more significant influence is the all age groups. showing that the values for all age groups show more corrolations for how PM2.5 on all age groups contribute to health issues. \n",
    "\n",
    "The PM2.5 features show low importance. maybe due to the model not getting the full effect strongly or there is a multicollinearity where some features are redundant.\n",
    "\n",
    "Then we see that both age18 and 16 show no sign of importance therefore, we can confirm to not using them to predict any outcomes as they dont have any importance to the model. "
   ]
  },
  {
   "cell_type": "code",
   "execution_count": 46,
   "id": "f491a1b9-e2c5-4a87-9d7d-73eae040bd3c",
   "metadata": {},
   "outputs": [
    {
     "data": {
      "image/png": "[encoded data removed]",
      "text/plain": [
       "<Figure size 1000x600 with 1 Axes>"
      ]
     },
     "metadata": {},
     "output_type": "display_data"
    }
   ],
   "source": [
    "import matplotlib.pyplot as plt\n",
    "#Plot horizontal bar chart with feature importance \n",
    "plt.figure(figsize=(10,6))\n",
    "plt.barh(feature_importance_df['Feature'], filtered_feature_importance_df['Importance'])\n",
    "plt.gca().invert_yaxis()  # Highest importance on top\n",
    "plt.xlabel(\"Feature Importance\")\n",
    "plt.ylabel(\"Features\")\n",
    "plt.title(\"Random Forest Feature Importance\")\n",
    "plt.show()\n"
   ]
  },
  {
   "cell_type": "code",
   "execution_count": 62,
   "id": "74440c96-1936-4953-971a-fb14da3d435a",
   "metadata": {},
   "outputs": [
    {
     "data": {
      "image/png": "[encoded data removed]",
      "text/plain": [
       "<Figure size 800x600 with 1 Axes>"
      ]
     },
     "metadata": {},
     "output_type": "display_data"
    }
   ],
   "source": [
    "#Import libraries\n",
    "import matplotlib.pyplot as plt#For plotting\n",
    "import statsmodels.api as sm #For LOWESS smoothing\n",
    "import numpy as np #For numerical operations\n",
    "\n",
    "#residplot\n",
    "\n",
    "#Calculate residuals\n",
    "#Residuals are the difference between actual and predicted values\n",
    "residuals = y_clean - y_pred_full\n",
    "\n",
    "#Apply LOWESS smoothing\n",
    "#LOWESS = Locally Weighted Scatterplot Smoothing\n",
    "#This helps visualize trends in residuals without assuming a specific model\n",
    "lowess = sm.nonparametric.lowess\n",
    "smoothed = lowess(residuals, y_pred_full, frac=0.3)  # fraction controls the window size for smoothing level. This smooths out noise while preserving strucutre making it balanced \n",
    "\n",
    "#Plot the residuals and LOWESS line\n",
    "plt.figure(figsize=(8,6))#Set plot size\n",
    "plt.scatter(y_pred_full, residuals, alpha=0.5)#Plot raw residuals as scatter\n",
    "plt.plot(smoothed[:, 0], smoothed[:, 1],#Plot LOWESS-smoothed line\n",
    "         color='red', linewidth=2)# Style the line to red \n",
    "plt.axhline(0, color='gray', linestyle='--')#Add horizontal line at zero\n",
    "\n",
    "#Label the plot\n",
    "plt.xlabel(\"Predicted Value\")#X-axis label\n",
    "plt.ylabel(\"Residuals (Actual - Predicted)\")#Y-axis label\n",
    "plt.title(\"Residual Plot with LOWESS Smoothing to assess prediction matches the actual outcome\")#Plot title\n",
    "plt.show()#Display the plot\n"
   ]
  },
  {
   "cell_type": "code",
   "execution_count": null,
   "id": "1074ac99-d5af-4d56-b115-1be7ad86bfcc",
   "metadata": {},
   "outputs": [],
   "source": []
  },
  {
   "cell_type": "markdown",
   "id": "d0a76840-4bf9-4051-97b1-c98511b57292",
   "metadata": {},
   "source": [
    "this plat from https://seaborn.pydata.org/generated/seaborn.residplot.html\n",
    "\n",
    "this is good to view residual level for transparency and to see the levels of smoothing for more details "
   ]
  },
  {
   "cell_type": "code",
   "execution_count": 56,
   "id": "9487e308-5d78-4e7e-897f-a93a4eb292cb",
   "metadata": {},
   "outputs": [
    {
     "data": {
      "image/png": "[encoded data removed]",
      "text/plain": [
       "<Figure size 1200x800 with 9 Axes>"
      ]
     },
     "metadata": {},
     "output_type": "display_data"
    }
   ],
   "source": [
    "#Import plotting and Partial Dependence Plot (PDP) tools\n",
    "import matplotlib.pyplot as plt\n",
    "from sklearn.inspection import PartialDependenceDisplay\n",
    "\n",
    "#Select top features based on importance\n",
    "#From the random forest feature importance df select top features based on importance \n",
    "top_features = filtered_feature_importance_df['Feature'].head(8).tolist()  # Top 8 most important features\n",
    "\n",
    "#Create a figure and axis for plotting\n",
    "figure, axis = plt.subplots(figsize=(12, 8))#Set plot size for clarity\n",
    "\n",
    "#Generate Partial Dependence Plots\n",
    "#PDP shows how each feature influences the predicted outcome, marginalizing over other features\n",
    "PartialDependenceDisplay.from_estimator(\n",
    "    rf, #trained Random Forest model\n",
    "    X_clean, #The cleaned feature matrix used for prediction\n",
    "    features=top_features,#List of features to plot\n",
    "    kind='average',#Show average marginal effect across samples\n",
    "    grid_resolution=50,#Number of points used to evaluate each feature\n",
    "    ax=axis #Plot on the axis created above\n",
    ")\n",
    "\n",
    "#Add a title to the entire figure\n",
    "plt.suptitle(\"Partial Dependence Plots for Top Features\", fontsize=16)\n",
    "\n",
    "#Display the plot\n",
    "plt.show()\n"
   ]
  },
  {
   "cell_type": "markdown",
   "id": "933fb0ae-6446-4b63-bd01-76bc8ca21175",
   "metadata": {},
   "source": [
    "this plot is from https://scikit-learn.org/stable/modules/partial_dependence.html\n",
    "\n",
    "This plot helps to interpret how each feature affects predictions and we can spot non-linear effects thresholds in model behavior.\n",
    "\n",
    "These plots show how individual features influence the model’s predictions, while averaging out the effects of all other variables."
   ]
  },
  {
   "cell_type": "code",
   "execution_count": null,
   "id": "e6cebedd-cc53-4874-b5e4-501595196bb3",
   "metadata": {},
   "outputs": [],
   "source": []
  },
  {
   "cell_type": "code",
   "execution_count": null,
   "id": "ce47d35e-e76a-477f-89ac-aa5897517a29",
   "metadata": {},
   "outputs": [],
   "source": []
  }
 ],
 "metadata": {
  "kernelspec": {
   "display_name": "Python 3 (ipykernel)",
   "language": "python",
   "name": "python3"
  },
  "language_info": {
   "codemirror_mode": {
    "name": "ipython",
    "version": 3
   },
   "file_extension": ".py",
   "mimetype": "text/x-python",
   "name": "python",
   "nbconvert_exporter": "python",
   "pygments_lexer": "ipython3",
   "version": "3.13.2"
  }
 },
 "nbformat": 4,
 "nbformat_minor": 5
}
