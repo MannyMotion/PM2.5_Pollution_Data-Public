{
 "cells": [
  {
   "cell_type": "code",
   "execution_count": 3,
   "id": "250d0c73-4843-46c6-aeb8-7199e5a6513e",
   "metadata": {},
   "outputs": [
    {
     "name": "stdout",
     "output_type": "stream",
     "text": [
      "   Numeric Area Code  Area Code Local Authority Name  Year  \\\n",
      "0                1.0  E07000223                 Adur  2012   \n",
      "1                1.0  E07000223                 Adur  2013   \n",
      "2                1.0  E07000223                 Adur  2014   \n",
      "3                1.0  E07000223                 Adur  2015   \n",
      "4                1.0  E07000223                 Adur  2016   \n",
      "\n",
      "   PM2.5_Anthropogenic  PM2.5_Non_Anthropogenic  PM2.5_Total  \\\n",
      "0               8.3472                   2.2917      10.6389   \n",
      "1               8.4336                   2.2585      10.6921   \n",
      "2               7.6801                   2.2662       9.9463   \n",
      "3               8.0684                   1.3994       9.4679   \n",
      "4              10.5668                   0.5557      11.1224   \n",
      "\n",
      "  PM2.5_Anthropogenic_ImputationMethod  \\\n",
      "0                             Original   \n",
      "1                             Original   \n",
      "2                             Original   \n",
      "3                             Original   \n",
      "4                             Original   \n",
      "\n",
      "  PM2.5_Non_Anthropogenic_ImputationMethod PM2.5_Total_ImputationMethod  \\\n",
      "0                                 Original                     Original   \n",
      "1                                 Original                     Original   \n",
      "2                                 Original                     Original   \n",
      "3                                 Original                     Original   \n",
      "4                                 Original                     Original   \n",
      "\n",
      "   Admission episodes for alcohol-related cardiovascular disease (Broad)  \\\n",
      "0                                                NaN                       \n",
      "1                                                NaN                       \n",
      "2                                                NaN                       \n",
      "3                                                NaN                       \n",
      "4                                                NaN                       \n",
      "\n",
      "   Asthma: QOF prevalence  CKD: QOF prevalence  \\\n",
      "0                     NaN                  NaN   \n",
      "1                     NaN                  NaN   \n",
      "2                     NaN                  NaN   \n",
      "3                     NaN                  NaN   \n",
      "4                     NaN                  NaN   \n",
      "\n",
      "   Estimated prevalence of diagnosed and undiagnosed type 2 diabetes  \n",
      "0                                                NaN                  \n",
      "1                                                NaN                  \n",
      "2                                                NaN                  \n",
      "3                                                NaN                  \n",
      "4                                                NaN                  \n"
     ]
    }
   ],
   "source": [
    "import pandas as pd\n",
    "\n",
    "# Load the environmental data\n",
    "env_data = pd.read_csv(\"C:/Users/emman/Downloads/PM2.5_Pollution_Data-Public/Scripts/Environmental_Data/Imputed_Clean_Environmental_Data/Finial_Prophet_Imputed_Cleaned_Environmental_Data.csv\")\n",
    "\n",
    "# Load the clinical data\n",
    "clinical_data = pd.read_csv(\"C:/Users/emman/Downloads/PM2.5_Pollution_Data-Public/Scripts/Clinical_Data/Phenotype_Disease_Conditions/Merged_Clinical_Filtered_Data/merged_clinical_data_V1.csv\")\n",
    "\n",
    "# Convert clinical Time period to numeric Year\n",
    "clinical_data['Year'] = clinical_data['Time period'].str.extract(r'(\\d{4})').astype(int)\n",
    "\n",
    "# Keep only relevant columns: Area Code, Year, Condition, Value\n",
    "clinical_subset = clinical_data[['Area Code', 'Year', 'Indicator Name', 'Value']].copy()\n",
    "\n",
    "# Pivot clinical data so each Condition becomes a column\n",
    "clinical_pivot = clinical_subset.pivot_table(\n",
    "    index=['Area Code', 'Year'], \n",
    "    columns='Indicator Name', \n",
    "    values='Value'\n",
    ").reset_index()\n",
    "\n",
    "# Optional: rename columns if needed (columns will be the condition names automatically)\n",
    "clinical_pivot.columns.name = None  # Remove the pivot_table name\n",
    "\n",
    "# Merge with environmental data\n",
    "merged_data = pd.merge(env_data, clinical_pivot, on=['Area Code', 'Year'], how='left')\n",
    "\n",
    "# Check the merged dataset\n",
    "print(merged_data.head())\n"
   ]
  },
  {
   "cell_type": "code",
   "execution_count": 4,
   "id": "7f58a393-b208-446e-b2db-ab70c397de1f",
   "metadata": {},
   "outputs": [
    {
     "name": "stdout",
     "output_type": "stream",
     "text": [
      "Merged file saved successfully!\n"
     ]
    }
   ],
   "source": [
    "# Save the merged dataset to a CSV\n",
    "merged_data.to_csv(\"merged_environmental_clinical_data.csv\", index=False)\n",
    "\n",
    "print(\"Merged file saved successfully!\")\n"
   ]
  },
  {
   "cell_type": "code",
   "execution_count": null,
   "id": "1d3c8ea6-ed4c-4e66-bc8b-deb5e51e5951",
   "metadata": {},
   "outputs": [],
   "source": []
  }
 ],
 "metadata": {
  "kernelspec": {
   "display_name": "Python 3 (ipykernel)",
   "language": "python",
   "name": "python3"
  },
  "language_info": {
   "codemirror_mode": {
    "name": "ipython",
    "version": 3
   },
   "file_extension": ".py",
   "mimetype": "text/x-python",
   "name": "python",
   "nbconvert_exporter": "python",
   "pygments_lexer": "ipython3",
   "version": "3.13.2"
  }
 },
 "nbformat": 4,
 "nbformat_minor": 5
}
