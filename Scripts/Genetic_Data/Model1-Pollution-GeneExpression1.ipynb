{
 "cells": [
  {
   "cell_type": "code",
   "execution_count": 1,
   "id": "bbf292b9-5393-43b7-a936-0a77dce2a2d7",
   "metadata": {
    "scrolled": true
   },
   "outputs": [
    {
     "name": "stdout",
     "output_type": "stream",
     "text": [
      "Collecting bioservices\n",
      "  Downloading bioservices-1.12.1-py3-none-any.whl.metadata (19 kB)\n",
      "Collecting appdirs<2.0.0,>=1.4.4 (from bioservices)\n",
      "  Downloading appdirs-1.4.4-py2.py3-none-any.whl.metadata (9.0 kB)\n",
      "Requirement already satisfied: beautifulsoup4<5.0.0,>=4.12.3 in c:\\users\\emman\\downloads\\personal_file\\university_of_bradford\\lib\\site-packages (from bioservices) (4.13.3)\n",
      "Requirement already satisfied: click<9.0.0,>=8.1.8 in c:\\users\\emman\\downloads\\personal_file\\university_of_bradford\\lib\\site-packages (from bioservices) (8.2.1)\n",
      "Collecting colorlog<7.0.0,>=6.9.0 (from bioservices)\n",
      "  Downloading colorlog-6.9.0-py3-none-any.whl.metadata (10 kB)\n",
      "Collecting easydev<0.14.0,>=0.13.3 (from bioservices)\n",
      "  Downloading easydev-0.13.3-py3-none-any.whl.metadata (4.0 kB)\n",
      "Collecting grequests<0.8.0,>=0.7.0 (from bioservices)\n",
      "  Downloading grequests-0.7.0-py2.py3-none-any.whl.metadata (1.3 kB)\n",
      "Collecting lxml<6.0.0,>=5.3.0 (from bioservices)\n",
      "  Downloading lxml-5.4.0-cp313-cp313-win_amd64.whl.metadata (3.6 kB)\n",
      "Requirement already satisfied: matplotlib>=3.9 in c:\\users\\emman\\downloads\\personal_file\\university_of_bradford\\lib\\site-packages (from bioservices) (3.10.1)\n",
      "Requirement already satisfied: pandas>2.2 in c:\\users\\emman\\downloads\\personal_file\\university_of_bradford\\lib\\site-packages (from bioservices) (2.2.3)\n",
      "Collecting requests<3.0.0,>=2.32.3 (from bioservices)\n",
      "  Downloading requests-2.32.4-py3-none-any.whl.metadata (4.9 kB)\n",
      "Collecting requests-cache<2.0.0,>=1.2.1 (from bioservices)\n",
      "  Downloading requests_cache-1.2.1-py3-none-any.whl.metadata (9.9 kB)\n",
      "Collecting rich-click<2.0.0,>=1.8.5 (from bioservices)\n",
      "  Downloading rich_click-1.8.9-py3-none-any.whl.metadata (7.9 kB)\n",
      "Collecting suds-community<2.0.0,>=1.2.0 (from bioservices)\n",
      "  Downloading suds_community-1.2.0-py3-none-any.whl.metadata (1.6 kB)\n",
      "Requirement already satisfied: tqdm<5.0.0,>=4.67.1 in c:\\users\\emman\\downloads\\personal_file\\university_of_bradford\\lib\\site-packages (from bioservices) (4.67.1)\n",
      "Collecting wrapt<2.0.0,>=1.17.2 (from bioservices)\n",
      "  Downloading wrapt-1.17.2-cp313-cp313-win_amd64.whl.metadata (6.5 kB)\n",
      "Collecting xmltodict<0.15.0,>=0.14.2 (from bioservices)\n",
      "  Downloading xmltodict-0.14.2-py2.py3-none-any.whl.metadata (8.0 kB)\n",
      "Requirement already satisfied: soupsieve>1.2 in c:\\users\\emman\\downloads\\personal_file\\university_of_bradford\\lib\\site-packages (from beautifulsoup4<5.0.0,>=4.12.3->bioservices) (2.6)\n",
      "Requirement already satisfied: typing-extensions>=4.0.0 in c:\\users\\emman\\downloads\\personal_file\\university_of_bradford\\lib\\site-packages (from beautifulsoup4<5.0.0,>=4.12.3->bioservices) (4.12.2)\n",
      "Requirement already satisfied: colorama in c:\\users\\emman\\downloads\\personal_file\\university_of_bradford\\lib\\site-packages (from click<9.0.0,>=8.1.8->bioservices) (0.4.6)\n",
      "Collecting line-profiler<5.0.0,>=4.1.2 (from easydev<0.14.0,>=0.13.3->bioservices)\n",
      "  Downloading line_profiler-4.2.0-cp313-cp313-win_amd64.whl.metadata (35 kB)\n",
      "Collecting pexpect<5.0.0,>=4.9.0 (from easydev<0.14.0,>=0.13.3->bioservices)\n",
      "  Downloading pexpect-4.9.0-py2.py3-none-any.whl.metadata (2.5 kB)\n",
      "Requirement already satisfied: platformdirs<5.0.0,>=4.2.0 in c:\\users\\emman\\downloads\\personal_file\\university_of_bradford\\lib\\site-packages (from easydev<0.14.0,>=0.13.3->bioservices) (4.3.6)\n",
      "Collecting gevent (from grequests<0.8.0,>=0.7.0->bioservices)\n",
      "  Downloading gevent-25.5.1-cp313-cp313-win_amd64.whl.metadata (14 kB)\n",
      "Requirement already satisfied: contourpy>=1.0.1 in c:\\users\\emman\\downloads\\personal_file\\university_of_bradford\\lib\\site-packages (from matplotlib>=3.9->bioservices) (1.3.1)\n",
      "Requirement already satisfied: cycler>=0.10 in c:\\users\\emman\\downloads\\personal_file\\university_of_bradford\\lib\\site-packages (from matplotlib>=3.9->bioservices) (0.12.1)\n",
      "Requirement already satisfied: fonttools>=4.22.0 in c:\\users\\emman\\downloads\\personal_file\\university_of_bradford\\lib\\site-packages (from matplotlib>=3.9->bioservices) (4.57.0)\n",
      "Requirement already satisfied: kiwisolver>=1.3.1 in c:\\users\\emman\\downloads\\personal_file\\university_of_bradford\\lib\\site-packages (from matplotlib>=3.9->bioservices) (1.4.8)\n",
      "Requirement already satisfied: numpy>=1.23 in c:\\users\\emman\\downloads\\personal_file\\university_of_bradford\\lib\\site-packages (from matplotlib>=3.9->bioservices) (2.2.4)\n",
      "Requirement already satisfied: packaging>=20.0 in c:\\users\\emman\\downloads\\personal_file\\university_of_bradford\\lib\\site-packages (from matplotlib>=3.9->bioservices) (24.2)\n",
      "Requirement already satisfied: pillow>=8 in c:\\users\\emman\\downloads\\personal_file\\university_of_bradford\\lib\\site-packages (from matplotlib>=3.9->bioservices) (11.1.0)\n",
      "Requirement already satisfied: pyparsing>=2.3.1 in c:\\users\\emman\\downloads\\personal_file\\university_of_bradford\\lib\\site-packages (from matplotlib>=3.9->bioservices) (3.2.3)\n",
      "Requirement already satisfied: python-dateutil>=2.7 in c:\\users\\emman\\downloads\\personal_file\\university_of_bradford\\lib\\site-packages (from matplotlib>=3.9->bioservices) (2.9.0.post0)\n",
      "Requirement already satisfied: pytz>=2020.1 in c:\\users\\emman\\downloads\\personal_file\\university_of_bradford\\lib\\site-packages (from pandas>2.2->bioservices) (2025.2)\n",
      "Requirement already satisfied: tzdata>=2022.7 in c:\\users\\emman\\downloads\\personal_file\\university_of_bradford\\lib\\site-packages (from pandas>2.2->bioservices) (2025.2)\n",
      "Requirement already satisfied: charset_normalizer<4,>=2 in c:\\users\\emman\\downloads\\personal_file\\university_of_bradford\\lib\\site-packages (from requests<3.0.0,>=2.32.3->bioservices) (3.4.1)\n",
      "Requirement already satisfied: idna<4,>=2.5 in c:\\users\\emman\\downloads\\personal_file\\university_of_bradford\\lib\\site-packages (from requests<3.0.0,>=2.32.3->bioservices) (3.10)\n",
      "Requirement already satisfied: urllib3<3,>=1.21.1 in c:\\users\\emman\\downloads\\personal_file\\university_of_bradford\\lib\\site-packages (from requests<3.0.0,>=2.32.3->bioservices) (2.3.0)\n",
      "Requirement already satisfied: certifi>=2017.4.17 in c:\\users\\emman\\downloads\\personal_file\\university_of_bradford\\lib\\site-packages (from requests<3.0.0,>=2.32.3->bioservices) (2025.1.31)\n",
      "Requirement already satisfied: attrs>=21.2 in c:\\users\\emman\\downloads\\personal_file\\university_of_bradford\\lib\\site-packages (from requests-cache<2.0.0,>=1.2.1->bioservices) (25.3.0)\n",
      "Collecting cattrs>=22.2 (from requests-cache<2.0.0,>=1.2.1->bioservices)\n",
      "  Downloading cattrs-25.1.1-py3-none-any.whl.metadata (8.4 kB)\n",
      "Collecting url-normalize>=1.4 (from requests-cache<2.0.0,>=1.2.1->bioservices)\n",
      "  Downloading url_normalize-2.2.1-py3-none-any.whl.metadata (5.6 kB)\n",
      "Collecting rich>=10.7 (from rich-click<2.0.0,>=1.8.5->bioservices)\n",
      "  Downloading rich-14.1.0-py3-none-any.whl.metadata (18 kB)\n",
      "Collecting ptyprocess>=0.5 (from pexpect<5.0.0,>=4.9.0->easydev<0.14.0,>=0.13.3->bioservices)\n",
      "  Downloading ptyprocess-0.7.0-py2.py3-none-any.whl.metadata (1.3 kB)\n",
      "Requirement already satisfied: six>=1.5 in c:\\users\\emman\\downloads\\personal_file\\university_of_bradford\\lib\\site-packages (from python-dateutil>=2.7->matplotlib>=3.9->bioservices) (1.17.0)\n",
      "Collecting markdown-it-py>=2.2.0 (from rich>=10.7->rich-click<2.0.0,>=1.8.5->bioservices)\n",
      "  Downloading markdown_it_py-3.0.0-py3-none-any.whl.metadata (6.9 kB)\n",
      "Requirement already satisfied: pygments<3.0.0,>=2.13.0 in c:\\users\\emman\\downloads\\personal_file\\university_of_bradford\\lib\\site-packages (from rich>=10.7->rich-click<2.0.0,>=1.8.5->bioservices) (2.19.1)\n",
      "Collecting greenlet>=3.2.2 (from gevent->grequests<0.8.0,>=0.7.0->bioservices)\n",
      "  Downloading greenlet-3.2.3-cp313-cp313-win_amd64.whl.metadata (4.2 kB)\n",
      "Requirement already satisfied: cffi>=1.17.1 in c:\\users\\emman\\downloads\\personal_file\\university_of_bradford\\lib\\site-packages (from gevent->grequests<0.8.0,>=0.7.0->bioservices) (1.17.1)\n",
      "Collecting zope.event (from gevent->grequests<0.8.0,>=0.7.0->bioservices)\n",
      "  Downloading zope_event-5.1.1-py3-none-any.whl.metadata (5.0 kB)\n",
      "Collecting zope.interface (from gevent->grequests<0.8.0,>=0.7.0->bioservices)\n",
      "  Downloading zope.interface-7.2-cp313-cp313-win_amd64.whl.metadata (45 kB)\n",
      "Requirement already satisfied: pycparser in c:\\users\\emman\\downloads\\personal_file\\university_of_bradford\\lib\\site-packages (from cffi>=1.17.1->gevent->grequests<0.8.0,>=0.7.0->bioservices) (2.22)\n",
      "Collecting mdurl~=0.1 (from markdown-it-py>=2.2.0->rich>=10.7->rich-click<2.0.0,>=1.8.5->bioservices)\n",
      "  Downloading mdurl-0.1.2-py3-none-any.whl.metadata (1.6 kB)\n",
      "Requirement already satisfied: setuptools>=75.8.2 in c:\\users\\emman\\downloads\\personal_file\\university_of_bradford\\lib\\site-packages (from zope.event->gevent->grequests<0.8.0,>=0.7.0->bioservices) (76.1.0)\n",
      "Downloading bioservices-1.12.1-py3-none-any.whl (258 kB)\n",
      "Downloading appdirs-1.4.4-py2.py3-none-any.whl (9.6 kB)\n",
      "Downloading colorlog-6.9.0-py3-none-any.whl (11 kB)\n",
      "Downloading easydev-0.13.3-py3-none-any.whl (57 kB)\n",
      "Downloading grequests-0.7.0-py2.py3-none-any.whl (5.7 kB)\n",
      "Downloading lxml-5.4.0-cp313-cp313-win_amd64.whl (3.8 MB)\n",
      "   ---------------------------------------- 0.0/3.8 MB ? eta -:--:--\n",
      "   ----- ---------------------------------- 0.5/3.8 MB 3.6 MB/s eta 0:00:01\n",
      "   ---------- ----------------------------- 1.0/3.8 MB 2.5 MB/s eta 0:00:02\n",
      "   ---------------- ----------------------- 1.6/3.8 MB 2.4 MB/s eta 0:00:01\n",
      "   ---------------- ----------------------- 1.6/3.8 MB 2.4 MB/s eta 0:00:01\n",
      "   ------------------- -------------------- 1.8/3.8 MB 1.7 MB/s eta 0:00:02\n",
      "   ------------------------------ --------- 2.9/3.8 MB 2.3 MB/s eta 0:00:01\n",
      "   ------------------------------ --------- 2.9/3.8 MB 2.3 MB/s eta 0:00:01\n",
      "   -------------------------------- ------- 3.1/3.8 MB 1.8 MB/s eta 0:00:01\n",
      "   ----------------------------------- ---- 3.4/3.8 MB 1.9 MB/s eta 0:00:01\n",
      "   ---------------------------------------- 3.8/3.8 MB 1.8 MB/s eta 0:00:00\n",
      "Downloading requests-2.32.4-py3-none-any.whl (64 kB)\n",
      "Downloading requests_cache-1.2.1-py3-none-any.whl (61 kB)\n",
      "Downloading rich_click-1.8.9-py3-none-any.whl (36 kB)\n",
      "Downloading suds_community-1.2.0-py3-none-any.whl (145 kB)\n",
      "Downloading wrapt-1.17.2-cp313-cp313-win_amd64.whl (38 kB)\n",
      "Downloading xmltodict-0.14.2-py2.py3-none-any.whl (10.0 kB)\n",
      "Downloading cattrs-25.1.1-py3-none-any.whl (69 kB)\n",
      "Downloading line_profiler-4.2.0-cp313-cp313-win_amd64.whl (128 kB)\n",
      "Downloading pexpect-4.9.0-py2.py3-none-any.whl (63 kB)\n",
      "Downloading rich-14.1.0-py3-none-any.whl (243 kB)\n",
      "Downloading url_normalize-2.2.1-py3-none-any.whl (14 kB)\n",
      "Downloading gevent-25.5.1-cp313-cp313-win_amd64.whl (1.6 MB)\n",
      "   ---------------------------------------- 0.0/1.6 MB ? eta -:--:--\n",
      "   ------------------------- -------------- 1.0/1.6 MB 5.5 MB/s eta 0:00:01\n",
      "   ---------------------------------------- 1.6/1.6 MB 4.9 MB/s eta 0:00:00\n",
      "Downloading greenlet-3.2.3-cp313-cp313-win_amd64.whl (297 kB)\n",
      "Downloading markdown_it_py-3.0.0-py3-none-any.whl (87 kB)\n",
      "Downloading ptyprocess-0.7.0-py2.py3-none-any.whl (13 kB)\n",
      "Downloading zope_event-5.1.1-py3-none-any.whl (7.0 kB)\n",
      "Downloading zope.interface-7.2-cp313-cp313-win_amd64.whl (212 kB)\n",
      "Downloading mdurl-0.1.2-py3-none-any.whl (10.0 kB)\n",
      "Installing collected packages: ptyprocess, appdirs, zope.interface, zope.event, xmltodict, wrapt, url-normalize, suds-community, requests, pexpect, mdurl, lxml, line-profiler, greenlet, colorlog, cattrs, requests-cache, markdown-it-py, gevent, easydev, rich, grequests, rich-click, bioservices\n",
      "  Attempting uninstall: requests\n",
      "    Found existing installation: requests 2.31.0\n",
      "    Uninstalling requests-2.31.0:\n",
      "      Successfully uninstalled requests-2.31.0\n",
      "Successfully installed appdirs-1.4.4 bioservices-1.12.1 cattrs-25.1.1 colorlog-6.9.0 easydev-0.13.3 gevent-25.5.1 greenlet-3.2.3 grequests-0.7.0 line-profiler-4.2.0 lxml-5.4.0 markdown-it-py-3.0.0 mdurl-0.1.2 pexpect-4.9.0 ptyprocess-0.7.0 requests-2.32.4 requests-cache-1.2.1 rich-14.1.0 rich-click-1.8.9 suds-community-1.2.0 url-normalize-2.2.1 wrapt-1.17.2 xmltodict-0.14.2 zope.event-5.1.1 zope.interface-7.2\n"
     ]
    },
    {
     "name": "stderr",
     "output_type": "stream",
     "text": [
      "\n",
      "[notice] A new release of pip is available: 24.3.1 -> 25.2\n",
      "[notice] To update, run: python.exe -m pip install --upgrade pip\n"
     ]
    }
   ],
   "source": [
    "!pip install bioservices"
   ]
  },
  {
   "cell_type": "code",
   "execution_count": 3,
   "id": "a5e84f5f-c76a-43ab-b3b4-5ce6c7e7a523",
   "metadata": {},
   "outputs": [
    {
     "name": "stdout",
     "output_type": "stream",
     "text": [
      "\n",
      "📁 Files in ftp://ftp.ebi.ac.uk/pub/databases/arrayexpress/data/experiment/GEOD/E-GEOD-7543/:\n",
      "\n",
      "-rwxr-xr-x    1 ftp      ftp          3841 Dec 23  2011 E-GEOD-7543.README.txt\n",
      "-rwxr-xr-x    1 ftp      ftp          3807 Dec 23  2011 E-GEOD-7543.idf.txt\n",
      "-rwxr-xr-x    1 ftp      ftp       2927136 Dec 23  2011 E-GEOD-7543.processed.1.zip\n",
      "-rwxr-xr-x    1 ftp      ftp        111217 Dec 23  2011 E-GEOD-7543.sdrf.txt\n",
      "\n",
      "📁 Files in ftp://ftp.ebi.ac.uk/pub/databases/arrayexpress/data/experiment/MTAB/E-MTAB-3630/:\n",
      "\n",
      "-r--r--r--    1 ftp      ftp          4366 Jun 01  2016 E-MTAB-3630.idf.txt\n",
      "-r--r--r--    1 ftp      ftp          4366 May 24  2016 E-MTAB-3630.idf.txt_original\n",
      "-r--r--r--    1 ftp      ftp       6116215 Jun 08  2015 E-MTAB-3630.raw.1.zip\n",
      "-rw-rw-r--    1 ftp      ftp          3397 Jun 08  2015 E-MTAB-3630.sdrf.txt\n",
      "\n",
      "📁 Files in ftp://ftp.ebi.ac.uk/pub/databases/arrayexpress/data/experiment/MTAB/E-MTAB-3629/:\n",
      "\n",
      "-r--r--r--    1 ftp      ftp          4263 Jun 01  2016 E-MTAB-3629.idf.txt\n",
      "-r--r--r--    1 ftp      ftp          4263 May 16  2016 E-MTAB-3629.idf.txt_original\n",
      "-r--r--r--    1 ftp      ftp      45915519 Jun 08  2015 E-MTAB-3629.raw.1.zip\n",
      "-rw-rw-r--    1 ftp      ftp          3324 Jun 08  2015 E-MTAB-3629.sdrf.txt\n"
     ]
    }
   ],
   "source": [
    "#Step 2 - Explore Files in the FTP Folder\n",
    "from ftplib import FTP #library to interact with FTP servers.\n",
    "\n",
    "def list_ftp_files(ftp_url):#Connects to EBI's FTP server\n",
    "    ftp_host = \"ftp.ebi.ac.uk\"\n",
    "    path = ftp_url.replace(\"ftp://ftp.ebi.ac.uk/\", \"\")\n",
    "\n",
    "    with FTP(ftp_host) as ftp:#Goes into each folder\n",
    "        ftp.login()\n",
    "        ftp.cwd(path)\n",
    "        print(f\"\\n📁 Files in {ftp_url}:\\n\")\n",
    "        ftp.retrlines('LIST')#Lists all files in a directory\n",
    "\n",
    "# List files for each dataset\n",
    "ftp_links = [\n",
    "    \"ftp://ftp.ebi.ac.uk/pub/databases/arrayexpress/data/experiment/GEOD/E-GEOD-7543/\",\n",
    "    \"ftp://ftp.ebi.ac.uk/pub/databases/arrayexpress/data/experiment/MTAB/E-MTAB-3630/\",\n",
    "    \"ftp://ftp.ebi.ac.uk/pub/databases/arrayexpress/data/experiment/MTAB/E-MTAB-3629/\"\n",
    "]\n",
    "\n",
    "# List files in each FTP folder\n",
    "for link in ftp_links:\n",
    "    list_ftp_files(link)\n"
   ]
  },
  {
   "cell_type": "code",
   "execution_count": 5,
   "id": "0e7ef386-e396-4ef8-ad73-dde9a9757699",
   "metadata": {},
   "outputs": [
    {
     "name": "stdout",
     "output_type": "stream",
     "text": [
      "Downloaded: E-GEOD-7543 → E-GEOD-7543.sdrf.txt\n",
      "Downloaded: E-MTAB-3630 → E-MTAB-3630.sdrf.txt\n",
      "Downloaded: E-MTAB-3629 → E-MTAB-3629.sdrf.txt\n"
     ]
    }
   ],
   "source": [
    "from ftplib import FTP\n",
    "import os\n",
    "\n",
    "# Define accessions and corresponding SDRF filenames\n",
    "datasets = {\n",
    "    \"E-GEOD-7543\": \"E-GEOD-7543.sdrf.txt\",\n",
    "    \"E-MTAB-3630\": \"E-MTAB-3630.sdrf.txt\",\n",
    "    \"E-MTAB-3629\": \"E-MTAB-3629.sdrf.txt\"\n",
    "}\n",
    "\n",
    "def download_ftp_file(accession, filename):#create a function to set up FTP paths\n",
    "    # Set up FTP paths\n",
    "    ftp_host = \"ftp.ebi.ac.uk\"\n",
    "    ftp_base = \"pub/databases/arrayexpress/data/experiment\"\n",
    "    \n",
    "    # Get prefix (GEOD or MTAB) to build full folder path\n",
    "    prefix = accession.split(\"-\")[1][:4]\n",
    "    ftp_folder = f\"{ftp_base}/{prefix}/{accession}\"\n",
    "    \n",
    "    # Create local directory if needed\n",
    "    os.makedirs(\"downloads\", exist_ok=True)\n",
    "    local_path = f\"downloads/{accession}_{filename}\"\n",
    "\n",
    "    with FTP(ftp_host) as ftp:\n",
    "        ftp.login()\n",
    "        ftp.cwd(ftp_folder)\n",
    "        with open(local_path, \"wb\") as f:\n",
    "            ftp.retrbinary(f\"RETR {filename}\", f.write)\n",
    "            print(f\"Downloaded: {accession} → {filename}\")\n",
    "\n",
    "# Loop through datasets and download SDRF files\n",
    "for acc, file in datasets.items():\n",
    "    try:\n",
    "        download_ftp_file(acc, file)\n",
    "    except Exception as e:\n",
    "        print(f\"Failed to download {file} for {acc}: {e}\")\n"
   ]
  },
  {
   "cell_type": "code",
   "execution_count": 9,
   "id": "50f4008f-85a1-41ed-9041-26f48f656e52",
   "metadata": {},
   "outputs": [
    {
     "name": "stdout",
     "output_type": "stream",
     "text": [
      "\n",
      "Preview of E-GEOD-7543_E-GEOD-7543.sdrf.txt:\n",
      "------------------------------------------------------------\n",
      "            Source Name Characteristics [Organism]  \\\n",
      "0  GSE7543GSM182769_Cy5               Homo sapiens   \n",
      "1  GSE7543GSM182769_Cy3               Homo sapiens   \n",
      "2  GSE7543GSM182784_Cy3               Homo sapiens   \n",
      "3  GSE7543GSM182784_Cy5               Homo sapiens   \n",
      "4  GSE7543GSM182796_Cy5               Homo sapiens   \n",
      "5  GSE7543GSM182796_Cy3               Homo sapiens   \n",
      "\n",
      "                                         Description Protocol REF  \\\n",
      "0  human whole blood collected into PAXgene RNA v...    P-G7543-1   \n",
      "1  common reference sample compsed of total RNAs ...    P-G7543-1   \n",
      "2  common reference sample compsed of total RNAs ...    P-G7543-1   \n",
      "3  human whole blood collected into PAXgene RNA v...    P-G7543-1   \n",
      "4  human whole blood collected into PAXgene RNA v...    P-G7543-1   \n",
      "5  common reference sample compsed of total RNAs ...    P-G7543-1   \n",
      "\n",
      "  Protocol REF.1                  Sample Name Protocol REF.2  \\\n",
      "0      P-G7543-3  GSE7543GSM182769_Cy5 sample      P-G7543-2   \n",
      "1      P-G7543-3  GSE7543GSM182769_Cy3 sample      P-G7543-2   \n",
      "2      P-G7543-3  GSE7543GSM182784_Cy3 sample      P-G7543-2   \n",
      "3      P-G7543-3  GSE7543GSM182784_Cy5 sample      P-G7543-2   \n",
      "4      P-G7543-3  GSE7543GSM182796_Cy5 sample      P-G7543-2   \n",
      "5      P-G7543-3  GSE7543GSM182796_Cy3 sample      P-G7543-2   \n",
      "\n",
      "                   Extract Name Material Type Protocol REF.3  ...  \\\n",
      "0  GSE7543GSM182769_Cy5 extract     total_RNA      P-G7543-4  ...   \n",
      "1  GSE7543GSM182769_Cy3 extract     total_RNA      P-G7543-4  ...   \n",
      "2  GSE7543GSM182784_Cy3 extract     total_RNA      P-G7543-4  ...   \n",
      "3  GSE7543GSM182784_Cy5 extract     total_RNA      P-G7543-4  ...   \n",
      "4  GSE7543GSM182796_Cy5 extract     total_RNA      P-G7543-4  ...   \n",
      "5  GSE7543GSM182796_Cy3 extract     total_RNA      P-G7543-4  ...   \n",
      "\n",
      "  Material Type.1 Protocol REF.4   Hybridization Name Array Design REF  \\\n",
      "0   synthetic_RNA      P-G7543-5     Teplice child 15         A-AGIL-9   \n",
      "1   synthetic_RNA      P-G7543-5     Teplice child 15         A-AGIL-9   \n",
      "2   synthetic_RNA      P-G7543-5   Prachatice child 7         A-AGIL-9   \n",
      "3   synthetic_RNA      P-G7543-5   Prachatice child 7         A-AGIL-9   \n",
      "4   synthetic_RNA      P-G7543-5  Prachatice child 19         A-AGIL-9   \n",
      "5   synthetic_RNA      P-G7543-5  Prachatice child 19         A-AGIL-9   \n",
      "\n",
      "                          Comment [Array Design URI] Protocol REF.5  \\\n",
      "0  http://www.ebi.ac.uk/aerep/result?queryFor=Phy...      P-G7543-6   \n",
      "1  http://www.ebi.ac.uk/aerep/result?queryFor=Phy...      P-G7543-6   \n",
      "2  http://www.ebi.ac.uk/aerep/result?queryFor=Phy...      P-G7543-6   \n",
      "3  http://www.ebi.ac.uk/aerep/result?queryFor=Phy...      P-G7543-6   \n",
      "4  http://www.ebi.ac.uk/aerep/result?queryFor=Phy...      P-G7543-6   \n",
      "5  http://www.ebi.ac.uk/aerep/result?queryFor=Phy...      P-G7543-6   \n",
      "\n",
      "             Scan Name Protocol REF.6  \\\n",
      "0     Teplice child 15      P-G7543-7   \n",
      "1     Teplice child 15      P-G7543-7   \n",
      "2   Prachatice child 7      P-G7543-7   \n",
      "3   Prachatice child 7      P-G7543-7   \n",
      "4  Prachatice child 19      P-G7543-7   \n",
      "5  Prachatice child 19      P-G7543-7   \n",
      "\n",
      "              Derived Array Data Matrix File  \\\n",
      "0  E-GEOD-7543-processed-data-1630338458.txt   \n",
      "1  E-GEOD-7543-processed-data-1630338458.txt   \n",
      "2  E-GEOD-7543-processed-data-1630338458.txt   \n",
      "3  E-GEOD-7543-processed-data-1630338458.txt   \n",
      "4  E-GEOD-7543-processed-data-1630338458.txt   \n",
      "5  E-GEOD-7543-processed-data-1630338458.txt   \n",
      "\n",
      "             Comment [Derived ArrayExpress FTP file]  \n",
      "0  ftp://ftp.ebi.ac.uk/pub/databases/microarray/d...  \n",
      "1  ftp://ftp.ebi.ac.uk/pub/databases/microarray/d...  \n",
      "2  ftp://ftp.ebi.ac.uk/pub/databases/microarray/d...  \n",
      "3  ftp://ftp.ebi.ac.uk/pub/databases/microarray/d...  \n",
      "4  ftp://ftp.ebi.ac.uk/pub/databases/microarray/d...  \n",
      "5  ftp://ftp.ebi.ac.uk/pub/databases/microarray/d...  \n",
      "\n",
      "[6 rows x 22 columns]\n",
      "\n",
      "Columns:\n",
      " ['Source Name', 'Characteristics [Organism]', 'Description', 'Protocol REF', 'Protocol REF.1', 'Sample Name', 'Protocol REF.2', 'Extract Name', 'Material Type', 'Protocol REF.3', 'Labeled Extract Name', 'Label', 'Material Type.1', 'Protocol REF.4', 'Hybridization Name', 'Array Design REF', 'Comment [Array Design URI]', 'Protocol REF.5', 'Scan Name', 'Protocol REF.6', 'Derived Array Data Matrix File', 'Comment [Derived ArrayExpress FTP file]']\n",
      "\n",
      "Preview of E-MTAB-3630_E-MTAB-3630.sdrf.txt:\n",
      "------------------------------------------------------------\n",
      "   Source Name Characteristics[organism] Characteristics[cell line]  \\\n",
      "0      BEAS_C1              Homo sapiens                    BEAS-2B   \n",
      "1      BEAS_C2              Homo sapiens                    BEAS-2B   \n",
      "2      BEAS_C3              Homo sapiens                    BEAS-2B   \n",
      "3  BEAS_PM10_1              Homo sapiens                    BEAS-2B   \n",
      "4  BEAS_PM10_2              Homo sapiens                    BEAS-2B   \n",
      "5  BEAS_PM10_3              Homo sapiens                    BEAS-2B   \n",
      "\n",
      "  Material Type  Protocol REF Protocol REF.1 Extract Name Protocol REF.2  \\\n",
      "0          cell  P-MTAB-45064   P-MTAB-45060      BEAS_C1   P-MTAB-45061   \n",
      "1          cell  P-MTAB-45064   P-MTAB-45060      BEAS_C2   P-MTAB-45061   \n",
      "2          cell  P-MTAB-45064   P-MTAB-45060      BEAS_C3   P-MTAB-45061   \n",
      "3          cell  P-MTAB-45064   P-MTAB-45060  BEAS_PM10_1   P-MTAB-45061   \n",
      "4          cell  P-MTAB-45064   P-MTAB-45060  BEAS_PM10_2   P-MTAB-45061   \n",
      "5          cell  P-MTAB-45064   P-MTAB-45060  BEAS_PM10_3   P-MTAB-45061   \n",
      "\n",
      "  Labeled Extract Name   Label Protocol REF.3                      Assay Name  \\\n",
      "0       BEAS_C1:biotin  biotin   P-MTAB-45062      BEAS_C1_miRNA-2_0_07_07_11   \n",
      "1       BEAS_C2:biotin  biotin   P-MTAB-45062      BEAS_C2_miRNA-2_0_07_07_11   \n",
      "2       BEAS_C3:biotin  biotin   P-MTAB-45062      BEAS_C3_miRNA-2_0_07_07_11   \n",
      "3   BEAS_PM10_1:biotin  biotin   P-MTAB-45062  BEAS_PM10_1_miRNA-2_0_06.07.11   \n",
      "4   BEAS_PM10_2:biotin  biotin   P-MTAB-45062  BEAS_PM10_2_miRNA-2_0_06_07_11   \n",
      "5   BEAS_PM10_3:biotin  biotin   P-MTAB-45062  BEAS_PM10_3_miRNA-2_0_06_07_11   \n",
      "\n",
      "  Technology Type Array Design REF Term Source REF Protocol REF.4  \\\n",
      "0     array assay       A-AFFY-184    ArrayExpress   P-MTAB-45063   \n",
      "1     array assay       A-AFFY-184    ArrayExpress   P-MTAB-45063   \n",
      "2     array assay       A-AFFY-184    ArrayExpress   P-MTAB-45063   \n",
      "3     array assay       A-AFFY-184    ArrayExpress   P-MTAB-45063   \n",
      "4     array assay       A-AFFY-184    ArrayExpress   P-MTAB-45063   \n",
      "5     array assay       A-AFFY-184    ArrayExpress   P-MTAB-45063   \n",
      "\n",
      "                      Array Data File  \\\n",
      "0      BEAS_C1_miRNA-2_0_07_07_11.CEL   \n",
      "1      BEAS_C2_miRNA-2_0_07_07_11.CEL   \n",
      "2      BEAS_C3_miRNA-2_0_07_07_11.CEL   \n",
      "3  BEAS_PM10_1_miRNA-2_0_06.07.11.CEL   \n",
      "4  BEAS_PM10_2_miRNA-2_0_06_07_11.CEL   \n",
      "5  BEAS_PM10_3_miRNA-2_0_06_07_11.CEL   \n",
      "\n",
      "                     Comment [ArrayExpress FTP file] Factor Value[compound]  \n",
      "0  ftp://ftp.ebi.ac.uk/pub/databases/microarray/d...                   none  \n",
      "1  ftp://ftp.ebi.ac.uk/pub/databases/microarray/d...                   none  \n",
      "2  ftp://ftp.ebi.ac.uk/pub/databases/microarray/d...                   none  \n",
      "3  ftp://ftp.ebi.ac.uk/pub/databases/microarray/d...                   PM10  \n",
      "4  ftp://ftp.ebi.ac.uk/pub/databases/microarray/d...                   PM10  \n",
      "5  ftp://ftp.ebi.ac.uk/pub/databases/microarray/d...                   PM10  \n",
      "\n",
      "Columns:\n",
      " ['Source Name', 'Characteristics[organism]', 'Characteristics[cell line]', 'Material Type', 'Protocol REF', 'Protocol REF.1', 'Extract Name', 'Protocol REF.2', 'Labeled Extract Name', 'Label', 'Protocol REF.3', 'Assay Name', 'Technology Type', 'Array Design REF', 'Term Source REF', 'Protocol REF.4', 'Array Data File', 'Comment [ArrayExpress FTP file]', 'Factor Value[compound]']\n",
      "\n",
      "Preview of E-MTAB-3629_E-MTAB-3629.sdrf.txt:\n",
      "------------------------------------------------------------\n",
      "   Source Name Characteristics[organism] Characteristics[cell line]  \\\n",
      "0      BEAS_C1              Homo sapiens                    BEAS-2B   \n",
      "1      BEAS_C2              Homo sapiens                    BEAS-2B   \n",
      "2      BEAS_C3              Homo sapiens                    BEAS-2B   \n",
      "3  BEAS_PM10_1              Homo sapiens                    BEAS-2B   \n",
      "4  BEAS_PM10_2              Homo sapiens                    BEAS-2B   \n",
      "5  BEAS_PM10_3              Homo sapiens                    BEAS-2B   \n",
      "\n",
      "  Material Type  Protocol REF Protocol REF.1 Extract Name Protocol REF.2  \\\n",
      "0          cell  P-MTAB-45113   P-MTAB-45055      BEAS_C1   P-MTAB-45056   \n",
      "1          cell  P-MTAB-45113   P-MTAB-45055      BEAS_C2   P-MTAB-45056   \n",
      "2          cell  P-MTAB-45113   P-MTAB-45055      BEAS_C3   P-MTAB-45056   \n",
      "3          cell  P-MTAB-45113   P-MTAB-45055  BEAS_PM10_1   P-MTAB-45056   \n",
      "4          cell  P-MTAB-45113   P-MTAB-45055  BEAS_PM10_2   P-MTAB-45056   \n",
      "5          cell  P-MTAB-45113   P-MTAB-45055  BEAS_PM10_3   P-MTAB-45056   \n",
      "\n",
      "  Labeled Extract Name   Label Protocol REF.3                  Assay Name  \\\n",
      "0       BEAS_C1:biotin  biotin   P-MTAB-45057      BEAS_C1_U133P_13.07.11   \n",
      "1       BEAS_C2:biotin  biotin   P-MTAB-45057      BEAS_C2_U133P_13.07.11   \n",
      "2       BEAS_C3:biotin  biotin   P-MTAB-45057      BEAS_C3_U133P_13.07.11   \n",
      "3   BEAS_PM10_1:biotin  biotin   P-MTAB-45057  BEAS_PM10_1_U133P_12.07.11   \n",
      "4   BEAS_PM10_2:biotin  biotin   P-MTAB-45057  BEAS_PM10_2_U133P_12.07.11   \n",
      "5   BEAS_PM10_3:biotin  biotin   P-MTAB-45057  BEAS_PM10_3_U133P_12.07.11   \n",
      "\n",
      "  Technology Type Array Design REF Term Source REF Protocol REF.4  \\\n",
      "0     array assay        A-AFFY-44    ArrayExpress   P-MTAB-45058   \n",
      "1     array assay        A-AFFY-44    ArrayExpress   P-MTAB-45058   \n",
      "2     array assay        A-AFFY-44    ArrayExpress   P-MTAB-45058   \n",
      "3     array assay        A-AFFY-44    ArrayExpress   P-MTAB-45058   \n",
      "4     array assay        A-AFFY-44    ArrayExpress   P-MTAB-45058   \n",
      "5     array assay        A-AFFY-44    ArrayExpress   P-MTAB-45058   \n",
      "\n",
      "                  Array Data File  \\\n",
      "0      BEAS_C1_U133P_13.07.11.CEL   \n",
      "1      BEAS_C2_U133P_13.07.11.CEL   \n",
      "2      BEAS_C3_U133P_13.07.11.CEL   \n",
      "3  BEAS_PM10_1_U133P_12.07.11.CEL   \n",
      "4  BEAS_PM10_2_U133P_12.07.11.CEL   \n",
      "5  BEAS_PM10_3_U133P_12.07.11.CEL   \n",
      "\n",
      "                     Comment [ArrayExpress FTP file] Factor Value[compound]  \n",
      "0  ftp://ftp.ebi.ac.uk/pub/databases/microarray/d...                   none  \n",
      "1  ftp://ftp.ebi.ac.uk/pub/databases/microarray/d...                   none  \n",
      "2  ftp://ftp.ebi.ac.uk/pub/databases/microarray/d...                   none  \n",
      "3  ftp://ftp.ebi.ac.uk/pub/databases/microarray/d...                   PM10  \n",
      "4  ftp://ftp.ebi.ac.uk/pub/databases/microarray/d...                   PM10  \n",
      "5  ftp://ftp.ebi.ac.uk/pub/databases/microarray/d...                   PM10  \n",
      "\n",
      "Columns:\n",
      " ['Source Name', 'Characteristics[organism]', 'Characteristics[cell line]', 'Material Type', 'Protocol REF', 'Protocol REF.1', 'Extract Name', 'Protocol REF.2', 'Labeled Extract Name', 'Label', 'Protocol REF.3', 'Assay Name', 'Technology Type', 'Array Design REF', 'Term Source REF', 'Protocol REF.4', 'Array Data File', 'Comment [ArrayExpress FTP file]', 'Factor Value[compound]']\n"
     ]
    }
   ],
   "source": [
    "#Step 4 - Open in jupyter\n",
    "import pandas as pd\n",
    "\n",
    "# Define list of file paths\n",
    "sdrf_files = [\n",
    "    \"downloads/E-GEOD-7543_E-GEOD-7543.sdrf.txt\",\n",
    "    \"downloads/E-MTAB-3630_E-MTAB-3630.sdrf.txt\",\n",
    "    \"downloads/E-MTAB-3629_E-MTAB-3629.sdrf.txt\"\n",
    "]\n",
    "\n",
    "# Load and preview each SDRF file\n",
    "for file in sdrf_files:\n",
    "    print(f\"\\nPreview of {file.split('/')[-1]}:\\n\" + \"-\"*60)\n",
    "    try:\n",
    "        df = pd.read_csv(file, sep=\"\\t\", low_memory=False)\n",
    "        print(df.head(6))           # Print first 3 rows\n",
    "        print(\"\\nColumns:\\n\", df.columns.tolist())\n",
    "    except Exception as e:\n",
    "        print(f\"Could not read {file}: {e}\")\n"
   ]
  },
  {
   "cell_type": "code",
   "execution_count": 10,
   "id": "629eba08-a7c0-4495-b4fd-12294c5ce1a2",
   "metadata": {},
   "outputs": [
    {
     "name": "stdout",
     "output_type": "stream",
     "text": [
      "\n",
      "🔎 Columns in E-GEOD-7543_E-GEOD-7543.sdrf.txt:\n",
      "------------------------------------------------------------\n",
      "• Source Name\n",
      "• Characteristics [Organism]\n",
      "• Description\n",
      "• Protocol REF\n",
      "• Protocol REF.1\n",
      "• Sample Name\n",
      "• Protocol REF.2\n",
      "• Extract Name\n",
      "• Material Type\n",
      "• Protocol REF.3\n",
      "• Labeled Extract Name\n",
      "• Label\n",
      "• Material Type.1\n",
      "• Protocol REF.4\n",
      "• Hybridization Name\n",
      "• Array Design REF\n",
      "• Comment [Array Design URI]\n",
      "• Protocol REF.5\n",
      "• Scan Name\n",
      "• Protocol REF.6\n",
      "• Derived Array Data Matrix File\n",
      "• Comment [Derived ArrayExpress FTP file]\n",
      "\n",
      "🔎 Columns in E-MTAB-3630_E-MTAB-3630.sdrf.txt:\n",
      "------------------------------------------------------------\n",
      "• Source Name\n",
      "• Characteristics[organism]\n",
      "• Characteristics[cell line]\n",
      "• Material Type\n",
      "• Protocol REF\n",
      "• Protocol REF.1\n",
      "• Extract Name\n",
      "• Protocol REF.2\n",
      "• Labeled Extract Name\n",
      "• Label\n",
      "• Protocol REF.3\n",
      "• Assay Name\n",
      "• Technology Type\n",
      "• Array Design REF\n",
      "• Term Source REF\n",
      "• Protocol REF.4\n",
      "• Array Data File\n",
      "• Comment [ArrayExpress FTP file]\n",
      "• Factor Value[compound]\n",
      "\n",
      "🔎 Columns in E-MTAB-3629_E-MTAB-3629.sdrf.txt:\n",
      "------------------------------------------------------------\n",
      "• Source Name\n",
      "• Characteristics[organism]\n",
      "• Characteristics[cell line]\n",
      "• Material Type\n",
      "• Protocol REF\n",
      "• Protocol REF.1\n",
      "• Extract Name\n",
      "• Protocol REF.2\n",
      "• Labeled Extract Name\n",
      "• Label\n",
      "• Protocol REF.3\n",
      "• Assay Name\n",
      "• Technology Type\n",
      "• Array Design REF\n",
      "• Term Source REF\n",
      "• Protocol REF.4\n",
      "• Array Data File\n",
      "• Comment [ArrayExpress FTP file]\n",
      "• Factor Value[compound]\n"
     ]
    }
   ],
   "source": [
    "for file in sdrf_files:\n",
    "    print(f\"\\nColumns in {file.split('/')[-1]}:\\n\" + \"-\"*60)\n",
    "    df = pd.read_csv(file, sep=\"\\t\", low_memory=False)\n",
    "    for col in df.columns:\n",
    "        print(\"•\", col)\n"
   ]
  },
  {
   "cell_type": "code",
   "execution_count": 12,
   "id": "3e7b1be5-94ec-454f-8e26-bcaf75c18847",
   "metadata": {},
   "outputs": [
    {
     "name": "stdout",
     "output_type": "stream",
     "text": [
      "\n",
      "Values in Factor Value[compound] from E-MTAB-3630_E-MTAB-3630.sdrf.txt:\n",
      "['none' 'PM10' 'PM2.5']\n",
      "\n",
      "Values in Factor Value[compound] from E-MTAB-3629_E-MTAB-3629.sdrf.txt:\n",
      "['none' 'PM10' 'PM2.5']\n"
     ]
    }
   ],
   "source": [
    "# See the unique values in the compound field for each dataset\n",
    "for file in sdrf_files:\n",
    "    df = pd.read_csv(file, sep=\"\\t\", low_memory=False)\n",
    "    compound_cols = [col for col in df.columns if \"compound\" in col.lower()]\n",
    "    if compound_cols:\n",
    "        print(f\"\\nValues in {compound_cols[0]} from {file.split('/')[-1]}:\")\n",
    "        print(df[compound_cols[0]].unique())\n"
   ]
  },
  {
   "cell_type": "code",
   "execution_count": 14,
   "id": "cc6efa4b-b587-4769-bd3b-0db9af81e238",
   "metadata": {},
   "outputs": [
    {
     "name": "stdout",
     "output_type": "stream",
     "text": [
      ".ipynb_checkpoints\n",
      "downloads\n",
      "E-GEOD-7543\n",
      "E-GEOD-7543.zip\n",
      "Model1-Pollution-GeneExprssion.ipynb\n",
      "Model1-Pollution-GeneExprssion1\n",
      "Understand The Genetic Datasets.docx\n"
     ]
    }
   ],
   "source": [
    "import os\n",
    "\n",
    "# List all files in the current directory\n",
    "for file in os.listdir():\n",
    "    print(file)\n"
   ]
  },
  {
   "cell_type": "code",
   "execution_count": 15,
   "id": "745d6d21-8800-4cd9-9a1f-c0f435302ca1",
   "metadata": {},
   "outputs": [
    {
     "data": {
      "text/plain": [
       "Factor Value[compound]\n",
       "none     3\n",
       "PM10     3\n",
       "PM2.5    3\n",
       "Name: count, dtype: int64"
      ]
     },
     "execution_count": 15,
     "metadata": {},
     "output_type": "execute_result"
    }
   ],
   "source": [
    "import pandas as pd\n",
    "import os\n",
    "\n",
    "# Load the SDRF metadata file\n",
    "metadata = pd.read_csv(\"C:/Users/emman/Downloads/PM2.5_Pollution_Data-Public/Scripts/Genetic_Data/downloads/E-MTAB-3630_E-MTAB-3630.sdrf.txt\", sep=\"\\t\", low_memory=False)\n",
    "\n",
    "# Check unique values for pollution\n",
    "metadata['Factor Value[compound]'].value_counts()\n"
   ]
  },
  {
   "cell_type": "code",
   "execution_count": 16,
   "id": "3629fc78-3a79-4a59-991c-2d23be67685e",
   "metadata": {},
   "outputs": [
    {
     "name": "stdout",
     "output_type": "stream",
     "text": [
      "E-GEOD-7543_E-GEOD-7543.sdrf.txt\n",
      "E-MTAB-3629_E-MTAB-3629.sdrf.txt\n",
      "E-MTAB-3630_E-MTAB-3630.sdrf.txt\n"
     ]
    }
   ],
   "source": [
    "import os\n",
    "\n",
    "# Point to the folder where the gene expression file is\n",
    "path = \"C:/Users/emman/Downloads/PM2.5_Pollution_Data-Public/Scripts/Genetic_Data/downloads\"\n",
    "\n",
    "for file in os.listdir(path):\n",
    "    print(file)\n"
   ]
  },
  {
   "cell_type": "code",
   "execution_count": 23,
   "id": "63310c0b-f2f5-4b19-9d92-011dfea7a9f2",
   "metadata": {},
   "outputs": [
    {
     "name": "stdout",
     "output_type": "stream",
     "text": [
      "Source Name\n",
      "Characteristics[organism]\n",
      "Characteristics[cell line]\n",
      "Material Type\n",
      "Protocol REF\n",
      "Protocol REF.1\n",
      "Extract Name\n",
      "Protocol REF.2\n",
      "Labeled Extract Name\n",
      "Label\n",
      "Protocol REF.3\n",
      "Assay Name\n",
      "Technology Type\n",
      "Array Design REF\n",
      "Term Source REF\n",
      "Protocol REF.4\n",
      "Array Data File\n",
      "Comment [ArrayExpress FTP file]\n",
      "Factor Value[compound]\n"
     ]
    },
    {
     "data": {
      "text/plain": [
       "['Comment [ArrayExpress FTP file]']"
      ]
     },
     "execution_count": 23,
     "metadata": {},
     "output_type": "execute_result"
    }
   ],
   "source": [
    "for col in metadata.columns:\n",
    "    print(col)\n",
    "[col for col in metadata.columns if 'Comment' in col or 'FTP' in col or 'URI' in col]\n"
   ]
  },
  {
   "cell_type": "code",
   "execution_count": 28,
   "id": "f8ffa9b6-2ac0-4bad-a785-241c10260575",
   "metadata": {
    "scrolled": true
   },
   "outputs": [
    {
     "name": "stdout",
     "output_type": "stream",
     "text": [
      "Downloading E-MTAB-3630.raw.1.zip from ftp.ebi.ac.uk/pub/databases/microarray/data/experiment/MTAB/E-MTAB-3630/\n",
      "Download complete: ./arrayexpress_E-MTAB-3630_files\\E-MTAB-3630.raw.1.zip\n"
     ]
    }
   ],
   "source": [
    "from ftplib import FTP\n",
    "import os\n",
    "\n",
    "# FTP server and path info\n",
    "ftp_server = \"ftp.ebi.ac.uk\"\n",
    "ftp_path = \"/pub/databases/microarray/data/experiment/MTAB/E-MTAB-3630/\"\n",
    "filename = \"E-MTAB-3630.raw.1.zip\"\n",
    "download_folder = \"./arrayexpress_E-MTAB-3630_files\"\n",
    "\n",
    "# Ensure the folder exists\n",
    "os.makedirs(download_folder, exist_ok=True)\n",
    "local_filepath = os.path.join(download_folder, filename)\n",
    "\n",
    "# Connect and download\n",
    "with FTP(ftp_server) as ftp:\n",
    "    ftp.login()\n",
    "    ftp.cwd(ftp_path)\n",
    "\n",
    "    print(f\"Downloading {filename} from {ftp_server}{ftp_path}\")\n",
    "    with open(local_filepath, \"wb\") as f:\n",
    "        ftp.retrbinary(f\"RETR {filename}\", f.write)\n",
    "\n",
    "print(f\"Download complete: {local_filepath}\")\n"
   ]
  },
  {
   "cell_type": "code",
   "execution_count": 29,
   "id": "f57843ff-87ed-4132-b00c-b4eb0b1a9b47",
   "metadata": {},
   "outputs": [
    {
     "name": "stdout",
     "output_type": "stream",
     "text": [
      "Unzipped contents into: ./arrayexpress_E-MTAB-3630_files\n"
     ]
    }
   ],
   "source": [
    "import zipfile\n",
    "\n",
    "with zipfile.ZipFile(local_filepath, 'r') as zip_ref:\n",
    "    zip_ref.extractall(download_folder)\n",
    "\n",
    "print(\"Unzipped contents into:\", download_folder)\n"
   ]
  },
  {
   "cell_type": "code",
   "execution_count": 30,
   "id": "10fd98af-9236-49e6-bd22-401de94b9775",
   "metadata": {},
   "outputs": [
    {
     "name": "stdout",
     "output_type": "stream",
     "text": [
      "BEAS-PM2.5_3_miRNA-2_07_07_11.CEL\n",
      "BEAS_C1_miRNA-2_0_07_07_11.CEL\n",
      "BEAS_C2_miRNA-2_0_07_07_11.CEL\n",
      "BEAS_C3_miRNA-2_0_07_07_11.CEL\n",
      "BEAS_PM10_1_miRNA-2_0_06.07.11.CEL\n",
      "BEAS_PM10_2_miRNA-2_0_06_07_11.CEL\n",
      "BEAS_PM10_3_miRNA-2_0_06_07_11.CEL\n",
      "BEAS_PM2.5_1_miRNA-2_0_06_07_11.CEL\n",
      "BEAS_PM2.5_2_miRNA-2_07_07_11.CEL\n",
      "E-MTAB-3630.raw.1.zip\n"
     ]
    }
   ],
   "source": [
    "import os\n",
    "\n",
    "for file in os.listdir(download_folder):\n",
    "    print(file)\n"
   ]
  },
  {
   "cell_type": "code",
   "execution_count": 33,
   "id": "5c9f8a62-c8ab-4f00-8929-c640dbbf7960",
   "metadata": {},
   "outputs": [
    {
     "name": "stdout",
     "output_type": "stream",
     "text": [
      "Requirement already satisfied: biopython in c:\\users\\emman\\downloads\\personal_file\\university_of_bradford\\lib\\site-packages (1.85)\n",
      "Requirement already satisfied: numpy in c:\\users\\emman\\downloads\\personal_file\\university_of_bradford\\lib\\site-packages (from biopython) (2.2.4)\n",
      "Note: you may need to restart the kernel to use updated packages.\n"
     ]
    },
    {
     "name": "stderr",
     "output_type": "stream",
     "text": [
      "\n",
      "[notice] A new release of pip is available: 24.3.1 -> 25.2\n",
      "[notice] To update, run: python.exe -m pip install --upgrade pip\n"
     ]
    }
   ],
   "source": [
    "pip install biopython"
   ]
  },
  {
   "cell_type": "code",
   "execution_count": null,
   "id": "094300f2-e685-4eb2-b17a-3d383cefa0d4",
   "metadata": {},
   "outputs": [],
   "source": [
    "#This is the code i used on R to normalise the expression matrix\n",
    "# Load required libraries\n",
    "#if (!requireNamespace(\"BiocManager\", quietly = TRUE)) {\n",
    "  #install.packages(\"BiocManager\")\n",
    "#}\n",
    "#BiocManager::install(\"affy\")\n",
    "\n",
    "#library(affy)\n",
    "\n",
    "# Set your CEL folder manually if not running from command line\n",
    "#input_dir <- \"C:/Users/emman/Downloads/PM2.5_Pollution_Data-Public/Scripts/Genetic_Data/arrayexpress_E-MTAB-3630_files\"  # adjust this if needed\n",
    "#output_csv <- file.path(input_dir, \"rma_normalised_expression_matrix.csv\")\n",
    "\n",
    "# Step 1: Read the CEL files\n",
    "#data <- ReadAffy(celfile.path = input_dir)\n",
    "\n",
    "# Step 2: Normalise using RMA\n",
    "#exprs_matrix <- exprs(rma(data))\n",
    "\n",
    "# Step 3: Save to CSV\n",
    "#write.csv(exprs_matrix, file = output_csv)\n",
    "\n",
    "\n"
   ]
  },
  {
   "cell_type": "code",
   "execution_count": null,
   "id": "bb72d47d-07b2-4851-98e6-d8c3bce94d79",
   "metadata": {},
   "outputs": [],
   "source": [
    "#I successfully normalised the microarray .CEL files and saved them as a RMA-normalised expression matrix (rma_normalised_expression_matrix.csv). \n",
    "\n",
    "#Now we will Load the expression Matrix in python for analysis of downstream \n",
    "#1)Quality checks\n",
    "\n",
    "#2)Preprocessing\n",
    "\n",
    "#3)Label assignment (pollution levels)\n",
    "\n",
    "#4)Machine learning (pollution → gene expression)"
   ]
  },
  {
   "cell_type": "code",
   "execution_count": 47,
   "id": "161fd1a0-2b91-4a56-989f-d3cd1e0880bd",
   "metadata": {},
   "outputs": [
    {
     "name": "stdout",
     "output_type": "stream",
     "text": [
      "Expression matrix loaded:\n",
      "(20706, 9)\n",
      "            BEAS-PM2.5_3_miRNA-2_07_07_11.CEL  BEAS_C1_miRNA-2_0_07_07_11.CEL  \\\n",
      "1367452_st                           1.129690                        0.736411   \n",
      "1367453_st                           1.098788                        1.057016   \n",
      "1367454_st                           1.148708                        1.148708   \n",
      "1367455_st                           0.950668                        0.950668   \n",
      "1367456_st                           1.172968                        1.098710   \n",
      "1367457_st                           1.290938                        1.239223   \n",
      "1367458_st                           1.403321                        1.403321   \n",
      "1367459_st                           1.072003                        1.072003   \n",
      "1367460_st                           1.097941                        1.197889   \n",
      "1367461_st                           0.950668                        0.950668   \n",
      "\n",
      "            BEAS_C2_miRNA-2_0_07_07_11.CEL  BEAS_C3_miRNA-2_0_07_07_11.CEL  \\\n",
      "1367452_st                        0.981585                        1.190613   \n",
      "1367453_st                        1.057016                        1.019421   \n",
      "1367454_st                        1.186304                        1.148708   \n",
      "1367455_st                        0.897699                        0.950668   \n",
      "1367456_st                        1.194969                        0.977375   \n",
      "1367457_st                        1.471738                        1.302978   \n",
      "1367458_st                        1.193115                        1.447154   \n",
      "1367459_st                        0.997909                        0.821161   \n",
      "1367460_st                        1.010233                        0.805486   \n",
      "1367461_st                        1.109598                        0.825151   \n",
      "\n",
      "            BEAS_PM10_1_miRNA-2_0_06.07.11.CEL  \\\n",
      "1367452_st                            1.031436   \n",
      "1367453_st                            0.931568   \n",
      "1367454_st                            1.072003   \n",
      "1367455_st                            0.653307   \n",
      "1367456_st                            1.072003   \n",
      "1367457_st                            1.044570   \n",
      "1367458_st                            1.306444   \n",
      "1367459_st                            1.152648   \n",
      "1367460_st                            0.939944   \n",
      "1367461_st                            0.950668   \n",
      "\n",
      "            BEAS_PM10_2_miRNA-2_0_06_07_11.CEL  \\\n",
      "1367452_st                            0.753210   \n",
      "1367453_st                            1.057016   \n",
      "1367454_st                            1.211883   \n",
      "1367455_st                            1.156953   \n",
      "1367456_st                            1.121319   \n",
      "1367457_st                            1.239223   \n",
      "1367458_st                            1.403321   \n",
      "1367459_st                            1.057016   \n",
      "1367460_st                            0.825634   \n",
      "1367461_st                            0.950668   \n",
      "\n",
      "            BEAS_PM10_3_miRNA-2_0_06_07_11.CEL  \\\n",
      "1367452_st                            1.031436   \n",
      "1367453_st                            1.466039   \n",
      "1367454_st                            0.797097   \n",
      "1367455_st                            0.950668   \n",
      "1367456_st                            0.632987   \n",
      "1367457_st                            1.239223   \n",
      "1367458_st                            1.403321   \n",
      "1367459_st                            1.231022   \n",
      "1367460_st                            1.173949   \n",
      "1367461_st                            0.950668   \n",
      "\n",
      "            BEAS_PM2.5_1_miRNA-2_0_06_07_11.CEL  \\\n",
      "1367452_st                             1.348360   \n",
      "1367453_st                             1.178351   \n",
      "1367454_st                             1.014665   \n",
      "1367455_st                             1.217431   \n",
      "1367456_st                             0.913073   \n",
      "1367457_st                             1.210667   \n",
      "1367458_st                             1.558760   \n",
      "1367459_st                             1.400791   \n",
      "1367460_st                             1.322489   \n",
      "1367461_st                             0.950668   \n",
      "\n",
      "            BEAS_PM2.5_2_miRNA-2_07_07_11.CEL  \n",
      "1367452_st                           1.031436  \n",
      "1367453_st                           0.742489  \n",
      "1367454_st                           1.186304  \n",
      "1367455_st                           1.064977  \n",
      "1367456_st                           0.977375  \n",
      "1367457_st                           1.088289  \n",
      "1367458_st                           1.403321  \n",
      "1367459_st                           0.978459  \n",
      "1367460_st                           1.330567  \n",
      "1367461_st                           0.950668  \n"
     ]
    }
   ],
   "source": [
    "import pandas as pd\n",
    "import os\n",
    "\n",
    "# Set your file path\n",
    "csv_path = \"C:/Users/emman/Downloads/PM2.5_Pollution_Data-Public/Scripts/Genetic_Data/arrayexpress_E-MTAB-3630_files/rma_normalised_expression_matrix.csv\"\n",
    "\n",
    "# Load the expression matrix\n",
    "df = pd.read_csv(csv_path, index_col=0)\n",
    "\n",
    "# Preview the data\n",
    "print(\"Expression matrix loaded:\")\n",
    "print(df.shape)\n",
    "print(df.head(10))\n"
   ]
  },
  {
   "cell_type": "code",
   "execution_count": 1,
   "id": "585518f6-2b28-411f-8340-1bd92c2e5db3",
   "metadata": {},
   "outputs": [
    {
     "name": "stdout",
     "output_type": "stream",
     "text": [
      "(20706, 9)\n"
     ]
    },
    {
     "data": {
      "text/html": [
       "<div>\n",
       "<style scoped>\n",
       "    .dataframe tbody tr th:only-of-type {\n",
       "        vertical-align: middle;\n",
       "    }\n",
       "\n",
       "    .dataframe tbody tr th {\n",
       "        vertical-align: top;\n",
       "    }\n",
       "\n",
       "    .dataframe thead th {\n",
       "        text-align: right;\n",
       "    }\n",
       "</style>\n",
       "<table border=\"1\" class=\"dataframe\">\n",
       "  <thead>\n",
       "    <tr style=\"text-align: right;\">\n",
       "      <th></th>\n",
       "      <th>BEAS-PM2.5_3_miRNA-2_07_07_11.CEL</th>\n",
       "      <th>BEAS_C1_miRNA-2_0_07_07_11.CEL</th>\n",
       "      <th>BEAS_C2_miRNA-2_0_07_07_11.CEL</th>\n",
       "      <th>BEAS_C3_miRNA-2_0_07_07_11.CEL</th>\n",
       "      <th>BEAS_PM10_1_miRNA-2_0_06.07.11.CEL</th>\n",
       "      <th>BEAS_PM10_2_miRNA-2_0_06_07_11.CEL</th>\n",
       "      <th>BEAS_PM10_3_miRNA-2_0_06_07_11.CEL</th>\n",
       "      <th>BEAS_PM2.5_1_miRNA-2_0_06_07_11.CEL</th>\n",
       "      <th>BEAS_PM2.5_2_miRNA-2_07_07_11.CEL</th>\n",
       "    </tr>\n",
       "  </thead>\n",
       "  <tbody>\n",
       "    <tr>\n",
       "      <th>1367452_st</th>\n",
       "      <td>1.129690</td>\n",
       "      <td>0.736411</td>\n",
       "      <td>0.981585</td>\n",
       "      <td>1.190613</td>\n",
       "      <td>1.031436</td>\n",
       "      <td>0.753210</td>\n",
       "      <td>1.031436</td>\n",
       "      <td>1.348360</td>\n",
       "      <td>1.031436</td>\n",
       "    </tr>\n",
       "    <tr>\n",
       "      <th>1367453_st</th>\n",
       "      <td>1.098788</td>\n",
       "      <td>1.057016</td>\n",
       "      <td>1.057016</td>\n",
       "      <td>1.019421</td>\n",
       "      <td>0.931568</td>\n",
       "      <td>1.057016</td>\n",
       "      <td>1.466039</td>\n",
       "      <td>1.178351</td>\n",
       "      <td>0.742489</td>\n",
       "    </tr>\n",
       "    <tr>\n",
       "      <th>1367454_st</th>\n",
       "      <td>1.148708</td>\n",
       "      <td>1.148708</td>\n",
       "      <td>1.186304</td>\n",
       "      <td>1.148708</td>\n",
       "      <td>1.072003</td>\n",
       "      <td>1.211883</td>\n",
       "      <td>0.797097</td>\n",
       "      <td>1.014665</td>\n",
       "      <td>1.186304</td>\n",
       "    </tr>\n",
       "    <tr>\n",
       "      <th>1367455_st</th>\n",
       "      <td>0.950668</td>\n",
       "      <td>0.950668</td>\n",
       "      <td>0.897699</td>\n",
       "      <td>0.950668</td>\n",
       "      <td>0.653307</td>\n",
       "      <td>1.156953</td>\n",
       "      <td>0.950668</td>\n",
       "      <td>1.217431</td>\n",
       "      <td>1.064977</td>\n",
       "    </tr>\n",
       "    <tr>\n",
       "      <th>1367456_st</th>\n",
       "      <td>1.172968</td>\n",
       "      <td>1.098710</td>\n",
       "      <td>1.194969</td>\n",
       "      <td>0.977375</td>\n",
       "      <td>1.072003</td>\n",
       "      <td>1.121319</td>\n",
       "      <td>0.632987</td>\n",
       "      <td>0.913073</td>\n",
       "      <td>0.977375</td>\n",
       "    </tr>\n",
       "  </tbody>\n",
       "</table>\n",
       "</div>"
      ],
      "text/plain": [
       "            BEAS-PM2.5_3_miRNA-2_07_07_11.CEL  BEAS_C1_miRNA-2_0_07_07_11.CEL  \\\n",
       "1367452_st                           1.129690                        0.736411   \n",
       "1367453_st                           1.098788                        1.057016   \n",
       "1367454_st                           1.148708                        1.148708   \n",
       "1367455_st                           0.950668                        0.950668   \n",
       "1367456_st                           1.172968                        1.098710   \n",
       "\n",
       "            BEAS_C2_miRNA-2_0_07_07_11.CEL  BEAS_C3_miRNA-2_0_07_07_11.CEL  \\\n",
       "1367452_st                        0.981585                        1.190613   \n",
       "1367453_st                        1.057016                        1.019421   \n",
       "1367454_st                        1.186304                        1.148708   \n",
       "1367455_st                        0.897699                        0.950668   \n",
       "1367456_st                        1.194969                        0.977375   \n",
       "\n",
       "            BEAS_PM10_1_miRNA-2_0_06.07.11.CEL  \\\n",
       "1367452_st                            1.031436   \n",
       "1367453_st                            0.931568   \n",
       "1367454_st                            1.072003   \n",
       "1367455_st                            0.653307   \n",
       "1367456_st                            1.072003   \n",
       "\n",
       "            BEAS_PM10_2_miRNA-2_0_06_07_11.CEL  \\\n",
       "1367452_st                            0.753210   \n",
       "1367453_st                            1.057016   \n",
       "1367454_st                            1.211883   \n",
       "1367455_st                            1.156953   \n",
       "1367456_st                            1.121319   \n",
       "\n",
       "            BEAS_PM10_3_miRNA-2_0_06_07_11.CEL  \\\n",
       "1367452_st                            1.031436   \n",
       "1367453_st                            1.466039   \n",
       "1367454_st                            0.797097   \n",
       "1367455_st                            0.950668   \n",
       "1367456_st                            0.632987   \n",
       "\n",
       "            BEAS_PM2.5_1_miRNA-2_0_06_07_11.CEL  \\\n",
       "1367452_st                             1.348360   \n",
       "1367453_st                             1.178351   \n",
       "1367454_st                             1.014665   \n",
       "1367455_st                             1.217431   \n",
       "1367456_st                             0.913073   \n",
       "\n",
       "            BEAS_PM2.5_2_miRNA-2_07_07_11.CEL  \n",
       "1367452_st                           1.031436  \n",
       "1367453_st                           0.742489  \n",
       "1367454_st                           1.186304  \n",
       "1367455_st                           1.064977  \n",
       "1367456_st                           0.977375  "
      ]
     },
     "execution_count": 1,
     "metadata": {},
     "output_type": "execute_result"
    }
   ],
   "source": [
    "import pandas as pd\n",
    "\n",
    "# Path to the CSV you saved from R\n",
    "expression_path = \"C:/Users/emman/Downloads/PM2.5_Pollution_Data-Public/Scripts/Genetic_Data/arrayexpress_E-MTAB-3630_files/rma_normalised_expression_matrix.csv\"\n",
    "\n",
    "# Load into DataFrame\n",
    "exprs_df = pd.read_csv(expression_path, index_col=0)\n",
    "print(exprs_df.shape)\n",
    "exprs_df.head()\n"
   ]
  },
  {
   "cell_type": "code",
   "execution_count": 5,
   "id": "669218db-862a-4033-a97d-38afbfeb2b4f",
   "metadata": {},
   "outputs": [
    {
     "data": {
      "text/plain": [
       "Index(['Source Name', 'Characteristics[organism]',\n",
       "       'Characteristics[cell line]', 'Material Type', 'Protocol REF',\n",
       "       'Protocol REF.1', 'Extract Name', 'Protocol REF.2',\n",
       "       'Labeled Extract Name', 'Label', 'Protocol REF.3', 'Assay Name',\n",
       "       'Technology Type', 'Array Design REF', 'Term Source REF',\n",
       "       'Protocol REF.4', 'Array Data File', 'Comment [ArrayExpress FTP file]',\n",
       "       'Factor Value[compound]'],\n",
       "      dtype='object')"
      ]
     },
     "execution_count": 5,
     "metadata": {},
     "output_type": "execute_result"
    }
   ],
   "source": [
    "# Load the metadata file\n",
    "meta_path = \"C:/Users/emman/Downloads/PM2.5_Pollution_Data-Public/Scripts/Genetic_Data/downloads/E-MTAB-3630_E-MTAB-3630.sdrf.txt\"\n",
    "metadata = pd.read_csv(meta_path, sep=\"\\t\")\n",
    "metadata.columns\n"
   ]
  },
  {
   "cell_type": "code",
   "execution_count": 6,
   "id": "59bfd284-2dcb-4f7e-a4ca-60fe31fbf3c4",
   "metadata": {},
   "outputs": [
    {
     "name": "stdout",
     "output_type": "stream",
     "text": [
      "set()\n"
     ]
    }
   ],
   "source": [
    "#Step 2.4: Clean and Align Metadata with Expression Matrix\n",
    "# Get sample labels\n",
    "labels_df = metadata[[\"Array Data File\", \"Factor Value[compound]\"]].copy()\n",
    "labels_df.columns = [\"sample\", \"pollution_type\"]\n",
    "\n",
    "# Optional: check if sample names match column headers in exprs_df\n",
    "print(set(labels_df['sample']) - set(exprs_df.columns))  # should be empty\n"
   ]
  },
  {
   "cell_type": "code",
   "execution_count": 9,
   "id": "3a5a8b3f-6610-452c-bf84-2815ca2bc310",
   "metadata": {},
   "outputs": [
    {
     "data": {
      "image/png": "[encoded data removed]",
      "text/plain": [
       "<Figure size 640x480 with 2 Axes>"
      ]
     },
     "metadata": {},
     "output_type": "display_data"
    }
   ],
   "source": [
    "# Transpose the expression dataframe\n",
    "exprs_df_T = exprs_df.T\n",
    "\n",
    "# Merge metadata into the transposed expression dataframe\n",
    "exprs_df_T = exprs_df_T.merge(labels_df, left_index=True, right_on=\"sample\")\n",
    "\n",
    "# Now you can drop 'pollution_type' and plot\n",
    "exprs_df_T.drop(\"pollution_type\", axis=1).describe().T[[\"mean\", \"std\"]].hist(bins=50)\n",
    "plt.suptitle(\"Gene Expression Statistics Across Samples\")\n",
    "plt.show()\n"
   ]
  },
  {
   "cell_type": "code",
   "execution_count": 11,
   "id": "f66d7c81-d8fd-4580-91e6-ce9ed87579b7",
   "metadata": {},
   "outputs": [
    {
     "data": {
      "image/png": "[encoded data removed]",
      "text/plain": [
       "<Figure size 800x600 with 1 Axes>"
      ]
     },
     "metadata": {},
     "output_type": "display_data"
    }
   ],
   "source": [
    "from sklearn.decomposition import PCA\n",
    "import seaborn as sns\n",
    "import matplotlib.pyplot as plt\n",
    "\n",
    "# Transpose expression matrix\n",
    "exprs_df_T = exprs_df.T\n",
    "\n",
    "# Merge metadata\n",
    "exprs_df_T = exprs_df_T.merge(labels_df, left_index=True, right_on=\"sample\")\n",
    "\n",
    "# Drop non-numeric columns and ensure all remaining data is numeric\n",
    "X = exprs_df_T.drop([\"pollution_type\", \"sample\"], axis=1)\n",
    "X = X.apply(pd.to_numeric, errors=\"coerce\")  # Convert to numeric, set non-convertible to NaN\n",
    "X = X.dropna(axis=1)  # Drop columns with NaNs\n",
    "\n",
    "# Extract labels\n",
    "y = exprs_df_T[\"pollution_type\"]\n",
    "\n",
    "pca = PCA(n_components=2)\n",
    "X_pca = pca.fit_transform(X)\n",
    "\n",
    "pca_df = pd.DataFrame(X_pca, columns=[\"PC1\", \"PC2\"])\n",
    "pca_df[\"pollution_type\"] = y.values\n",
    "\n",
    "plt.figure(figsize=(8,6))\n",
    "sns.scatterplot(data=pca_df, x=\"PC1\", y=\"PC2\", hue=\"pollution_type\", s=100)\n",
    "plt.title(\"PCA of Gene Expression by Pollution Exposure\")\n",
    "plt.show()\n"
   ]
  },
  {
   "cell_type": "code",
   "execution_count": 13,
   "id": "286e98d1-b35c-4fe8-b9c3-5e0e8091062a",
   "metadata": {},
   "outputs": [
    {
     "data": {
      "image/png": "[encoded data removed]",
      "text/plain": [
       "<Figure size 1000x1000 with 4 Axes>"
      ]
     },
     "metadata": {},
     "output_type": "display_data"
    }
   ],
   "source": [
    "# Use PCA-reduced data instead of full gene set\n",
    "sns.clustermap(pd.DataFrame(X_pca).corr(), cmap=\"viridis\")\n",
    "plt.title(\"PCA-Reduced Sample Correlation Heatmap\")\n",
    "plt.show()\n"
   ]
  },
  {
   "cell_type": "code",
   "execution_count": 40,
   "id": "3728dff0-4c9f-4bae-a6b7-6fc220f30472",
   "metadata": {},
   "outputs": [
    {
     "name": "stdout",
     "output_type": "stream",
     "text": [
      "0\n"
     ]
    },
    {
     "data": {
      "image/png": "[encoded data removed]",
      "text/plain": [
       "<Figure size 1200x600 with 1 Axes>"
      ]
     },
     "metadata": {},
     "output_type": "display_data"
    }
   ],
   "source": [
    "# Check for any missing values\n",
    "print(df.isnull().sum().sum())  # should be 0 for a clean matrix\n",
    "\n",
    "# Visualize distribution across all samples\n",
    "import matplotlib.pyplot as plt\n",
    "import seaborn as sns\n",
    "\n",
    "plt.figure(figsize=(12,6))\n",
    "sns.boxplot(data=df)\n",
    "plt.xticks(rotation=90)\n",
    "plt.title(\"Boxplot of Normalised Expression per Sample\")\n",
    "plt.tight_layout()\n",
    "plt.show()\n"
   ]
  },
  {
   "cell_type": "code",
   "execution_count": 41,
   "id": "41033c81-ce20-4ab3-9f62-5eaba83ec902",
   "metadata": {},
   "outputs": [
    {
     "data": {
      "image/png": "[encoded data removed]",
      "text/plain": [
       "<Figure size 640x480 with 1 Axes>"
      ]
     },
     "metadata": {},
     "output_type": "display_data"
    }
   ],
   "source": [
    "#PCA to check sample similarity\n",
    "from sklearn.decomposition import PCA\n",
    "import numpy as np\n",
    "\n",
    "# Transpose to shape (samples, genes)\n",
    "X = df.T.values#this transposes the gene expression matrix so rows represent samples and columns represent genes\n",
    "pca = PCA(n_components=2)#make the PCA into a 2 principal component for 2D visualization\n",
    "X_pca = pca.fit_transform(X)#get the pca and transform the data into 2D space \n",
    "\n",
    "plt.scatter(X_pca[:, 0], X_pca[:, 1)#Plot the sample into the PCA space \n",
    "for i, name in enumerate(df.columns):#go through the colume dataframe\n",
    "    plt.annotate(name, (X_pca[i, 0], X_pca[i, 1]))#Label each axies with its sample name\n",
    "plt.title(\"PCA of Samples\")\n",
    "plt.xlabel(\"PC1\")\n",
    "plt.ylabel(\"PC2\")\n",
    "plt.grid()\n",
    "plt.show()\n"
   ]
  },
  {
   "cell_type": "code",
   "execution_count": 42,
   "id": "d9c08352-1ea0-4be0-8ebc-0e82e7923fd7",
   "metadata": {},
   "outputs": [],
   "source": [
    "# step 2 : Preprocessing\n",
    "from sklearn.preprocessing import StandardScaler\n",
    "\n",
    "X_scaled = StandardScaler().fit_transform(df.T)  # shape: (samples, genes)\n"
   ]
  },
  {
   "cell_type": "code",
   "execution_count": 56,
   "id": "9a08eca0-4c3b-48f5-965a-ccfa127d92f8",
   "metadata": {},
   "outputs": [
    {
     "name": "stdout",
     "output_type": "stream",
     "text": [
      "['Control', 'Control', 'Control', 'PM10', 'PM10', 'PM10', 'PM2.5', 'PM2.5', 'PM2.5']\n"
     ]
    }
   ],
   "source": [
    "#Step 3 : Assign Labels (Pollution Groups)\n",
    "import numpy as np\n",
    "\n",
    "# Create pollution category labels\n",
    "sample_labels = []\n",
    "for col in df.columns:\n",
    "    if \"PM2.5\" in col:\n",
    "        sample_labels.append(\"PM2.5\")\n",
    "    elif \"PM10\" in col:\n",
    "        sample_labels.append(\"PM10\")\n",
    "    elif \"C\" in col:\n",
    "        sample_labels.append(\"Control\")\n",
    "    else:\n",
    "        sample_labels.append(\"Unknown\")\n",
    "\n",
    "print(sorted(sample_labels))\n",
    "# Output: ['Control', 'Control', 'PM10', 'PM2.5']"
   ]
  },
  {
   "cell_type": "code",
   "execution_count": 61,
   "id": "8b738790-66d1-4d29-aafb-e726735ef996",
   "metadata": {},
   "outputs": [
    {
     "name": "stdout",
     "output_type": "stream",
     "text": [
      "[('BEAS_C1_miRNA-2_0_07_07_11.CEL', np.int64(0)), ('BEAS_C2_miRNA-2_0_07_07_11.CEL', np.int64(0)), ('BEAS_C3_miRNA-2_0_07_07_11.CEL', np.int64(0)), ('BEAS_PM10_1_miRNA-2_0_06.07.11.CEL', np.int64(1)), ('BEAS_PM10_2_miRNA-2_0_06_07_11.CEL', np.int64(1)), ('BEAS_PM10_3_miRNA-2_0_06_07_11.CEL', np.int64(1)), ('BEAS-PM2.5_3_miRNA-2_07_07_11.CEL', np.int64(2)), ('BEAS_PM2.5_1_miRNA-2_0_06_07_11.CEL', np.int64(2)), ('BEAS_PM2.5_2_miRNA-2_07_07_11.CEL', np.int64(2))]\n"
     ]
    }
   ],
   "source": [
    "from sklearn.preprocessing import LabelEncoder\n",
    "\n",
    "le = LabelEncoder()\n",
    "y = le.fit_transform(sample_labels)  # PM2.5=2, PM10=1, Control=0\n",
    "#print(list(zip(df.columns, y)))\n",
    "\n",
    "sorted_columns = sorted(zip(df.columns, y), key=lambda x: x[1])\n",
    "print(sorted_columns)\n"
   ]
  },
  {
   "cell_type": "code",
   "execution_count": 72,
   "id": "0c5ee517-3fe1-432f-b394-bbf05e0ad3c3",
   "metadata": {},
   "outputs": [
    {
     "name": "stdout",
     "output_type": "stream",
     "text": [
      "              precision    recall  f1-score   support\n",
      "\n",
      "     Control       1.00      1.00      1.00         1\n",
      "        PM10       0.50      1.00      0.67         1\n",
      "       PM2.5       0.00      0.00      0.00         1\n",
      "\n",
      "    accuracy                           0.67         3\n",
      "   macro avg       0.50      0.67      0.56         3\n",
      "weighted avg       0.50      0.67      0.56         3\n",
      "\n"
     ]
    },
    {
     "name": "stderr",
     "output_type": "stream",
     "text": [
      "C:\\Users\\emman\\Downloads\\Personal_File\\University_of_Bradford\\Lib\\site-packages\\sklearn\\metrics\\_classification.py:1731: UndefinedMetricWarning: Precision is ill-defined and being set to 0.0 in labels with no predicted samples. Use `zero_division` parameter to control this behavior.\n",
      "  _warn_prf(average, modifier, f\"{metric.capitalize()} is\", result.shape[0])\n",
      "C:\\Users\\emman\\Downloads\\Personal_File\\University_of_Bradford\\Lib\\site-packages\\sklearn\\metrics\\_classification.py:1731: UndefinedMetricWarning: Precision is ill-defined and being set to 0.0 in labels with no predicted samples. Use `zero_division` parameter to control this behavior.\n",
      "  _warn_prf(average, modifier, f\"{metric.capitalize()} is\", result.shape[0])\n",
      "C:\\Users\\emman\\Downloads\\Personal_File\\University_of_Bradford\\Lib\\site-packages\\sklearn\\metrics\\_classification.py:1731: UndefinedMetricWarning: Precision is ill-defined and being set to 0.0 in labels with no predicted samples. Use `zero_division` parameter to control this behavior.\n",
      "  _warn_prf(average, modifier, f\"{metric.capitalize()} is\", result.shape[0])\n"
     ]
    }
   ],
   "source": [
    "#Step 4 : ML Model (Pollution → Gene Expression) from sklearn.ensemble import RandomForestClassifier\n",
    "from sklearn.ensemble import RandomForestClassifier\n",
    "from sklearn.model_selection import train_test_split\n",
    "from sklearn.metrics import classification_report\n",
    "\n",
    "# Input = expression matrix, Transposed\n",
    "X = df.T.values  # shape: (samples, genes)\n",
    "\n",
    "# Train-test split\n",
    "X_train, X_test, y_train, y_test = train_test_split(X, y, test_size=0.3, stratify=y, random_state=42)\n",
    "\n",
    "# Train model\n",
    "model = RandomForestClassifier(n_estimators=100, random_state=42)\n",
    "model.fit(X_train, y_train)\n",
    "\n",
    "# Predict and evaluate\n",
    "y_pred = model.predict(X_test)\n",
    "print(classification_report(y_test, y_pred, target_names=le.classes_))\n",
    "\n",
    "#From this we will get model performance (accuracy, precision, recall by class\n",
    "#We will also get feature importances - which genes most contribute to pollution class prediction"
   ]
  },
  {
   "cell_type": "code",
   "execution_count": null,
   "id": "d88b349e-a1a1-4d42-bfd5-ae3a92a41fea",
   "metadata": {},
   "outputs": [],
   "source": []
  }
 ],
 "metadata": {
  "kernelspec": {
   "display_name": "Python 3 (ipykernel)",
   "language": "python",
   "name": "python3"
  },
  "language_info": {
   "codemirror_mode": {
    "name": "ipython",
    "version": 3
   },
   "file_extension": ".py",
   "mimetype": "text/x-python",
   "name": "python",
   "nbconvert_exporter": "python",
   "pygments_lexer": "ipython3",
   "version": "3.13.2"
  }
 },
 "nbformat": 4,
 "nbformat_minor": 5
}
