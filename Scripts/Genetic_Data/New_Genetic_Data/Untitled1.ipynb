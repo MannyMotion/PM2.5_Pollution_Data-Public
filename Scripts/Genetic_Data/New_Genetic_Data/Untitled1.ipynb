{
 "cells": [
  {
   "cell_type": "code",
   "execution_count": 6,
   "id": "715056fd-e1f8-446e-b22b-2db1f26a85d6",
   "metadata": {},
   "outputs": [
    {
     "name": "stdout",
     "output_type": "stream",
     "text": [
      "GWAS summary data decompressed successfully.\n"
     ]
    }
   ],
   "source": [
    "import gzip\n",
    "import shutil\n",
    "\n",
    "# Rule: Ensure the correct path for the input and output files.\n",
    "with gzip.open('CAD_META.gz', 'rb') as f_in:\n",
    "    with open('CAD_META.txt', 'wb') as f_out:\n",
    "        shutil.copyfileobj(f_in, f_out)\n",
    "\n",
    "print(\"GWAS summary data decompressed successfully.\")\n"
   ]
  },
  {
   "cell_type": "code",
   "execution_count": 10,
   "id": "d9699e29-3a09-4e43-b7e0-8c9ae1fed91d",
   "metadata": {},
   "outputs": [
    {
     "name": "stdout",
     "output_type": "stream",
     "text": [
      "         MarkerName Allele1 Allele2   Freq1  FreqSE  MinFreq  MaxFreq  Effect  \\\n",
      "0  10:100000625_A_G       a       g  0.5604  0.0081   0.5499   0.5667  0.0264   \n",
      "1  10:100000645_A_C       a       c  0.8060  0.0089   0.7996   0.8184 -0.0119   \n",
      "2  10:100001867_C_T       t       c  0.0129  0.0007   0.0114   0.0132  0.0296   \n",
      "3  10:100003242_G_T       t       g  0.8800  0.0034   0.8756   0.8827  0.0107   \n",
      "4  10:100003304_A_G       a       g  0.9636  0.0037   0.9615   0.9701  0.0066   \n",
      "5  10:100003785_C_T       t       c  0.6432  0.0006   0.6425   0.6437 -0.0203   \n",
      "6  10:100004360_A_G       a       g  0.1939  0.0090   0.1814   0.2004  0.0120   \n",
      "7  10:100004441_C_G       c       g  0.6328  0.0029   0.6290   0.6350 -0.0196   \n",
      "8  10:100004799_A_C       a       c  0.9863  0.0014   0.9857   0.9891 -0.0185   \n",
      "9  10:100004906_A_C       a       c  0.4395  0.0081   0.4332   0.4500 -0.0265   \n",
      "\n",
      "   StdErr   P-value Direction  HetISq  HetChiSq  HetDf  HetPVal        oldID  \\\n",
      "0  0.0056  0.000003        ++    13.0     1.150      1   0.2835    rs7899632   \n",
      "1  0.0071  0.094480        --     0.0     0.578      1   0.4469   rs61875309   \n",
      "2  0.0293  0.312600        -+     0.0     0.485      1   0.4861  rs150203744   \n",
      "3  0.0086  0.213600        ++     0.0     0.002      1   0.9642   rs12258651   \n",
      "4  0.0158  0.678700        -+    53.3     2.142      1   0.1433   rs72828461   \n",
      "5  0.0058  0.000499        --     0.0     0.174      1   0.6768    rs1359508   \n",
      "6  0.0071  0.092200        ++     0.0     0.608      1   0.4355    rs1048754   \n",
      "7  0.0058  0.000733        --     0.0     0.117      1   0.7318    rs1048757   \n",
      "8  0.0267  0.487300        --    30.6     1.441      1   0.2299   rs77264786   \n",
      "9  0.0056  0.000002        --    16.5     1.198      1   0.2737    rs3750595   \n",
      "\n",
      "   CHR         BP  \n",
      "0   10  100000625  \n",
      "1   10  100000645  \n",
      "2   10  100001867  \n",
      "3   10  100003242  \n",
      "4   10  100003304  \n",
      "5   10  100003785  \n",
      "6   10  100004360  \n",
      "7   10  100004441  \n",
      "8   10  100004799  \n",
      "9   10  100004906  \n",
      "Index(['MarkerName', 'Allele1', 'Allele2', 'Freq1', 'FreqSE', 'MinFreq',\n",
      "       'MaxFreq', 'Effect', 'StdErr', 'P-value', 'Direction', 'HetISq',\n",
      "       'HetChiSq', 'HetDf', 'HetPVal', 'oldID', 'CHR', 'BP'],\n",
      "      dtype='object')\n",
      "(7947837, 18)\n",
      "<class 'pandas.core.frame.DataFrame'>\n",
      "RangeIndex: 7947837 entries, 0 to 7947836\n",
      "Data columns (total 18 columns):\n",
      " #   Column      Dtype  \n",
      "---  ------      -----  \n",
      " 0   MarkerName  object \n",
      " 1   Allele1     object \n",
      " 2   Allele2     object \n",
      " 3   Freq1       float64\n",
      " 4   FreqSE      float64\n",
      " 5   MinFreq     float64\n",
      " 6   MaxFreq     float64\n",
      " 7   Effect      float64\n",
      " 8   StdErr      float64\n",
      " 9   P-value     float64\n",
      " 10  Direction   object \n",
      " 11  HetISq      float64\n",
      " 12  HetChiSq    float64\n",
      " 13  HetDf       int64  \n",
      " 14  HetPVal     float64\n",
      " 15  oldID       object \n",
      " 16  CHR         int64  \n",
      " 17  BP          int64  \n",
      "dtypes: float64(10), int64(3), object(5)\n",
      "memory usage: 1.1+ GB\n",
      "None\n",
      "Data cleaned and significant SNPs extracted.\n"
     ]
    }
   ],
   "source": [
    "import pandas as pd\n",
    "\n",
    "# Define file path for decompressed file\n",
    "Genetic_Data_Summary = \"C:/Users/emman/Downloads/PM2.5_Pollution_Data-Public/Scripts/Genetic_Data/New_Genetic_Data/CAD_META.txt\"  # Replace with your actual path\n",
    "\n",
    "# Try reading the file in chunks if it's too large\n",
    "chunk_size = 10000  # Number of rows per chunk\n",
    "chunks = pd.read_csv(Genetic_Data_Summary, delimiter='\\t', chunksize=chunk_size, engine='python')  # Removed low_memory\n",
    "\n",
    "# Concatenate chunks into a single DataFrame\n",
    "genetic_df = pd.concat(chunks, ignore_index=True)\n",
    "\n",
    "# Display first 10 rows to verify loading\n",
    "print(genetic_df.head(10))\n",
    "\n",
    "# Display columns to understand dataset structure\n",
    "print(genetic_df.columns)\n",
    "print(genetic_df.shape)\n",
    "\n",
    "# Get basic info on data types and non-null counts\n",
    "print(genetic_df.info())\n",
    "\n",
    "# Rule: Clean the data by removing rows with missing critical data and filter significant variants.\n",
    "# Use 'MarkerName' and 'P-value' instead of 'SNP' and 'P'\n",
    "genetic_df_cleaned = genetic_df.dropna(subset=['MarkerName', 'Effect', 'P-value'])  # Remove missing critical data\n",
    "significant_genetic_df = genetic_df_cleaned[genetic_df_cleaned['P-value'] < 5e-8]  # Filter by p-value threshold\n",
    "\n",
    "# Save cleaned data for future use\n",
    "significant_genetic_df.to_csv('significant_genetic_data.csv', index=False)\n",
    "print(\"Data cleaned and significant SNPs extracted.\")"
   ]
  },
  {
   "cell_type": "code",
   "execution_count": 11,
   "id": "9f05c2d1-cc7d-462b-810f-07c0b368664c",
   "metadata": {},
   "outputs": [
    {
     "name": "stdout",
     "output_type": "stream",
     "text": [
      "Panel file downloaded!\n",
      "Found 91 GBR samples.\n",
      "['HG00096', 'HG00097', 'HG00099', 'HG00100', 'HG00101', 'HG00102', 'HG00103', 'HG00105', 'HG00106', 'HG00107']\n"
     ]
    }
   ],
   "source": [
    "import requests\n",
    "\n",
    "# Step 1: Download the panel file (if you haven't downloaded manually)\n",
    "url = 'https://ftp.1000genomes.ebi.ac.uk/vol1/ftp/release/20130502/integrated_call_samples_v3.20130502.ALL.panel'\n",
    "panel_file = 'integrated_call_samples_v3.20130502.ALL.panel'\n",
    "\n",
    "response = requests.get(url)\n",
    "with open(panel_file, 'wb') as f:\n",
    "    f.write(response.content)\n",
    "\n",
    "print(\"Panel file downloaded!\")\n",
    "\n",
    "# Step 2: Read panel file and extract GBR sample IDs\n",
    "panel_df = pd.read_csv(panel_file, sep='\\t')\n",
    "gbr_samples = panel_df[panel_df['pop'] == 'GBR']\n",
    "gbr_sample_ids = gbr_samples['sample'].tolist()\n",
    "\n",
    "# Save GBR sample IDs to a file\n",
    "with open('GBR_sample_ids.txt', 'w') as f:\n",
    "    for sample_id in gbr_sample_ids:\n",
    "        f.write(sample_id + '\\n')\n",
    "\n",
    "print(f\"Found {len(gbr_sample_ids)} GBR samples.\")\n",
    "print(gbr_sample_ids[:10])\n"
   ]
  },
  {
   "cell_type": "code",
   "execution_count": 12,
   "id": "382aafeb-f17d-4dea-b6af-b4b05e6012a1",
   "metadata": {},
   "outputs": [
    {
     "name": "stdout",
     "output_type": "stream",
     "text": [
      "    sample  pop super_pop  gender  Unnamed: 4  Unnamed: 5\n",
      "0  HG00096  GBR       EUR    male         NaN         NaN\n",
      "1  HG00097  GBR       EUR  female         NaN         NaN\n",
      "2  HG00099  GBR       EUR  female         NaN         NaN\n",
      "3  HG00100  GBR       EUR  female         NaN         NaN\n",
      "4  HG00101  GBR       EUR    male         NaN         NaN\n"
     ]
    }
   ],
   "source": [
    "import pandas as pd\n",
    "\n",
    "# Load sample metadata (population info, sample IDs)\n",
    "samples = pd.read_csv('integrated_call_samples_v3.20130502.ALL.panel', sep='\\t')\n",
    "print(samples.head())\n",
    "\n",
    "# Columns usually: sample, population, super_population, gender\n"
   ]
  },
  {
   "cell_type": "code",
   "execution_count": 2,
   "id": "8e12423c-604c-4cc9-83e1-851d1379c662",
   "metadata": {},
   "outputs": [
    {
     "name": "stdout",
     "output_type": "stream",
     "text": [
      "VCF file exists: True\n",
      "Processing region: 1:10177-1922199\n",
      "Processing region: 1:1922223-3231709\n",
      "Processing region: 1:3231710-4703091\n",
      "Processing region: 1:4703101-6122675\n",
      "Processing region: 1:6122681-7682431\n",
      "Processing region: 1:7682434-9331783\n",
      "Processing region: 1:9331786-10980208\n",
      "Processing region: 1:10980235-12573799\n",
      "Processing region: 1:12573823-14749483\n",
      "Processing region: 1:14749491-16318356\n",
      "Processing region: 1:16318421-17981187\n",
      "Processing region: 1:17981244-19504756\n",
      "Processing region: 1:19504773-21119234\n",
      "Processing region: 1:21119276-22792865\n",
      "Processing region: 1:22792895-24606967\n",
      "Processing region: 1:24607029-26361914\n",
      "Processing region: 1:26361923-28212192\n",
      "Processing region: 1:28212209-30167343\n",
      "Processing region: 1:30167376-31702234\n",
      "Processing region: 1:31702238-33494458\n",
      "Processing region: 1:33494566-35218091\n",
      "Processing region: 1:35218133-37029372\n",
      "Processing region: 1:37029383-38695461\n",
      "Processing region: 1:38695486-40478261\n",
      "Processing region: 1:40478303-42256317\n",
      "Processing region: 1:42256372-44050633\n",
      "Processing region: 1:44050656-45885473\n",
      "Processing region: 1:45885490-47690494\n",
      "Processing region: 1:47690545-49479179\n",
      "Processing region: 1:49479185-51511828\n",
      "Processing region: 1:51511867-53384005\n",
      "Processing region: 1:53384021-55044455\n",
      "Processing region: 1:55044463-56668617\n",
      "Processing region: 1:56668716-58367612\n",
      "Processing region: 1:58367620-60063046\n",
      "Processing region: 1:60063124-61813008\n",
      "Processing region: 1:61813035-63582958\n",
      "Processing region: 1:63582966-65429372\n",
      "Processing region: 1:65429393-67223049\n",
      "Processing region: 1:67223101-68959668\n",
      "Processing region: 1:68959825-70769735\n",
      "Processing region: 1:70769744-72615432\n",
      "Processing region: 1:72615438-74387790\n",
      "Processing region: 1:74387802-76146852\n",
      "Processing region: 1:76146854-77918839\n",
      "Processing region: 1:77918936-79690737\n",
      "Processing region: 1:79690940-81303890\n",
      "Processing region: 1:81303903-82934718\n",
      "Processing region: 1:82934747-84749149\n",
      "Processing region: 1:84749166-86560322\n",
      "Processing region: 1:86560359-88323421\n",
      "Processing region: 1:88323533-90156117\n",
      "Processing region: 1:90156136-92002831\n",
      "Processing region: 1:92002857-93906483\n",
      "Processing region: 1:93906488-95686959\n",
      "Processing region: 1:95686988-97483445\n",
      "Processing region: 1:97483454-99265810\n",
      "Processing region: 1:99265823-101065634\n",
      "Processing region: 1:101065637-102736268\n",
      "Processing region: 1:102736293-104654738\n",
      "Processing region: 1:104654761-106109722\n",
      "Processing region: 1:106109764-107707665\n",
      "Processing region: 1:107707680-109652093\n",
      "Processing region: 1:109652121-111430084\n",
      "Processing region: 1:111430097-113123275\n",
      "Processing region: 1:113123319-114968992\n",
      "Processing region: 1:114969068-116731801\n",
      "Processing region: 1:116731814-118511429\n",
      "Processing region: 1:118511491-120196747\n",
      "Processing region: 1:120196853-144000610\n",
      "Processing region: 1:144000633-147061050\n",
      "Processing region: 1:147061051-150268058\n",
      "Processing region: 1:150268085-152191126\n",
      "Processing region: 1:152191133-153780530\n",
      "Processing region: 1:153780632-155715060\n",
      "Processing region: 1:155715061-157485930\n",
      "Processing region: 1:157485958-159084196\n",
      "Processing region: 1:159084197-160774731\n",
      "Processing region: 1:160774826-162544557\n",
      "Processing region: 1:162544568-164217913\n",
      "Processing region: 1:164217917-165876837\n",
      "Processing region: 1:165876900-167554529\n",
      "Processing region: 1:167554559-169227033\n",
      "Processing region: 1:169227043-170989250\n",
      "Processing region: 1:170989278-172787650\n",
      "Processing region: 1:172787654-174710860\n",
      "Processing region: 1:174710884-176440005\n",
      "Processing region: 1:176440015-178237046\n",
      "Processing region: 1:178237051-180029221\n",
      "Processing region: 1:180029258-181763091\n",
      "Processing region: 1:181763092-183532560\n",
      "Processing region: 1:183532580-185342260\n",
      "Processing region: 1:185342318-187097246\n",
      "Processing region: 1:187097285-188737379\n",
      "Processing region: 1:188737383-190311427\n",
      "Processing region: 1:190311433-192024669\n",
      "Processing region: 1:192024673-193826406\n",
      "Processing region: 1:193826420-195445877\n",
      "Processing region: 1:195445879-197117460\n",
      "Processing region: 1:197117463-198984650\n",
      "Processing region: 1:198984680-200787998\n",
      "Processing region: 1:200788022-202462291\n",
      "Processing region: 1:202462355-204174922\n",
      "Processing region: 1:204174950-205895238\n",
      "Processing region: 1:205895381-208132388\n",
      "Processing region: 1:208132392-209772045\n",
      "Processing region: 1:209772046-211472966\n",
      "Processing region: 1:211472969-213242354\n",
      "Processing region: 1:213242363-214980928\n",
      "Processing region: 1:214980929-216712644\n",
      "Processing region: 1:216712732-218353211\n",
      "Processing region: 1:218353240-220072755\n",
      "Processing region: 1:220072757-221839718\n",
      "Processing region: 1:221839719-223633620\n",
      "Processing region: 1:223633739-225500029\n",
      "Processing region: 1:225500047-227278139\n",
      "Processing region: 1:227278186-229016317\n",
      "Processing region: 1:229016385-230604904\n",
      "Processing region: 1:230604928-232292399\n",
      "Processing region: 1:232292414-233935101\n",
      "Processing region: 1:233935146-235632533\n",
      "Processing region: 1:235632547-237266434\n",
      "Processing region: 1:237266449-238878339\n",
      "Processing region: 1:238878391-240475466\n",
      "Processing region: 1:240475490-242094124\n",
      "Processing region: 1:242094173-243785073\n",
      "Processing region: 1:243785119-245432933\n",
      "Processing region: 1:245432938-246945522\n",
      "Processing region: 1:246945546-248502723\n",
      "Processing region: 1:248502744-249240543\n",
      "✅ Finished saving to allele_freq_chr1.csv.gz\n"
     ]
    }
   ],
   "source": [
    "import pandas as pd\n",
    "import allel# From scikit-allel: for VCF parsing and genotype analysis\n",
    "import os# For file path and existence checks\n",
    "\n",
    "# File paths\n",
    "vcf_path = r\"ALL.chr1.phase3_shapeit2_mvncall_integrated_v5b.20130502.genotypes (1).vcf.gz\"\n",
    "samples_path = \"integrated_call_samples_v3.20130502.ALL.panel\"\n",
    "output_file = \"allele_freq_chr1.csv.gz\"  # Output will be compressed CSV\n",
    "\n",
    "print(\"VCF file exists:\", os.path.exists(vcf_path))#Check VCF File Exists\n",
    "\n",
    "# Load samples info and filter EUR samples\n",
    "samples_df = pd.read_csv(samples_path, sep=\"\\t\")## Load sample panel\n",
    "eur_samples = samples_df[samples_df['super_pop'] == 'EUR']['sample'].tolist()#Loads metadata and filters for European ancestry samples\n",
    "\n",
    "# Prepare chunk parameters\n",
    "chunk_size = 50_000 #Number of variants per chunk\n",
    "chrom = '1' #Target chromosome\n",
    "\n",
    "# Read all positions for chromosome 1 to identify variant locations.\n",
    "vcf_all_pos = allel.read_vcf(vcf_path, fields=['variants/CHROM', 'variants/POS'])\n",
    "positions = vcf_all_pos['variants/POS']\n",
    "chroms = vcf_all_pos['variants/CHROM']\n",
    "\n",
    "# Filter chromosome 1 positions and Create a mask for chromosome 1 and filters positions accordingly.\n",
    "chr1_mask = chroms == chrom\n",
    "chr1_positions = positions[chr1_mask]\n",
    "\n",
    "# Remove old output file if exists\n",
    "if os.path.exists(output_file):\n",
    "    os.remove(output_file)\n",
    "\n",
    "# Iterate and write chunks directly to CSV\n",
    "start_idx = 0#Initializes loop variables\n",
    "first_chunk = True\n",
    "total_variants_chr1 = len(chr1_positions)#calculates total number of variants.\n",
    "\n",
    "# Batch size for writing to disk to reduce I/O frequency\n",
    "batch_size = 10  # Number of chunks to process before saving\n",
    "\n",
    "while start_idx < total_variants_chr1:#Loops through all variants in chunks.\n",
    "    end_idx = min(start_idx + chunk_size, total_variants_chr1)\n",
    "    start_pos = chr1_positions[start_idx]#Calculates start/end positions and formats region string for VCF slicing.\n",
    "    end_pos = chr1_positions[end_idx - 1]\n",
    "\n",
    "    region_str = f\"{chrom}:{start_pos}-{end_pos}\"\n",
    "    print(f\"Processing region: {region_str}\")\n",
    "\n",
    "    #Read VCF Chunk\n",
    "    chunk = allel.read_vcf(\n",
    "        vcf_path,\n",
    "        samples=eur_samples,\n",
    "        region=region_str,\n",
    "        fields=['variants/CHROM', 'variants/POS', 'variants/REF', 'variants/ALT', 'calldata/GT'],\n",
    "        alt_number=1\n",
    "    )#Loads genotype and variant data for the specified region and EUR samples.\n",
    "\n",
    "    #Skip Empty Chunks\n",
    "    if chunk is None or len(chunk['variants/POS']) == 0:\n",
    "        start_idx = end_idx\n",
    "        continue#Skips processing if no variants were found in the chunk.\n",
    "\n",
    "    genotypes = allel.GenotypeArray(chunk['calldata/GT'])## Convert to GenotypeArray\n",
    "    allele_counts = genotypes.count_alleles()## Count alleles per variant\n",
    "    alt_freqs = allele_counts[:, 1] / allele_counts.sum(axis=1)## ALT allele frequency\n",
    "\n",
    "    alts = chunk['variants/ALT']\n",
    "    if alts.ndim == 2:\n",
    "        alts = alts[:, 0]#If ALT alleles are stored as 2D arrays (e.g., multiple alleles), extract the first.\n",
    "\n",
    "    #Create DataFrame for Chunk\n",
    "    df_chunk = pd.DataFrame({\n",
    "        'chr': chunk['variants/CHROM'],\n",
    "        'pos': chunk['variants/POS'],\n",
    "        'ref': chunk['variants/REF'],\n",
    "        'alt': alts,\n",
    "        'alt_freq_eur': alt_freqs\n",
    "    })\n",
    "\n",
    "    # Write chunks in batches\n",
    "    if (start_idx // chunk_size) % batch_size == 0:\n",
    "        # Save all chunks in batch to CSV\n",
    "        df_chunk.to_csv(output_file, mode='a', header=first_chunk, index=False, compression='gzip')\n",
    "        first_chunk = False\n",
    "\n",
    "    start_idx = end_idx\n",
    "\n",
    "print(f\"✅ Finished saving to {output_file}\")\n"
   ]
  },
  {
   "cell_type": "code",
   "execution_count": null,
   "id": "45edb73a-4e15-4a4d-bc19-76f763918f52",
   "metadata": {},
   "outputs": [],
   "source": [
    "output_file = r\"C:/Users/emman/Downloads/PM2.5_Pollution_Data-Public/Scripts/Genetic_Data/New_Genetic_Data/allele_freq_chr1.csv.gz\"  # Replace with your desired location"
   ]
  },
  {
   "cell_type": "code",
   "execution_count": 54,
   "id": "b2c1d033-2edd-44e4-bc74-8eb06ed49db4",
   "metadata": {},
   "outputs": [
    {
     "name": "stdout",
     "output_type": "stream",
     "text": [
      "  chr      pos ref alt               alt_freq\n",
      "0   1  2172269   C   T  0.0009940357852882703\n",
      "1   1  2172295   A   C                    0.0\n",
      "2   1  2172355   G   A                    0.0\n",
      "3   1  2172432   C   T  0.0009940357852882703\n",
      "4   1  2172437   G   T                    0.0\n",
      "Index(['chr', 'pos', 'ref', 'alt', 'alt_freq'], dtype='object')\n",
      "(1800000, 5)\n"
     ]
    }
   ],
   "source": [
    "import pandas as pd\n",
    "\n",
    "# Load the compressed allele frequency file with low_memory=False to avoid dtype warnings\n",
    "allele_freq_df = pd.read_csv('allele_freq_chr1.csv.gz', compression='gzip', low_memory=False)\n",
    "\n",
    "# Now assign column names manually\n",
    "allele_freq_df.columns = ['chr', 'pos', 'ref', 'alt', 'alt_freq']\n",
    "\n",
    "# Print the first few rows of the dataset\n",
    "print(allele_freq_df.head())\n",
    "print(allele_freq_df.columns)\n",
    "print(allele_freq_df.shape)\n",
    "\n",
    "\n"
   ]
  },
  {
   "cell_type": "code",
   "execution_count": 55,
   "id": "eec431da-c993-49da-b08e-fd6860068720",
   "metadata": {},
   "outputs": [
    {
     "name": "stdout",
     "output_type": "stream",
     "text": [
      "         rsID  chr_name  chr_position effect_allele other_allele  \\\n",
      "0   rs2843152         1       2245570             G            C   \n",
      "1  rs35465346         1      22132518             G            A   \n",
      "2  rs28470722         1      38386727             G            A   \n",
      "3  rs11206510         1      55496039             T            C   \n",
      "4   rs9970807         1      56965664             C            T   \n",
      "\n",
      "   effect_weight  \n",
      "0      -0.027601  \n",
      "1       0.023934  \n",
      "2      -0.017493  \n",
      "3       0.029301  \n",
      "4       0.047003  \n",
      "Index(['rsID', 'chr_name', 'chr_position', 'effect_allele', 'other_allele',\n",
      "       'effect_weight'],\n",
      "      dtype='object')\n",
      "(1745179, 6)\n"
     ]
    }
   ],
   "source": [
    "import pandas as pd\n",
    "# Define the path to your gzipped scoring file\n",
    "pgs_scoring_file = \"C:/Users/emman/Downloads/PM2.5_Pollution_Data-Public/Scripts/Genetic_Data/New_Genetic_Data/PGS000018.txt.gz\"\n",
    "\n",
    "#Load the file using pandas with robust settings\n",
    "pgs_df = pd.read_csv(\n",
    "    pgs_scoring_file, ## File path\n",
    "    sep='\\t', ## Tab-separated values\n",
    "    compression='gzip', ## File is gzipped\n",
    "    comment='#',         # Skip all comment lines starting with '#'\n",
    "    engine='python', # More tolerant parser than default 'c'\n",
    "    on_bad_lines='skip' # Skip malformed lines instead of raising errors\n",
    ")\n",
    "\n",
    "#Display the first few rows of the parsed DataFrame\n",
    "print(pgs_df.head())\n",
    "print(pgs_df.columns)\n",
    "print(pgs_df.shape)\n",
    "\n"
   ]
  },
  {
   "cell_type": "code",
   "execution_count": 56,
   "id": "4ad5164b-1eb6-4808-8ea3-9c3434bea771",
   "metadata": {},
   "outputs": [
    {
     "name": "stdout",
     "output_type": "stream",
     "text": [
      "Genetic Data Columns: ['MarkerName', 'Allele1', 'Allele2', 'Freq1', 'FreqSE', 'MinFreq', 'MaxFreq', 'Effect', 'StdErr', 'P-value', 'Direction', 'HetISq', 'HetChiSq', 'HetDf', 'HetPVal', 'oldID', 'CHR', 'BP']\n",
      "PGS Columns: ['rsID', 'chr_name', 'chr_position', 'effect_allele', 'other_allele', 'effect_weight']\n",
      "(10118, 18)\n"
     ]
    }
   ],
   "source": [
    "print(\"Genetic Data Columns:\", significant_genetic_df.columns.tolist())\n",
    "print(\"PGS Columns:\", pgs_df.columns.tolist())\n",
    "print(significant_genetic_df.shape)\n"
   ]
  },
  {
   "cell_type": "code",
   "execution_count": 59,
   "id": "08d431b9-04e0-4491-825c-968ee82aaf18",
   "metadata": {},
   "outputs": [
    {
     "name": "stdout",
     "output_type": "stream",
     "text": [
      "✅ Merge complete: 1405 rows, 24 columns\n",
      "         MarkerName Allele1 Allele2   Freq1  FreqSE  MinFreq  MaxFreq  Effect  \\\n",
      "0  10:104604916_G_T       t       g  0.8895  0.0190   0.8715   0.9095  0.0579   \n",
      "1  10:104616663_C_T       t       c  0.8779  0.0251   0.8556   0.9061  0.0577   \n",
      "2  10:104628234_C_T       t       c  0.8819  0.0281   0.8518   0.9082  0.0647   \n",
      "3  10:104636655_C_G       c       g  0.1591  0.0169   0.1419   0.1756 -0.0397   \n",
      "4  10:104652323_C_T       t       c  0.1063  0.0197   0.0843   0.1240 -0.0658   \n",
      "\n",
      "   StdErr       P-value  ...  HetPVal       oldID  CHR         BP        rsID  \\\n",
      "0  0.0085  9.181000e-12  ...  0.41140  rs11191416   10  104604916  rs11191416   \n",
      "1  0.0081  8.495000e-13  ...  0.15160   rs4409766   10  104616663   rs4409766   \n",
      "2  0.0089  4.490000e-13  ...  0.03088   rs7098825   10  104628234   rs7098825   \n",
      "3  0.0071  2.008000e-08  ...  0.03632   rs3740393   10  104636655   rs3740393   \n",
      "4  0.0085  8.723000e-15  ...  0.27210  rs11191447   10  104652323  rs11191447   \n",
      "\n",
      "  chr_name  chr_position  effect_allele other_allele  effect_weight  \n",
      "0       10     104604916              T            G       0.031594  \n",
      "1       10     104616663              T            C       0.003671  \n",
      "2       10     104628234              T            C       0.000657  \n",
      "3       10     104636655              G            C       0.003152  \n",
      "4       10     104652323              C            T       0.000620  \n",
      "\n",
      "[5 rows x 24 columns]\n",
      "(1405, 24)\n"
     ]
    }
   ],
   "source": [
    "# Rule: Use a robust merge strategy to combine genetic data with PGS\n",
    "def merge_datasets(significant_genetic_df, pgs_df, left_col=\"oldID\", right_col=\"rsID\", how=\"inner\"):\n",
    "    # Ensure both columns exist before merging\n",
    "    if left_col not in genetic_df.columns:\n",
    "        raise KeyError(f\"❌ Column '{left_col}' not found in genetic data\")\n",
    "    if right_col not in pgs_df.columns:\n",
    "        raise KeyError(f\"❌ Column '{right_col}' not found in PGS scoring data\")\n",
    "    \n",
    "    # Perform the merge\n",
    "    merged = pd.merge(significant_genetic_df, pgs_df, left_on=left_col, right_on=right_col, how=how)\n",
    "    \n",
    "    print(f\"✅ Merge complete: {merged.shape[0]} rows, {merged.shape[1]} columns\")\n",
    "    return merged\n",
    "\n",
    "# Merge GWAS data with PGS\n",
    "merged_siggensummaryXprs_df = merge_datasets(significant_genetic_df, pgs_df)\n",
    "print(merged_siggensummaryXprs_df.head())\n",
    "print(merged_siggensummaryXprs_df.shape)\n"
   ]
  },
  {
   "cell_type": "code",
   "execution_count": 40,
   "id": "5b699c4c-ad3f-4522-8508-91dda90f445c",
   "metadata": {},
   "outputs": [
    {
     "name": "stdout",
     "output_type": "stream",
     "text": [
      "['2172269' '2172295' '2172355' ... '40850011' '40850047' '40850085']\n",
      "chr                             1\n",
      "pos                       2172269\n",
      "ref                             C\n",
      "alt                             T\n",
      "alt_freq    0.0009940357852882703\n",
      "Name: 0, dtype: object\n"
     ]
    }
   ],
   "source": [
    "print(allele_freq_df['pos'].unique())  # See unique values in 'pos'\n",
    "print(allele_freq_df.iloc[0])\n"
   ]
  },
  {
   "cell_type": "code",
   "execution_count": 60,
   "id": "545b800d-4aa4-4187-986c-463e6130e33f",
   "metadata": {},
   "outputs": [
    {
     "name": "stdout",
     "output_type": "stream",
     "text": [
      "✅ Merge complete: 10 rows, 29 columns\n",
      "\n",
      "📄 Preview:\n",
      "        MarkerName Allele1 Allele2   Freq1  FreqSE  MinFreq  MaxFreq  Effect  \\\n",
      "0  1:200646073_C_T       t       c  0.4715  0.0018   0.4697   0.4733 -0.0284   \n",
      "1    1:2252191_A_G       a       g  0.7811  0.0059   0.7728   0.7853 -0.0395   \n",
      "2    1:2252205_C_T       t       c  0.1483  0.0038   0.1428   0.1509  0.0469   \n",
      "3    1:2990994_C_T       t       c  0.3794  0.0090   0.3733   0.3925  0.0341   \n",
      "4    1:3328659_C_T       t       c  0.1381  0.0002   0.1379   0.1382  0.0436   \n",
      "\n",
      "   StdErr       P-value  ... chr_name  chr_position  effect_allele  \\\n",
      "0  0.0050  1.769000e-08  ...        1     200646073              C   \n",
      "1  0.0071  2.978000e-08  ...        1       2252191              A   \n",
      "2  0.0082  1.326000e-08  ...        1       2252205              C   \n",
      "3  0.0061  2.792000e-08  ...        1       2990994              C   \n",
      "4  0.0075  7.582000e-09  ...        1       3328659              C   \n",
      "\n",
      "   other_allele  effect_weight chr          pos  ref alt             alt_freq  \n",
      "0             T       0.001982   1  200646073.0    C   T  0.47713717693836977  \n",
      "1             G      -0.000337   1    2252191.0    A   G  0.21272365805168986  \n",
      "2             T      -0.000356   1    2252205.0    C   T    0.147117296222664  \n",
      "3             T      -0.000252   1    2990994.0    C   T   0.3827037773359841  \n",
      "4             T      -0.002242   1    3328659.0    C   T  0.16600397614314116  \n",
      "\n",
      "[5 rows x 29 columns]\n"
     ]
    }
   ],
   "source": [
    "import pandas as pd\n",
    "\n",
    "def merge_with_allele_freq(merged_siggensummaryXprs_df, allele_freq_df, left_cols=('CHR', 'BP'), right_cols=('chr', 'pos'), how='inner'):\n",
    "    # Ensure inputs are DataFrames\n",
    "    if not isinstance(merged_siggensummaryXprs_df, pd.DataFrame):\n",
    "        raise TypeError(\"❌ 'merged_df' must be a pandas DataFrame\")\n",
    "    if not isinstance(allele_freq_df, pd.DataFrame):\n",
    "        raise TypeError(\"❌ 'allele_freq_df' must be a pandas DataFrame\")\n",
    "    \n",
    "    # Check required columns exist in both DataFrames\n",
    "    for col in left_cols:\n",
    "        if col not in merged_siggensummaryXprs_df.columns:\n",
    "            raise KeyError(f\"❌ Column '{col}' not found in merged_df\")\n",
    "    for col in right_cols:\n",
    "        if col not in allele_freq_df.columns:\n",
    "            raise KeyError(f\"❌ Column '{col}' not found in allele_freq_df\")\n",
    "    \n",
    "    # Harmonize chromosome format (remove 'chr' prefix if needed)\n",
    "    merged_siggensummaryXprs_df[left_cols[0]] = merged_siggensummaryXprs_df[left_cols[0]].astype(str).str.replace('chr', '', case=False)\n",
    "    allele_freq_df[right_cols[0]] = allele_freq_df[right_cols[0]].astype(str).str.replace('chr', '', case=False)\n",
    "\n",
    "    #Drop header row if it exists inside allele_freq_df data ---\n",
    "    if allele_freq_df.iloc[0].astype(str).str.lower().isin(['chr', 'pos', 'ref', 'alt', 'alt_freq']).all():\n",
    "        allele_freq_df = allele_freq_df.drop(allele_freq_df.index[0]).reset_index(drop=True)\n",
    "    \n",
    "    # Safely convert positions to numeric with coercion and drop invalid rows\n",
    "    merged_siggensummaryXprs_df[left_cols[1]] = pd.to_numeric(merged_siggensummaryXprs_df[left_cols[1]], errors='coerce')\n",
    "    allele_freq_df[right_cols[1]] = pd.to_numeric(allele_freq_df[right_cols[1]], errors='coerce')\n",
    "    \n",
    "    # Remove rows with NaN values in the columns used for merging (optional but recommended)\n",
    "    merged_siggensummaryXprs_df = merged_siggensummaryXprs_df.dropna(subset=left_cols)\n",
    "    allele_freq_df = allele_freq_df.dropna(subset=right_cols)\n",
    "    \n",
    "    # Merge the data\n",
    "    full_merged_siggensummaryXprs_df = pd.merge(merged_siggensummaryXprs_df, allele_freq_df, left_on=left_cols, right_on=right_cols, how=how)\n",
    "    \n",
    "    print(f\"✅ Merge complete: {full_merged_siggensummaryXprs_df.shape[0]} rows, {full_merged_siggensummaryXprs_df.shape[1]} columns\")\n",
    "    print(\"\\n📄 Preview:\")\n",
    "    print(full_merged_siggensummaryXprs_df.head())\n",
    "    \n",
    "    return full_merged_siggensummaryXprs_df\n",
    "\n",
    "# Example usage:\n",
    "# Rename columns of allele_freq_df to match expectations\n",
    "allele_freq_df.columns = ['chr', 'pos', 'ref', 'alt', 'alt_freq']  # Rename columns accordingly\n",
    "\n",
    "# Now you can safely call the merge function\n",
    "merged_siggensummaryXprs_and_allele_freq_df = merge_with_allele_freq(merged_siggensummaryXprs_df, allele_freq_df, ('CHR', 'BP'), ('chr', 'pos'), 'inner')\n"
   ]
  },
  {
   "cell_type": "code",
   "execution_count": 72,
   "id": "afe7f636-ba8b-4418-b9f1-5fa36997e66a",
   "metadata": {},
   "outputs": [
    {
     "name": "stdout",
     "output_type": "stream",
     "text": [
      "(10, 29)\n"
     ]
    }
   ],
   "source": [
    "# Save the merged DataFrame to a compressed CSV file\n",
    "merged_siggensummaryXprs_and_allele_freq_df.to_csv('merged_siggensummaryXprs_and_allele_freq_data.csv.gz', index=False, compression='gzip')\n",
    "print(merged_siggensummaryXprs_and_allele_freq_df.shape)"
   ]
  },
  {
   "cell_type": "code",
   "execution_count": 71,
   "id": "36285025-c93a-43e0-ba61-86478cb37810",
   "metadata": {},
   "outputs": [
    {
     "name": "stdout",
     "output_type": "stream",
     "text": [
      "        MarkerName Allele1 Allele2   Freq1  FreqSE  MinFreq  MaxFreq  Effect  \\\n",
      "0  1:200646073_C_T       t       c  0.4715  0.0018   0.4697   0.4733 -0.0284   \n",
      "1    1:2252191_A_G       a       g  0.7811  0.0059   0.7728   0.7853 -0.0395   \n",
      "2    1:2252205_C_T       t       c  0.1483  0.0038   0.1428   0.1509  0.0469   \n",
      "3    1:2990994_C_T       t       c  0.3794  0.0090   0.3733   0.3925  0.0341   \n",
      "4    1:3328659_C_T       t       c  0.1381  0.0002   0.1379   0.1382  0.0436   \n",
      "\n",
      "   StdErr       P-value  ... chr_name  chr_position  effect_allele  \\\n",
      "0  0.0050  1.769000e-08  ...        1     200646073              C   \n",
      "1  0.0071  2.978000e-08  ...        1       2252191              A   \n",
      "2  0.0082  1.326000e-08  ...        1       2252205              C   \n",
      "3  0.0061  2.792000e-08  ...        1       2990994              C   \n",
      "4  0.0075  7.582000e-09  ...        1       3328659              C   \n",
      "\n",
      "   other_allele  effect_weight chr          pos  ref alt             alt_freq  \n",
      "0             T       0.001982   1  200646073.0    C   T  0.47713717693836977  \n",
      "1             G      -0.000337   1    2252191.0    A   G  0.21272365805168986  \n",
      "2             T      -0.000356   1    2252205.0    C   T    0.147117296222664  \n",
      "3             T      -0.000252   1    2990994.0    C   T   0.3827037773359841  \n",
      "4             T      -0.002242   1    3328659.0    C   T  0.16600397614314116  \n",
      "\n",
      "[5 rows x 29 columns]\n",
      "(10, 29)\n"
     ]
    }
   ],
   "source": [
    "import pandas as pd\n",
    "print(merged_siggensummaryXprs_and_allele_freq_df.head()) == pd.read_csv('merged_siggensummaryXprs_and_allele_freq_data.csv.gz', compression='gzip')\n",
    "\n",
    "print(merged_siggensummaryXprs_and_allele_freq_df.shape)"
   ]
  },
  {
   "cell_type": "code",
   "execution_count": 75,
   "id": "793e8a0c-ecba-44bf-b8ad-9860a2be3e7f",
   "metadata": {},
   "outputs": [
    {
     "name": "stdout",
     "output_type": "stream",
     "text": [
      "Index(['MarkerName', 'Allele1', 'Allele2', 'Freq1', 'FreqSE', 'MinFreq',\n",
      "       'MaxFreq', 'Effect', 'StdErr', 'P-value', 'Direction', 'HetISq',\n",
      "       'HetChiSq', 'HetDf', 'HetPVal', 'oldID', 'CHR', 'BP', 'rsID',\n",
      "       'chr_name', 'chr_position', 'effect_allele', 'other_allele',\n",
      "       'effect_weight', 'chr', 'pos', 'ref', 'alt', 'alt_freq'],\n",
      "      dtype='object')\n"
     ]
    }
   ],
   "source": [
    "# Check if 'alt_freq' is in the columns of the merged DataFrame\n",
    "print(merged_siggensummaryXprs_and_allele_freq_df.columns)\n"
   ]
  },
  {
   "cell_type": "code",
   "execution_count": 80,
   "id": "984b0708-283a-4150-aa20-b3c08e5b5edd",
   "metadata": {},
   "outputs": [
    {
     "name": "stdout",
     "output_type": "stream",
     "text": [
      "        MarkerName  Effect  alt_freq       PRS\n",
      "0  1:200646073_C_T -0.0284  0.477137 -0.027101\n",
      "1    1:2252191_A_G -0.0395  0.212724 -0.016805\n",
      "2    1:2252205_C_T  0.0469  0.147117  0.013800\n",
      "3    1:2990994_C_T  0.0341  0.382704  0.026100\n",
      "4    1:3328659_C_T  0.0436  0.166004  0.014476\n",
      "(10, 30)\n",
      "PRS calculation complete and saved to 'genetic_data_with_PRS.csv'.\n"
     ]
    }
   ],
   "source": [
    "# Calculate Polygenic Risk Score (PRS) based on effect sizes and allele frequencies\n",
    "# Assuming 'Effect' is the effect size and 'alt_freq' is the frequency of the alternative allele\n",
    "\n",
    "# Rule: Calculate PRS using the formula\n",
    "# PRS = sum(Effect_i * 2 * AltFreq_i) for each SNP\n",
    "\n",
    "# Ensure the columns are numeric and handle any non-numeric values\n",
    "merged_siggensummaryXprs_and_allele_freq_df['Effect'] = pd.to_numeric(merged_siggensummaryXprs_and_allele_freq_df['Effect'], errors='coerce')\n",
    "merged_siggensummaryXprs_and_allele_freq_df['alt_freq'] = pd.to_numeric(merged_siggensummaryXprs_and_allele_freq_df['alt_freq'], errors='coerce')\n",
    "\n",
    "# Calculate PRS using the formula: PRS = Effect * 2 * alt_freq\n",
    "merged_siggensummaryXprs_and_allele_freq_df['PRS'] = merged_siggensummaryXprs_and_allele_freq_df['Effect'] * 2 * merged_siggensummaryXprs_and_allele_freq_df['alt_freq']\n",
    "\n",
    "# Inspect the first few rows to ensure PRS is correctly calculated\n",
    "print(merged_siggensummaryXprs_and_allele_freq_df[['MarkerName', 'Effect', 'alt_freq', 'PRS']].head())\n",
    "print(merged_siggensummaryXprs_and_allele_freq_df.shape)\n",
    "# Save the PRS values to a new file for further use\n",
    "merged_siggensummaryXprs_and_allele_freq_df.to_csv('genetic_data_with_PRS.csv', index=False)\n",
    "\n",
    "print(\"PRS calculation complete and saved to 'genetic_data_with_PRS.csv'.\")\n"
   ]
  },
  {
   "cell_type": "code",
   "execution_count": 81,
   "id": "a36026d9-7603-42f7-b1ed-6bab99e514f4",
   "metadata": {},
   "outputs": [
    {
     "name": "stdout",
     "output_type": "stream",
     "text": [
      "count    10.000000\n",
      "mean     -0.000316\n",
      "std       0.027539\n",
      "min      -0.028149\n",
      "25%      -0.027091\n",
      "50%      -0.001503\n",
      "75%       0.023194\n",
      "max       0.039108\n",
      "Name: PRS, dtype: float64\n"
     ]
    }
   ],
   "source": [
    "#To verify that the PRS values make sense, you can check the distribution of PRS values (mean, standard deviation, min, max, etc.).\n",
    "print(merged_siggensummaryXprs_and_allele_freq_df['PRS'].describe())  # Get basic statistics of PRS\n"
   ]
  },
  {
   "cell_type": "markdown",
   "id": "bf9edb35-2367-4580-ad7c-47efcd3e6b33",
   "metadata": {},
   "source": [
    "Interpretation and Next Steps:\n",
    "\n",
    "The mean PRS being close to zero suggests that your SNPs have a balanced distribution of genetic risk, with no extreme shifts toward higher or lower genetic predisposition.\n",
    "\n",
    "The standard deviation indicates that while most SNPs contribute modestly to PRS, there are some SNPs that contribute much more or less (which is expected given the wide range between the minimum and maximum PRS values).\n",
    "\n",
    "Next Actions:"
   ]
  },
  {
   "cell_type": "code",
   "execution_count": 82,
   "id": "dc559c71-2074-4c22-bba0-a47d3e313e7a",
   "metadata": {},
   "outputs": [
    {
     "data": {
      "image/png": "[encoded data removed]",
      "text/plain": [
       "<Figure size 800x600 with 1 Axes>"
      ]
     },
     "metadata": {},
     "output_type": "display_data"
    }
   ],
   "source": [
    "import matplotlib.pyplot as plt\n",
    "\n",
    "# Plot histogram of PRS distribution\n",
    "plt.figure(figsize=(8, 6))\n",
    "plt.hist(merged_siggensummaryXprs_and_allele_freq_df['PRS'], bins=50, color='skyblue', edgecolor='black')\n",
    "plt.title('Distribution of Polygenic Risk Scores (PRS)', fontsize=14)\n",
    "plt.xlabel('PRS', fontsize=12)\n",
    "plt.ylabel('Frequency', fontsize=12)\n",
    "plt.grid(True)\n",
    "plt.show()\n",
    "\n",
    "#A histogram visualize the distribution of PRS values, showing the spread and any potential outliers."
   ]
  },
  {
   "cell_type": "code",
   "execution_count": 83,
   "id": "15c63379-cdfe-489c-a893-a1d957a422e0",
   "metadata": {},
   "outputs": [
    {
     "name": "stdout",
     "output_type": "stream",
     "text": [
      "Low PRS outliers: Empty DataFrame\n",
      "Columns: [MarkerName, Allele1, Allele2, Freq1, FreqSE, MinFreq, MaxFreq, Effect, StdErr, P-value, Direction, HetISq, HetChiSq, HetDf, HetPVal, oldID, CHR, BP, rsID, chr_name, chr_position, effect_allele, other_allele, effect_weight, chr, pos, ref, alt, alt_freq, PRS]\n",
      "Index: []\n",
      "\n",
      "[0 rows x 30 columns]\n",
      "High PRS outliers: Empty DataFrame\n",
      "Columns: [MarkerName, Allele1, Allele2, Freq1, FreqSE, MinFreq, MaxFreq, Effect, StdErr, P-value, Direction, HetISq, HetChiSq, HetDf, HetPVal, oldID, CHR, BP, rsID, chr_name, chr_position, effect_allele, other_allele, effect_weight, chr, pos, ref, alt, alt_freq, PRS]\n",
      "Index: []\n",
      "\n",
      "[0 rows x 30 columns]\n"
     ]
    }
   ],
   "source": [
    "# Identify rows with extreme PRS values\n",
    "outliers = merged_siggensummaryXprs_and_allele_freq_df[merged_siggensummaryXprs_and_allele_freq_df['PRS'] < -0.05]  # Example for low outliers\n",
    "print(\"Low PRS outliers:\", outliers)\n",
    "\n",
    "outliers = merged_siggensummaryXprs_and_allele_freq_df[merged_siggensummaryXprs_and_allele_freq_df['PRS'] > 0.05]  # Example for high outliers\n",
    "print(\"High PRS outliers:\", outliers)\n"
   ]
  },
  {
   "cell_type": "code",
   "execution_count": null,
   "id": "7d2dfd34-682f-4ebc-af6f-29173efcdb6d",
   "metadata": {},
   "outputs": [],
   "source": [
    "#normalize the PRS values to standardize them across the dataset, especially if they will be used in a machine learning model.\n",
    "# Normalize PRS to have zero mean and unit variance\n",
    "merged_full_df['PRS_normalized'] = (merged_full_df['PRS'] - merged_full_df['PRS'].mean()) / merged_full_df['PRS'].std()\n",
    "\n",
    "# Inspect the normalized PRS values\n",
    "print(merged_full_df[['MarkerName', 'PRS', 'PRS_normalized']].head())\n"
   ]
  },
  {
   "cell_type": "code",
   "execution_count": 52,
   "id": "e2828ce5-5573-4732-a24c-9f2384469afb",
   "metadata": {},
   "outputs": [
    {
     "name": "stdout",
     "output_type": "stream",
     "text": [
      "Number of low PRS outliers: 0\n",
      "Number of high PRS outliers: 0\n"
     ]
    }
   ],
   "source": [
    "low_outliers = merged_full_df[merged_full_df['PRS'] < -0.05]\n",
    "print(f\"Number of low PRS outliers: {low_outliers.shape[0]}\")\n",
    "\n",
    "high_outliers = merged_full_df[merged_full_df['PRS'] > 0.05]\n",
    "print(f\"Number of high PRS outliers: {high_outliers.shape[0]}\")\n"
   ]
  },
  {
   "cell_type": "code",
   "execution_count": 84,
   "id": "8252438f-73ea-43c8-a288-d206d7589645",
   "metadata": {},
   "outputs": [
    {
     "data": {
      "image/png": "[encoded data removed]",
      "text/plain": [
       "<Figure size 800x600 with 1 Axes>"
      ]
     },
     "metadata": {},
     "output_type": "display_data"
    }
   ],
   "source": [
    "import matplotlib.pyplot as plt\n",
    "\n",
    "plt.figure(figsize=(8, 6))\n",
    "plt.hist(merged_siggensummaryXprs_and_allele_freq_df['PRS'], bins=100, color='lightblue', edgecolor='black')\n",
    "plt.axvline(x=-0.05, color='red', linestyle='dashed', linewidth=1, label='Low outlier threshold')\n",
    "plt.axvline(x=0.05, color='green', linestyle='dashed', linewidth=1, label='High outlier threshold')\n",
    "plt.title('PRS Distribution with Outlier Thresholds')\n",
    "plt.xlabel('PRS')\n",
    "plt.ylabel('Frequency')\n",
    "plt.legend()\n",
    "plt.show()\n"
   ]
  },
  {
   "cell_type": "code",
   "execution_count": null,
   "id": "38c0f27c-e6ce-4aa2-8f8f-7bfcda182d5c",
   "metadata": {},
   "outputs": [],
   "source": []
  }
 ],
 "metadata": {
  "kernelspec": {
   "display_name": "Python 3 (ipykernel)",
   "language": "python",
   "name": "python3"
  },
  "language_info": {
   "codemirror_mode": {
    "name": "ipython",
    "version": 3
   },
   "file_extension": ".py",
   "mimetype": "text/x-python",
   "name": "python",
   "nbconvert_exporter": "python",
   "pygments_lexer": "ipython3",
   "version": "3.13.2"
  }
 },
 "nbformat": 4,
 "nbformat_minor": 5
}
